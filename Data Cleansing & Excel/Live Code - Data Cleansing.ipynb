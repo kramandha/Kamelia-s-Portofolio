{
 "cells": [
  {
   "cell_type": "markdown",
   "id": "30b8ca6b",
   "metadata": {},
   "source": [
    "\n",
    "Live Code 4\n",
    "\n",
    "Nama  : Kamelia Ramandha\n",
    "Batch : CODA-RMT-010\n",
    "\n",
    "Program ini dibuat untuk melakukan pengolahan data untuk membersihkan data OSN sebelum masuk fase analisa\n"
   ]
  },
  {
   "cell_type": "code",
   "execution_count": 30,
   "id": "957f53e1",
   "metadata": {},
   "outputs": [],
   "source": [
    "# Mengimport library pandas\n",
    "import pandas as pd"
   ]
  },
  {
   "cell_type": "code",
   "execution_count": 31,
   "id": "f97ed2f1",
   "metadata": {},
   "outputs": [
    {
     "data": {
      "text/html": [
       "<div>\n",
       "<style scoped>\n",
       "    .dataframe tbody tr th:only-of-type {\n",
       "        vertical-align: middle;\n",
       "    }\n",
       "\n",
       "    .dataframe tbody tr th {\n",
       "        vertical-align: top;\n",
       "    }\n",
       "\n",
       "    .dataframe thead th {\n",
       "        text-align: right;\n",
       "    }\n",
       "</style>\n",
       "<table border=\"1\" class=\"dataframe\">\n",
       "  <thead>\n",
       "    <tr style=\"text-align: right;\">\n",
       "      <th></th>\n",
       "      <th>Unnamed: 0</th>\n",
       "      <th>Nama Peserta</th>\n",
       "      <th>Gender</th>\n",
       "      <th>Sekolah</th>\n",
       "      <th>Provinsi</th>\n",
       "      <th>Kab/Kota</th>\n",
       "      <th>Bidang</th>\n",
       "      <th>Jenjang Lomba</th>\n",
       "      <th>Jenjang Sekolah</th>\n",
       "      <th>Kelas</th>\n",
       "      <th>Medali</th>\n",
       "      <th>Prize Tambahan</th>\n",
       "      <th>Tahun</th>\n",
       "    </tr>\n",
       "  </thead>\n",
       "  <tbody>\n",
       "    <tr>\n",
       "      <th>0</th>\n",
       "      <td>0</td>\n",
       "      <td>Gangsar Lintas Damai</td>\n",
       "      <td>L</td>\n",
       "      <td>MA Amanatul Ummah</td>\n",
       "      <td>Jawa Timur</td>\n",
       "      <td>Kota Surabaya</td>\n",
       "      <td>Biologi</td>\n",
       "      <td>SMA</td>\n",
       "      <td>SMA</td>\n",
       "      <td>11.0</td>\n",
       "      <td>Partisipan</td>\n",
       "      <td>NaN</td>\n",
       "      <td>2016</td>\n",
       "    </tr>\n",
       "    <tr>\n",
       "      <th>1</th>\n",
       "      <td>1</td>\n",
       "      <td>Muhammad Khairul Ihsan</td>\n",
       "      <td>L</td>\n",
       "      <td>MAN 1 Banda Aceh</td>\n",
       "      <td>Aceh</td>\n",
       "      <td>Kota Banda Aceh</td>\n",
       "      <td>Ekonomi</td>\n",
       "      <td>SMA</td>\n",
       "      <td>SMA</td>\n",
       "      <td>11.0</td>\n",
       "      <td>Partisipan</td>\n",
       "      <td>NaN</td>\n",
       "      <td>2021</td>\n",
       "    </tr>\n",
       "    <tr>\n",
       "      <th>2</th>\n",
       "      <td>2</td>\n",
       "      <td>Farhannur</td>\n",
       "      <td>L</td>\n",
       "      <td>MAN 1 Banda Aceh</td>\n",
       "      <td>Aceh</td>\n",
       "      <td>Kota Banda Aceh</td>\n",
       "      <td>Ekonomi</td>\n",
       "      <td>SMA</td>\n",
       "      <td>SMA</td>\n",
       "      <td>11.0</td>\n",
       "      <td>Emas</td>\n",
       "      <td>NaN</td>\n",
       "      <td>2022</td>\n",
       "    </tr>\n",
       "    <tr>\n",
       "      <th>3</th>\n",
       "      <td>3</td>\n",
       "      <td>Muhammad Fathoni</td>\n",
       "      <td>L</td>\n",
       "      <td>MAN 1 Banda Aceh</td>\n",
       "      <td>Aceh</td>\n",
       "      <td>Kota Banda Aceh</td>\n",
       "      <td>Fisika</td>\n",
       "      <td>SMA</td>\n",
       "      <td>SMA</td>\n",
       "      <td>11.0</td>\n",
       "      <td>Partisipan</td>\n",
       "      <td>NaN</td>\n",
       "      <td>2022</td>\n",
       "    </tr>\n",
       "    <tr>\n",
       "      <th>4</th>\n",
       "      <td>4</td>\n",
       "      <td>Rahmat MI</td>\n",
       "      <td>L</td>\n",
       "      <td>MAN 1 Banda Aceh</td>\n",
       "      <td>Aceh</td>\n",
       "      <td>Kota Banda Aceh</td>\n",
       "      <td>Kimia</td>\n",
       "      <td>SMA</td>\n",
       "      <td>SMA</td>\n",
       "      <td>11.0</td>\n",
       "      <td>Partisipan</td>\n",
       "      <td>NaN</td>\n",
       "      <td>2022</td>\n",
       "    </tr>\n",
       "    <tr>\n",
       "      <th>...</th>\n",
       "      <td>...</td>\n",
       "      <td>...</td>\n",
       "      <td>...</td>\n",
       "      <td>...</td>\n",
       "      <td>...</td>\n",
       "      <td>...</td>\n",
       "      <td>...</td>\n",
       "      <td>...</td>\n",
       "      <td>...</td>\n",
       "      <td>...</td>\n",
       "      <td>...</td>\n",
       "      <td>...</td>\n",
       "      <td>...</td>\n",
       "    </tr>\n",
       "    <tr>\n",
       "      <th>19322</th>\n",
       "      <td>19322</td>\n",
       "      <td>Fitri Julia Simamora</td>\n",
       "      <td>P</td>\n",
       "      <td>SMPN 4 Doloksanggul</td>\n",
       "      <td>Sumatera Utara</td>\n",
       "      <td>Kab. Humbang Hasundutan</td>\n",
       "      <td>Matematika</td>\n",
       "      <td>SMP</td>\n",
       "      <td>SMP</td>\n",
       "      <td>7.0</td>\n",
       "      <td>Partisipan</td>\n",
       "      <td>NaN</td>\n",
       "      <td>2024</td>\n",
       "    </tr>\n",
       "    <tr>\n",
       "      <th>19323</th>\n",
       "      <td>19323</td>\n",
       "      <td>Jonathan Kevin Aruan</td>\n",
       "      <td>L</td>\n",
       "      <td>SMPN 6 Sentajo</td>\n",
       "      <td>Riau</td>\n",
       "      <td>Kab. Kuantan Singingi</td>\n",
       "      <td>IPS</td>\n",
       "      <td>SMP</td>\n",
       "      <td>SMP</td>\n",
       "      <td>NaN</td>\n",
       "      <td>Partisipan</td>\n",
       "      <td>NaN</td>\n",
       "      <td>2016</td>\n",
       "    </tr>\n",
       "    <tr>\n",
       "      <th>19324</th>\n",
       "      <td>19324</td>\n",
       "      <td>Mely Winda Sihite</td>\n",
       "      <td>P</td>\n",
       "      <td>SMPN 4 Doloksanggul</td>\n",
       "      <td>Sumatera Utara</td>\n",
       "      <td>Kab. Humbang Hasundutan</td>\n",
       "      <td>Matematika</td>\n",
       "      <td>SMP</td>\n",
       "      <td>SMP</td>\n",
       "      <td>7.0</td>\n",
       "      <td>Partisipan</td>\n",
       "      <td>NaN</td>\n",
       "      <td>2024</td>\n",
       "    </tr>\n",
       "    <tr>\n",
       "      <th>19325</th>\n",
       "      <td>19325</td>\n",
       "      <td>Jelita Fazira</td>\n",
       "      <td>P</td>\n",
       "      <td>SMPN 4 Pantai Labu Satu Atap</td>\n",
       "      <td>Sumatera Utara</td>\n",
       "      <td>Kab. Deli Serdang</td>\n",
       "      <td>IPS</td>\n",
       "      <td>SMP</td>\n",
       "      <td>SMP</td>\n",
       "      <td>NaN</td>\n",
       "      <td>Partisipan</td>\n",
       "      <td>NaN</td>\n",
       "      <td>2021</td>\n",
       "    </tr>\n",
       "    <tr>\n",
       "      <th>19326</th>\n",
       "      <td>19326</td>\n",
       "      <td>Pether Kanisius Gajah</td>\n",
       "      <td>L</td>\n",
       "      <td>SMPN 4 Parlilitan</td>\n",
       "      <td>Sumatera Utara</td>\n",
       "      <td>Kab. Humbang Hasundutan</td>\n",
       "      <td>IPS</td>\n",
       "      <td>SMP</td>\n",
       "      <td>SMP</td>\n",
       "      <td>NaN</td>\n",
       "      <td>Partisipan</td>\n",
       "      <td>NaN</td>\n",
       "      <td>2020</td>\n",
       "    </tr>\n",
       "  </tbody>\n",
       "</table>\n",
       "<p>19327 rows × 13 columns</p>\n",
       "</div>"
      ],
      "text/plain": [
       "       Unnamed: 0            Nama Peserta Gender  \\\n",
       "0               0    Gangsar Lintas Damai      L   \n",
       "1               1  Muhammad Khairul Ihsan      L   \n",
       "2               2               Farhannur      L   \n",
       "3               3        Muhammad Fathoni      L   \n",
       "4               4               Rahmat MI      L   \n",
       "...           ...                     ...    ...   \n",
       "19322       19322    Fitri Julia Simamora      P   \n",
       "19323       19323    Jonathan Kevin Aruan      L   \n",
       "19324       19324       Mely Winda Sihite      P   \n",
       "19325       19325           Jelita Fazira      P   \n",
       "19326       19326   Pether Kanisius Gajah      L   \n",
       "\n",
       "                            Sekolah        Provinsi                 Kab/Kota  \\\n",
       "0                 MA Amanatul Ummah      Jawa Timur            Kota Surabaya   \n",
       "1                  MAN 1 Banda Aceh            Aceh          Kota Banda Aceh   \n",
       "2                  MAN 1 Banda Aceh            Aceh          Kota Banda Aceh   \n",
       "3                  MAN 1 Banda Aceh            Aceh          Kota Banda Aceh   \n",
       "4                  MAN 1 Banda Aceh            Aceh          Kota Banda Aceh   \n",
       "...                             ...             ...                      ...   \n",
       "19322           SMPN 4 Doloksanggul  Sumatera Utara  Kab. Humbang Hasundutan   \n",
       "19323                SMPN 6 Sentajo            Riau    Kab. Kuantan Singingi   \n",
       "19324           SMPN 4 Doloksanggul  Sumatera Utara  Kab. Humbang Hasundutan   \n",
       "19325  SMPN 4 Pantai Labu Satu Atap  Sumatera Utara        Kab. Deli Serdang   \n",
       "19326             SMPN 4 Parlilitan  Sumatera Utara  Kab. Humbang Hasundutan   \n",
       "\n",
       "           Bidang Jenjang Lomba Jenjang Sekolah  Kelas      Medali  \\\n",
       "0         Biologi           SMA             SMA   11.0  Partisipan   \n",
       "1         Ekonomi           SMA             SMA   11.0  Partisipan   \n",
       "2         Ekonomi           SMA             SMA   11.0        Emas   \n",
       "3          Fisika           SMA             SMA   11.0  Partisipan   \n",
       "4           Kimia           SMA             SMA   11.0  Partisipan   \n",
       "...           ...           ...             ...    ...         ...   \n",
       "19322  Matematika           SMP             SMP    7.0  Partisipan   \n",
       "19323         IPS           SMP             SMP    NaN  Partisipan   \n",
       "19324  Matematika           SMP             SMP    7.0  Partisipan   \n",
       "19325         IPS           SMP             SMP    NaN  Partisipan   \n",
       "19326         IPS           SMP             SMP    NaN  Partisipan   \n",
       "\n",
       "      Prize Tambahan  Tahun  \n",
       "0                NaN   2016  \n",
       "1                NaN   2021  \n",
       "2                NaN   2022  \n",
       "3                NaN   2022  \n",
       "4                NaN   2022  \n",
       "...              ...    ...  \n",
       "19322            NaN   2024  \n",
       "19323            NaN   2016  \n",
       "19324            NaN   2024  \n",
       "19325            NaN   2021  \n",
       "19326            NaN   2020  \n",
       "\n",
       "[19327 rows x 13 columns]"
      ]
     },
     "execution_count": 31,
     "metadata": {},
     "output_type": "execute_result"
    }
   ],
   "source": [
    "# Membuka file csv dari folder offline komputer\n",
    "df = pd.read_csv('/Users/kramandha/Downloads/osn.csv')\n",
    "\n",
    "df"
   ]
  },
  {
   "cell_type": "code",
   "execution_count": 32,
   "id": "9e9224e2",
   "metadata": {},
   "outputs": [
    {
     "name": "stdout",
     "output_type": "stream",
     "text": [
      "<class 'pandas.core.frame.DataFrame'>\n",
      "RangeIndex: 19327 entries, 0 to 19326\n",
      "Data columns (total 13 columns):\n",
      " #   Column           Non-Null Count  Dtype  \n",
      "---  ------           --------------  -----  \n",
      " 0   Unnamed: 0       19327 non-null  int64  \n",
      " 1   Nama Peserta     19327 non-null  object \n",
      " 2   Gender           19327 non-null  object \n",
      " 3   Sekolah          19327 non-null  object \n",
      " 4   Provinsi         19327 non-null  object \n",
      " 5   Kab/Kota         19327 non-null  object \n",
      " 6   Bidang           19327 non-null  object \n",
      " 7   Jenjang Lomba    19327 non-null  object \n",
      " 8   Jenjang Sekolah  19327 non-null  object \n",
      " 9   Kelas            14852 non-null  float64\n",
      " 10  Medali           19327 non-null  object \n",
      " 11  Prize Tambahan   221 non-null    object \n",
      " 12  Tahun            19327 non-null  int64  \n",
      "dtypes: float64(1), int64(2), object(10)\n",
      "memory usage: 1.9+ MB\n"
     ]
    }
   ],
   "source": [
    "# Melihat informasi data secara keseluruhan\n",
    "df.info()"
   ]
  },
  {
   "cell_type": "code",
   "execution_count": 33,
   "id": "405ed38f",
   "metadata": {},
   "outputs": [
    {
     "data": {
      "text/plain": [
       "Unnamed: 0         19327\n",
       "Nama Peserta       16057\n",
       "Gender                 2\n",
       "Sekolah             4166\n",
       "Provinsi              39\n",
       "Kab/Kota             488\n",
       "Bidang                11\n",
       "Jenjang Lomba          2\n",
       "Jenjang Sekolah        2\n",
       "Kelas                  5\n",
       "Medali                 5\n",
       "Prize Tambahan       110\n",
       "Tahun                 16\n",
       "dtype: int64"
      ]
     },
     "execution_count": 33,
     "metadata": {},
     "output_type": "execute_result"
    }
   ],
   "source": [
    "# Melihat jumlah data unik pada setiap kolom\n",
    "df.nunique()"
   ]
  },
  {
   "cell_type": "code",
   "execution_count": 34,
   "id": "0d57070e",
   "metadata": {},
   "outputs": [],
   "source": [
    "# Menghapus kolom Unnamed : 0 karena tidak diperlukan dan hanya menunjukan index, bukan id\n",
    "\n",
    "df = df.drop(columns=['Unnamed: 0'])"
   ]
  },
  {
   "cell_type": "code",
   "execution_count": 35,
   "id": "dd1d0f85",
   "metadata": {},
   "outputs": [
    {
     "data": {
      "text/plain": [
       "np.int64(0)"
      ]
     },
     "execution_count": 35,
     "metadata": {},
     "output_type": "execute_result"
    }
   ],
   "source": [
    "# Melihat banyaknya data yang duplikat\n",
    "df.duplicated().sum()"
   ]
  },
  {
   "cell_type": "code",
   "execution_count": 36,
   "id": "060a3549",
   "metadata": {},
   "outputs": [
    {
     "data": {
      "text/plain": [
       "Nama Peserta           0\n",
       "Gender                 0\n",
       "Sekolah                0\n",
       "Provinsi               0\n",
       "Kab/Kota               0\n",
       "Bidang                 0\n",
       "Jenjang Lomba          0\n",
       "Jenjang Sekolah        0\n",
       "Kelas               4475\n",
       "Medali                 0\n",
       "Prize Tambahan     19106\n",
       "Tahun                  0\n",
       "dtype: int64"
      ]
     },
     "execution_count": 36,
     "metadata": {},
     "output_type": "execute_result"
    }
   ],
   "source": [
    "# Melihat data yang null\n",
    "df.isnull().sum()"
   ]
  },
  {
   "cell_type": "code",
   "execution_count": 37,
   "id": "2e55b23e",
   "metadata": {},
   "outputs": [
    {
     "data": {
      "text/plain": [
       "Nama Peserta           0\n",
       "Gender                 0\n",
       "Sekolah                0\n",
       "Provinsi               0\n",
       "Kab/Kota               0\n",
       "Bidang                 0\n",
       "Jenjang Lomba          0\n",
       "Jenjang Sekolah        0\n",
       "Kelas                  0\n",
       "Medali                 0\n",
       "Prize Tambahan     14637\n",
       "Tahun                  0\n",
       "dtype: int64"
      ]
     },
     "execution_count": 37,
     "metadata": {},
     "output_type": "execute_result"
    }
   ],
   "source": [
    "# Mengahpus data yang missing pada kolom kelas\n",
    "df = df.dropna(subset=['Kelas'])\n",
    "\n",
    "# Melihat kembali data yang null\n",
    "df.isnull().sum()"
   ]
  },
  {
   "cell_type": "markdown",
   "id": "bb404a0d",
   "metadata": {},
   "source": [
    "Data nul pada prize tambahan tidak dihapus karena tidak semua partisipan mendapatkan prize tambahan. Jika dihapus nantinya akan memfilter data dan hanya menangkap data orang-orang yang memiliki prize tambahan"
   ]
  },
  {
   "cell_type": "code",
   "execution_count": 38,
   "id": "0c354ac2",
   "metadata": {},
   "outputs": [
    {
     "data": {
      "text/plain": [
       "Provinsi\n",
       "Jawa Tengah            1503\n",
       "DKI Jakarta            1420\n",
       "Jawa Timur             1393\n",
       "Jawa Barat             1272\n",
       "Banten                  847\n",
       "DI Yogyakarta           687\n",
       "Sumatera Utara          588\n",
       "Riau                    532\n",
       "Bali                    530\n",
       "Sumatera Barat          523\n",
       "Sulawesi Selatan        374\n",
       "Sumatera Selatan        367\n",
       "Lampung                 365\n",
       "Jambi                   297\n",
       "Kalimantan Barat        296\n",
       "Kalimantan Timur        295\n",
       "Aceh                    277\n",
       "Nusa Tenggara Barat     252\n",
       "Sulawesi Utara          240\n",
       "Kepulauan Riau          232\n",
       "Gorontalo               228\n",
       "Kalimantan Selatan      209\n",
       "Sulawesi Tengah         209\n",
       "Sulawesi Tenggara       194\n",
       "Bangka Belitung         181\n",
       "Bengkulu                179\n",
       "Kalimantan Tengah       176\n",
       "Maluku                  175\n",
       "Papua                   174\n",
       "Nusa Tenggara Timur     170\n",
       "Maluku Utara            166\n",
       "Sulawesi Barat          161\n",
       "Papua Barat             152\n",
       "Kalimantan Utara         97\n",
       "Luar Negeri              38\n",
       "Papua Tengah             15\n",
       "Papua Barat Daya         14\n",
       "Papua Pegunungan         12\n",
       "Papua Selatan            12\n",
       "Name: count, dtype: int64"
      ]
     },
     "execution_count": 38,
     "metadata": {},
     "output_type": "execute_result"
    }
   ],
   "source": [
    "# Melihat dan menghitung data pada kolom Provinsi\n",
    "df['Provinsi'].value_counts()"
   ]
  },
  {
   "cell_type": "code",
   "execution_count": 39,
   "id": "25416ee4",
   "metadata": {},
   "outputs": [
    {
     "data": {
      "text/plain": [
       "Kab/Kota\n",
       "Kota Tangerang Selatan    502\n",
       "Kota Pekanbaru            446\n",
       "Kota Surabaya             415\n",
       "Kota Yogyakarta           383\n",
       "Kota Semarang             369\n",
       "                         ... \n",
       "Kab. Bombana                1\n",
       "Kab. Seluma                 1\n",
       "Kab. Aceh Jaya              1\n",
       "Kab. Bima                   1\n",
       "Kab. Langkat                1\n",
       "Name: count, Length: 445, dtype: int64"
      ]
     },
     "execution_count": 39,
     "metadata": {},
     "output_type": "execute_result"
    }
   ],
   "source": [
    "# Melihat dan menghitung data pada kolom Kab/Kota\n",
    "df['Kab/Kota'].value_counts()"
   ]
  },
  {
   "cell_type": "code",
   "execution_count": 40,
   "id": "4332217a",
   "metadata": {},
   "outputs": [
    {
     "data": {
      "text/plain": [
       "Bidang\n",
       "Matematika     2496\n",
       "Fisika         1687\n",
       "Biologi        1685\n",
       "Informatika    1436\n",
       "Kebumian       1423\n",
       "Ekonomi        1405\n",
       "Astronomi      1378\n",
       "Kimia          1371\n",
       "Geografi       1012\n",
       "IPA             515\n",
       "IPS             444\n",
       "Name: count, dtype: int64"
      ]
     },
     "execution_count": 40,
     "metadata": {},
     "output_type": "execute_result"
    }
   ],
   "source": [
    "# Melihat dan menghitung data pada kolom Bidang\n",
    "df['Bidang'].value_counts()"
   ]
  },
  {
   "cell_type": "code",
   "execution_count": 41,
   "id": "591988de",
   "metadata": {},
   "outputs": [
    {
     "data": {
      "text/plain": [
       "Jenjang Lomba\n",
       "SMA    12325\n",
       "SMP     2527\n",
       "Name: count, dtype: int64"
      ]
     },
     "execution_count": 41,
     "metadata": {},
     "output_type": "execute_result"
    }
   ],
   "source": [
    "# Melihat dan menghitung data pada kolom jenjang lomba\n",
    "df['Jenjang Lomba'].value_counts()"
   ]
  },
  {
   "cell_type": "code",
   "execution_count": 42,
   "id": "bd7cfb5b",
   "metadata": {},
   "outputs": [
    {
     "data": {
      "text/plain": [
       "Jenjang Sekolah\n",
       "SMA    11934\n",
       "SMP     2918\n",
       "Name: count, dtype: int64"
      ]
     },
     "execution_count": 42,
     "metadata": {},
     "output_type": "execute_result"
    }
   ],
   "source": [
    "# Melihat dan menghitung data pada kolom jenjang sekolah\n",
    "df['Jenjang Sekolah'].value_counts()"
   ]
  },
  {
   "cell_type": "markdown",
   "id": "6db8e01f",
   "metadata": {},
   "source": [
    "Jenjang Lomba dan Jenjang Sekolah bisa berbeda, karena ada beberapa siswa SMP yang mengikuti jenjang lomba SMA, maka data tidak harus dibersihkan"
   ]
  },
  {
   "cell_type": "code",
   "execution_count": 43,
   "id": "6401a4e2",
   "metadata": {},
   "outputs": [
    {
     "data": {
      "text/plain": [
       "Nama Peserta\n",
       "Nicholas Eric Syuhendra           5\n",
       "Muhammad Ikhsan (2)               5\n",
       "Clifton Felix                     5\n",
       "Syihabuddin Yahya Muhammad        5\n",
       "Galih Rineksa                     5\n",
       "                                 ..\n",
       "Fauziyah Aulia Rachim             1\n",
       "L. Muhammad Fadlul Hadi Wibawa    1\n",
       "Ayusti Putri Hijriyanti           1\n",
       "Yohanes P Nira                    1\n",
       "Mely Winda Sihite                 1\n",
       "Name: count, Length: 11582, dtype: int64"
      ]
     },
     "execution_count": 43,
     "metadata": {},
     "output_type": "execute_result"
    }
   ],
   "source": [
    "# Mengecek data nama peserta karena ada kemungkinan duplikat\n",
    "df['Nama Peserta'].value_counts()"
   ]
  },
  {
   "cell_type": "code",
   "execution_count": 44,
   "id": "faa21949",
   "metadata": {},
   "outputs": [
    {
     "data": {
      "text/html": [
       "<div>\n",
       "<style scoped>\n",
       "    .dataframe tbody tr th:only-of-type {\n",
       "        vertical-align: middle;\n",
       "    }\n",
       "\n",
       "    .dataframe tbody tr th {\n",
       "        vertical-align: top;\n",
       "    }\n",
       "\n",
       "    .dataframe thead th {\n",
       "        text-align: right;\n",
       "    }\n",
       "</style>\n",
       "<table border=\"1\" class=\"dataframe\">\n",
       "  <thead>\n",
       "    <tr style=\"text-align: right;\">\n",
       "      <th></th>\n",
       "      <th>Nama Peserta</th>\n",
       "      <th>Gender</th>\n",
       "      <th>Sekolah</th>\n",
       "      <th>Provinsi</th>\n",
       "      <th>Kab/Kota</th>\n",
       "      <th>Bidang</th>\n",
       "      <th>Jenjang Lomba</th>\n",
       "      <th>Jenjang Sekolah</th>\n",
       "      <th>Kelas</th>\n",
       "      <th>Medali</th>\n",
       "      <th>Prize Tambahan</th>\n",
       "      <th>Tahun</th>\n",
       "    </tr>\n",
       "  </thead>\n",
       "  <tbody>\n",
       "    <tr>\n",
       "      <th>6854</th>\n",
       "      <td>Muhammad Ikhsan (1)</td>\n",
       "      <td>L</td>\n",
       "      <td>SMAN 1 Padang</td>\n",
       "      <td>Sumatera Barat</td>\n",
       "      <td>Kota Padang</td>\n",
       "      <td>Kimia</td>\n",
       "      <td>SMA</td>\n",
       "      <td>SMA</td>\n",
       "      <td>11.0</td>\n",
       "      <td>Partisipan</td>\n",
       "      <td>NaN</td>\n",
       "      <td>2010</td>\n",
       "    </tr>\n",
       "  </tbody>\n",
       "</table>\n",
       "</div>"
      ],
      "text/plain": [
       "             Nama Peserta Gender        Sekolah        Provinsi     Kab/Kota  \\\n",
       "6854  Muhammad Ikhsan (1)      L  SMAN 1 Padang  Sumatera Barat  Kota Padang   \n",
       "\n",
       "     Bidang Jenjang Lomba Jenjang Sekolah  Kelas      Medali Prize Tambahan  \\\n",
       "6854  Kimia           SMA             SMA   11.0  Partisipan            NaN   \n",
       "\n",
       "      Tahun  \n",
       "6854   2010  "
      ]
     },
     "execution_count": 44,
     "metadata": {},
     "output_type": "execute_result"
    }
   ],
   "source": [
    "df[(df['Nama Peserta'] == 'Muhammad Ikhsan (1)')]"
   ]
  },
  {
   "cell_type": "code",
   "execution_count": 45,
   "id": "4ad5bd93",
   "metadata": {},
   "outputs": [
    {
     "data": {
      "text/html": [
       "<div>\n",
       "<style scoped>\n",
       "    .dataframe tbody tr th:only-of-type {\n",
       "        vertical-align: middle;\n",
       "    }\n",
       "\n",
       "    .dataframe tbody tr th {\n",
       "        vertical-align: top;\n",
       "    }\n",
       "\n",
       "    .dataframe thead th {\n",
       "        text-align: right;\n",
       "    }\n",
       "</style>\n",
       "<table border=\"1\" class=\"dataframe\">\n",
       "  <thead>\n",
       "    <tr style=\"text-align: right;\">\n",
       "      <th></th>\n",
       "      <th>Nama Peserta</th>\n",
       "      <th>Gender</th>\n",
       "      <th>Sekolah</th>\n",
       "      <th>Provinsi</th>\n",
       "      <th>Kab/Kota</th>\n",
       "      <th>Bidang</th>\n",
       "      <th>Jenjang Lomba</th>\n",
       "      <th>Jenjang Sekolah</th>\n",
       "      <th>Kelas</th>\n",
       "      <th>Medali</th>\n",
       "      <th>Prize Tambahan</th>\n",
       "      <th>Tahun</th>\n",
       "    </tr>\n",
       "  </thead>\n",
       "  <tbody>\n",
       "    <tr>\n",
       "      <th>4098</th>\n",
       "      <td>Muhammad Ikhsan (2)</td>\n",
       "      <td>L</td>\n",
       "      <td>SMA Kharisma Bangsa</td>\n",
       "      <td>Banten</td>\n",
       "      <td>Kota Tangerang Selatan</td>\n",
       "      <td>Biologi</td>\n",
       "      <td>SMA</td>\n",
       "      <td>SMA</td>\n",
       "      <td>11.0</td>\n",
       "      <td>Emas</td>\n",
       "      <td>NaN</td>\n",
       "      <td>2016</td>\n",
       "    </tr>\n",
       "    <tr>\n",
       "      <th>4124</th>\n",
       "      <td>Muhammad Ikhsan (2)</td>\n",
       "      <td>L</td>\n",
       "      <td>SMA Kharisma Bangsa</td>\n",
       "      <td>Banten</td>\n",
       "      <td>Kota Tangerang Selatan</td>\n",
       "      <td>Biologi</td>\n",
       "      <td>SMA</td>\n",
       "      <td>SMA</td>\n",
       "      <td>10.0</td>\n",
       "      <td>Perak</td>\n",
       "      <td>NaN</td>\n",
       "      <td>2015</td>\n",
       "    </tr>\n",
       "    <tr>\n",
       "      <th>16666</th>\n",
       "      <td>Muhammad Ikhsan (2)</td>\n",
       "      <td>L</td>\n",
       "      <td>SMPN 1 Padang</td>\n",
       "      <td>Sumatera Barat</td>\n",
       "      <td>Kota Padang</td>\n",
       "      <td>Biologi</td>\n",
       "      <td>SMA</td>\n",
       "      <td>SMA</td>\n",
       "      <td>9.0</td>\n",
       "      <td>Partisipan</td>\n",
       "      <td>NaN</td>\n",
       "      <td>2014</td>\n",
       "    </tr>\n",
       "    <tr>\n",
       "      <th>16667</th>\n",
       "      <td>Muhammad Ikhsan (2)</td>\n",
       "      <td>L</td>\n",
       "      <td>SMPN 1 Padang</td>\n",
       "      <td>Sumatera Barat</td>\n",
       "      <td>Kota Padang</td>\n",
       "      <td>Biologi</td>\n",
       "      <td>SMP</td>\n",
       "      <td>SMP</td>\n",
       "      <td>7.0</td>\n",
       "      <td>Partisipan</td>\n",
       "      <td>NaN</td>\n",
       "      <td>2012</td>\n",
       "    </tr>\n",
       "    <tr>\n",
       "      <th>16669</th>\n",
       "      <td>Muhammad Ikhsan (2)</td>\n",
       "      <td>L</td>\n",
       "      <td>SMPN 1 Padang</td>\n",
       "      <td>Sumatera Barat</td>\n",
       "      <td>Kota Padang</td>\n",
       "      <td>Biologi</td>\n",
       "      <td>SMP</td>\n",
       "      <td>SMP</td>\n",
       "      <td>8.0</td>\n",
       "      <td>Perak</td>\n",
       "      <td>NaN</td>\n",
       "      <td>2013</td>\n",
       "    </tr>\n",
       "  </tbody>\n",
       "</table>\n",
       "</div>"
      ],
      "text/plain": [
       "              Nama Peserta Gender              Sekolah        Provinsi  \\\n",
       "4098   Muhammad Ikhsan (2)      L  SMA Kharisma Bangsa          Banten   \n",
       "4124   Muhammad Ikhsan (2)      L  SMA Kharisma Bangsa          Banten   \n",
       "16666  Muhammad Ikhsan (2)      L        SMPN 1 Padang  Sumatera Barat   \n",
       "16667  Muhammad Ikhsan (2)      L        SMPN 1 Padang  Sumatera Barat   \n",
       "16669  Muhammad Ikhsan (2)      L        SMPN 1 Padang  Sumatera Barat   \n",
       "\n",
       "                     Kab/Kota   Bidang Jenjang Lomba Jenjang Sekolah  Kelas  \\\n",
       "4098   Kota Tangerang Selatan  Biologi           SMA             SMA   11.0   \n",
       "4124   Kota Tangerang Selatan  Biologi           SMA             SMA   10.0   \n",
       "16666             Kota Padang  Biologi           SMA             SMA    9.0   \n",
       "16667             Kota Padang  Biologi           SMP             SMP    7.0   \n",
       "16669             Kota Padang  Biologi           SMP             SMP    8.0   \n",
       "\n",
       "           Medali Prize Tambahan  Tahun  \n",
       "4098         Emas            NaN   2016  \n",
       "4124        Perak            NaN   2015  \n",
       "16666  Partisipan            NaN   2014  \n",
       "16667  Partisipan            NaN   2012  \n",
       "16669       Perak            NaN   2013  "
      ]
     },
     "execution_count": 45,
     "metadata": {},
     "output_type": "execute_result"
    }
   ],
   "source": [
    "df[(df['Nama Peserta'] == 'Muhammad Ikhsan (2)')]"
   ]
  },
  {
   "cell_type": "markdown",
   "id": "a27d57dc",
   "metadata": {},
   "source": [
    "Terdapat beberapa siswa yang namanya muncul beberapa kali, namun setelah ditelaah, hal ini dikarenakan mereka mengikuti OSN lebih dari 1 kali dan bukan hasul data duplikat"
   ]
  },
  {
   "cell_type": "code",
   "execution_count": 46,
   "id": "affe2bc1",
   "metadata": {},
   "outputs": [],
   "source": [
    "# Menyimpan dataset yang telah dibersihkan ke file CSV\n",
    "df.to_csv(\"osn_clean.csv\", index=False)"
   ]
  }
 ],
 "metadata": {
  "kernelspec": {
   "display_name": "base",
   "language": "python",
   "name": "python3"
  },
  "language_info": {
   "codemirror_mode": {
    "name": "ipython",
    "version": 3
   },
   "file_extension": ".py",
   "mimetype": "text/x-python",
   "name": "python",
   "nbconvert_exporter": "python",
   "pygments_lexer": "ipython3",
   "version": "3.13.5"
  }
 },
 "nbformat": 4,
 "nbformat_minor": 5
}
