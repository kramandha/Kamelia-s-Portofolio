{
 "cells": [
  {
   "cell_type": "markdown",
   "id": "0864bb17",
   "metadata": {},
   "source": [
    "# **Milestone 2**\n",
    "\n",
    "**Nama:** Kamelia Ramandha  \n",
    "**Batch:** CODA-RMT-010  \n",
    "\n",
    "Program ini dibuat untuk melakukan **analisis deskriptif dan inferensial** terhadap data *Employee Attrition* dengan tujuan untuk **mengidentifikasi faktor-faktor yang memengaruhi keputusan karyawan untuk keluar dari perusahaan**.  \n",
    "\n",
    "Melalui analisis ini, diharapkan dapat diperoleh **insight yang membantu perusahaan dalam menekan tingkat attrition** serta meningkatkan **kepuasan dan retensi karyawan**.\n"
   ]
  },
  {
   "cell_type": "markdown",
   "id": "5fe994e1",
   "metadata": {},
   "source": [
    "## Problem Identification\n",
    "\n",
    "In 2023, **Company A** faced a relatively high rate of employee attrition. This condition led to an increase in overall staff costs due to higher hiring expenses and declining organizational productivity. To address this issue, the CEO assigned the **HR Analytics team** to conduct an in-depth analysis to identify the causes of attrition and understand the demographic profile of employees who decided to leave.\n",
    "\n",
    "The objective of this project is to **identify the factors influencing employee attrition** and to **map out the characteristics of employees who are more likely to leave** Company A during the year 2023.\n",
    "\n",
    "More specifically, this analysis aims to answer the following research questions:\n",
    "1. What are the key demographic characteristics (Age, Monthly Income, Total Working Years, Years at Company, Performance Rating) of employees who left compared to those who stayed?  \n",
    "2. How is the attrition rate distributed across different departments?  \n",
    "3. What are the differences in attrition patterns based on gender?  \n",
    "4. Do employees who work overtime tend to have a higher likelihood of attrition compared to those who do not?  \n",
    "5. Does the distance from home influence employees’ decisions to leave the company?  \n",
    "6. Can Job Satisfaction predict Attrition? (using Logistic Regression analysis)\n"
   ]
  },
  {
   "cell_type": "markdown",
   "id": "d0408e04",
   "metadata": {},
   "source": [
    "## Data Loading"
   ]
  },
  {
   "cell_type": "code",
   "execution_count": 31,
   "id": "9c5ae16d",
   "metadata": {},
   "outputs": [],
   "source": [
    "# Mengimport library yang dibutuhkan\n",
    "import pandas as pd\n",
    "import numpy as np\n",
    "from scipy import stats\n",
    "import matplotlib.pyplot as plt\n",
    "import seaborn as sns\n",
    "from IPython.display import display, HTML"
   ]
  },
  {
   "cell_type": "code",
   "execution_count": 32,
   "id": "8470c5c4",
   "metadata": {},
   "outputs": [],
   "source": [
    "df = pd.read_csv('HR-Employee-Attrition.csv')"
   ]
  },
  {
   "cell_type": "code",
   "execution_count": 33,
   "id": "618b9fcd",
   "metadata": {},
   "outputs": [
    {
     "data": {
      "text/html": [
       "<div>\n",
       "<style scoped>\n",
       "    .dataframe tbody tr th:only-of-type {\n",
       "        vertical-align: middle;\n",
       "    }\n",
       "\n",
       "    .dataframe tbody tr th {\n",
       "        vertical-align: top;\n",
       "    }\n",
       "\n",
       "    .dataframe thead th {\n",
       "        text-align: right;\n",
       "    }\n",
       "</style>\n",
       "<table border=\"1\" class=\"dataframe\">\n",
       "  <thead>\n",
       "    <tr style=\"text-align: right;\">\n",
       "      <th></th>\n",
       "      <th>Age</th>\n",
       "      <th>Attrition</th>\n",
       "      <th>BusinessTravel</th>\n",
       "      <th>DailyRate</th>\n",
       "      <th>Department</th>\n",
       "      <th>DistanceFromHome</th>\n",
       "      <th>Education</th>\n",
       "      <th>EducationField</th>\n",
       "      <th>EmployeeCount</th>\n",
       "      <th>EmployeeNumber</th>\n",
       "      <th>...</th>\n",
       "      <th>RelationshipSatisfaction</th>\n",
       "      <th>StandardHours</th>\n",
       "      <th>StockOptionLevel</th>\n",
       "      <th>TotalWorkingYears</th>\n",
       "      <th>TrainingTimesLastYear</th>\n",
       "      <th>WorkLifeBalance</th>\n",
       "      <th>YearsAtCompany</th>\n",
       "      <th>YearsInCurrentRole</th>\n",
       "      <th>YearsSinceLastPromotion</th>\n",
       "      <th>YearsWithCurrManager</th>\n",
       "    </tr>\n",
       "  </thead>\n",
       "  <tbody>\n",
       "    <tr>\n",
       "      <th>0</th>\n",
       "      <td>41</td>\n",
       "      <td>Yes</td>\n",
       "      <td>Travel_Rarely</td>\n",
       "      <td>1102</td>\n",
       "      <td>Sales</td>\n",
       "      <td>1</td>\n",
       "      <td>2</td>\n",
       "      <td>Life Sciences</td>\n",
       "      <td>1</td>\n",
       "      <td>1</td>\n",
       "      <td>...</td>\n",
       "      <td>1</td>\n",
       "      <td>80</td>\n",
       "      <td>0</td>\n",
       "      <td>8</td>\n",
       "      <td>0</td>\n",
       "      <td>1</td>\n",
       "      <td>6</td>\n",
       "      <td>4</td>\n",
       "      <td>0</td>\n",
       "      <td>5</td>\n",
       "    </tr>\n",
       "    <tr>\n",
       "      <th>1</th>\n",
       "      <td>49</td>\n",
       "      <td>No</td>\n",
       "      <td>Travel_Frequently</td>\n",
       "      <td>279</td>\n",
       "      <td>Research &amp; Development</td>\n",
       "      <td>8</td>\n",
       "      <td>1</td>\n",
       "      <td>Life Sciences</td>\n",
       "      <td>1</td>\n",
       "      <td>2</td>\n",
       "      <td>...</td>\n",
       "      <td>4</td>\n",
       "      <td>80</td>\n",
       "      <td>1</td>\n",
       "      <td>10</td>\n",
       "      <td>3</td>\n",
       "      <td>3</td>\n",
       "      <td>10</td>\n",
       "      <td>7</td>\n",
       "      <td>1</td>\n",
       "      <td>7</td>\n",
       "    </tr>\n",
       "    <tr>\n",
       "      <th>2</th>\n",
       "      <td>37</td>\n",
       "      <td>Yes</td>\n",
       "      <td>Travel_Rarely</td>\n",
       "      <td>1373</td>\n",
       "      <td>Research &amp; Development</td>\n",
       "      <td>2</td>\n",
       "      <td>2</td>\n",
       "      <td>Other</td>\n",
       "      <td>1</td>\n",
       "      <td>4</td>\n",
       "      <td>...</td>\n",
       "      <td>2</td>\n",
       "      <td>80</td>\n",
       "      <td>0</td>\n",
       "      <td>7</td>\n",
       "      <td>3</td>\n",
       "      <td>3</td>\n",
       "      <td>0</td>\n",
       "      <td>0</td>\n",
       "      <td>0</td>\n",
       "      <td>0</td>\n",
       "    </tr>\n",
       "    <tr>\n",
       "      <th>3</th>\n",
       "      <td>33</td>\n",
       "      <td>No</td>\n",
       "      <td>Travel_Frequently</td>\n",
       "      <td>1392</td>\n",
       "      <td>Research &amp; Development</td>\n",
       "      <td>3</td>\n",
       "      <td>4</td>\n",
       "      <td>Life Sciences</td>\n",
       "      <td>1</td>\n",
       "      <td>5</td>\n",
       "      <td>...</td>\n",
       "      <td>3</td>\n",
       "      <td>80</td>\n",
       "      <td>0</td>\n",
       "      <td>8</td>\n",
       "      <td>3</td>\n",
       "      <td>3</td>\n",
       "      <td>8</td>\n",
       "      <td>7</td>\n",
       "      <td>3</td>\n",
       "      <td>0</td>\n",
       "    </tr>\n",
       "    <tr>\n",
       "      <th>4</th>\n",
       "      <td>27</td>\n",
       "      <td>No</td>\n",
       "      <td>Travel_Rarely</td>\n",
       "      <td>591</td>\n",
       "      <td>Research &amp; Development</td>\n",
       "      <td>2</td>\n",
       "      <td>1</td>\n",
       "      <td>Medical</td>\n",
       "      <td>1</td>\n",
       "      <td>7</td>\n",
       "      <td>...</td>\n",
       "      <td>4</td>\n",
       "      <td>80</td>\n",
       "      <td>1</td>\n",
       "      <td>6</td>\n",
       "      <td>3</td>\n",
       "      <td>3</td>\n",
       "      <td>2</td>\n",
       "      <td>2</td>\n",
       "      <td>2</td>\n",
       "      <td>2</td>\n",
       "    </tr>\n",
       "    <tr>\n",
       "      <th>5</th>\n",
       "      <td>32</td>\n",
       "      <td>No</td>\n",
       "      <td>Travel_Frequently</td>\n",
       "      <td>1005</td>\n",
       "      <td>Research &amp; Development</td>\n",
       "      <td>2</td>\n",
       "      <td>2</td>\n",
       "      <td>Life Sciences</td>\n",
       "      <td>1</td>\n",
       "      <td>8</td>\n",
       "      <td>...</td>\n",
       "      <td>3</td>\n",
       "      <td>80</td>\n",
       "      <td>0</td>\n",
       "      <td>8</td>\n",
       "      <td>2</td>\n",
       "      <td>2</td>\n",
       "      <td>7</td>\n",
       "      <td>7</td>\n",
       "      <td>3</td>\n",
       "      <td>6</td>\n",
       "    </tr>\n",
       "    <tr>\n",
       "      <th>6</th>\n",
       "      <td>59</td>\n",
       "      <td>No</td>\n",
       "      <td>Travel_Rarely</td>\n",
       "      <td>1324</td>\n",
       "      <td>Research &amp; Development</td>\n",
       "      <td>3</td>\n",
       "      <td>3</td>\n",
       "      <td>Medical</td>\n",
       "      <td>1</td>\n",
       "      <td>10</td>\n",
       "      <td>...</td>\n",
       "      <td>1</td>\n",
       "      <td>80</td>\n",
       "      <td>3</td>\n",
       "      <td>12</td>\n",
       "      <td>3</td>\n",
       "      <td>2</td>\n",
       "      <td>1</td>\n",
       "      <td>0</td>\n",
       "      <td>0</td>\n",
       "      <td>0</td>\n",
       "    </tr>\n",
       "    <tr>\n",
       "      <th>7</th>\n",
       "      <td>30</td>\n",
       "      <td>No</td>\n",
       "      <td>Travel_Rarely</td>\n",
       "      <td>1358</td>\n",
       "      <td>Research &amp; Development</td>\n",
       "      <td>24</td>\n",
       "      <td>1</td>\n",
       "      <td>Life Sciences</td>\n",
       "      <td>1</td>\n",
       "      <td>11</td>\n",
       "      <td>...</td>\n",
       "      <td>2</td>\n",
       "      <td>80</td>\n",
       "      <td>1</td>\n",
       "      <td>1</td>\n",
       "      <td>2</td>\n",
       "      <td>3</td>\n",
       "      <td>1</td>\n",
       "      <td>0</td>\n",
       "      <td>0</td>\n",
       "      <td>0</td>\n",
       "    </tr>\n",
       "    <tr>\n",
       "      <th>8</th>\n",
       "      <td>38</td>\n",
       "      <td>No</td>\n",
       "      <td>Travel_Frequently</td>\n",
       "      <td>216</td>\n",
       "      <td>Research &amp; Development</td>\n",
       "      <td>23</td>\n",
       "      <td>3</td>\n",
       "      <td>Life Sciences</td>\n",
       "      <td>1</td>\n",
       "      <td>12</td>\n",
       "      <td>...</td>\n",
       "      <td>2</td>\n",
       "      <td>80</td>\n",
       "      <td>0</td>\n",
       "      <td>10</td>\n",
       "      <td>2</td>\n",
       "      <td>3</td>\n",
       "      <td>9</td>\n",
       "      <td>7</td>\n",
       "      <td>1</td>\n",
       "      <td>8</td>\n",
       "    </tr>\n",
       "    <tr>\n",
       "      <th>9</th>\n",
       "      <td>36</td>\n",
       "      <td>No</td>\n",
       "      <td>Travel_Rarely</td>\n",
       "      <td>1299</td>\n",
       "      <td>Research &amp; Development</td>\n",
       "      <td>27</td>\n",
       "      <td>3</td>\n",
       "      <td>Medical</td>\n",
       "      <td>1</td>\n",
       "      <td>13</td>\n",
       "      <td>...</td>\n",
       "      <td>2</td>\n",
       "      <td>80</td>\n",
       "      <td>2</td>\n",
       "      <td>17</td>\n",
       "      <td>3</td>\n",
       "      <td>2</td>\n",
       "      <td>7</td>\n",
       "      <td>7</td>\n",
       "      <td>7</td>\n",
       "      <td>7</td>\n",
       "    </tr>\n",
       "  </tbody>\n",
       "</table>\n",
       "<p>10 rows × 35 columns</p>\n",
       "</div>"
      ],
      "text/plain": [
       "   Age Attrition     BusinessTravel  DailyRate              Department  \\\n",
       "0   41       Yes      Travel_Rarely       1102                   Sales   \n",
       "1   49        No  Travel_Frequently        279  Research & Development   \n",
       "2   37       Yes      Travel_Rarely       1373  Research & Development   \n",
       "3   33        No  Travel_Frequently       1392  Research & Development   \n",
       "4   27        No      Travel_Rarely        591  Research & Development   \n",
       "5   32        No  Travel_Frequently       1005  Research & Development   \n",
       "6   59        No      Travel_Rarely       1324  Research & Development   \n",
       "7   30        No      Travel_Rarely       1358  Research & Development   \n",
       "8   38        No  Travel_Frequently        216  Research & Development   \n",
       "9   36        No      Travel_Rarely       1299  Research & Development   \n",
       "\n",
       "   DistanceFromHome  Education EducationField  EmployeeCount  EmployeeNumber  \\\n",
       "0                 1          2  Life Sciences              1               1   \n",
       "1                 8          1  Life Sciences              1               2   \n",
       "2                 2          2          Other              1               4   \n",
       "3                 3          4  Life Sciences              1               5   \n",
       "4                 2          1        Medical              1               7   \n",
       "5                 2          2  Life Sciences              1               8   \n",
       "6                 3          3        Medical              1              10   \n",
       "7                24          1  Life Sciences              1              11   \n",
       "8                23          3  Life Sciences              1              12   \n",
       "9                27          3        Medical              1              13   \n",
       "\n",
       "   ...  RelationshipSatisfaction StandardHours  StockOptionLevel  \\\n",
       "0  ...                         1            80                 0   \n",
       "1  ...                         4            80                 1   \n",
       "2  ...                         2            80                 0   \n",
       "3  ...                         3            80                 0   \n",
       "4  ...                         4            80                 1   \n",
       "5  ...                         3            80                 0   \n",
       "6  ...                         1            80                 3   \n",
       "7  ...                         2            80                 1   \n",
       "8  ...                         2            80                 0   \n",
       "9  ...                         2            80                 2   \n",
       "\n",
       "   TotalWorkingYears  TrainingTimesLastYear WorkLifeBalance  YearsAtCompany  \\\n",
       "0                  8                      0               1               6   \n",
       "1                 10                      3               3              10   \n",
       "2                  7                      3               3               0   \n",
       "3                  8                      3               3               8   \n",
       "4                  6                      3               3               2   \n",
       "5                  8                      2               2               7   \n",
       "6                 12                      3               2               1   \n",
       "7                  1                      2               3               1   \n",
       "8                 10                      2               3               9   \n",
       "9                 17                      3               2               7   \n",
       "\n",
       "  YearsInCurrentRole  YearsSinceLastPromotion  YearsWithCurrManager  \n",
       "0                  4                        0                     5  \n",
       "1                  7                        1                     7  \n",
       "2                  0                        0                     0  \n",
       "3                  7                        3                     0  \n",
       "4                  2                        2                     2  \n",
       "5                  7                        3                     6  \n",
       "6                  0                        0                     0  \n",
       "7                  0                        0                     0  \n",
       "8                  7                        1                     8  \n",
       "9                  7                        7                     7  \n",
       "\n",
       "[10 rows x 35 columns]"
      ]
     },
     "execution_count": 33,
     "metadata": {},
     "output_type": "execute_result"
    }
   ],
   "source": [
    "df.head(10)"
   ]
  },
  {
   "cell_type": "code",
   "execution_count": 34,
   "id": "78007067",
   "metadata": {},
   "outputs": [
    {
     "name": "stdout",
     "output_type": "stream",
     "text": [
      "<class 'pandas.core.frame.DataFrame'>\n",
      "RangeIndex: 1470 entries, 0 to 1469\n",
      "Data columns (total 35 columns):\n",
      " #   Column                    Non-Null Count  Dtype \n",
      "---  ------                    --------------  ----- \n",
      " 0   Age                       1470 non-null   int64 \n",
      " 1   Attrition                 1470 non-null   object\n",
      " 2   BusinessTravel            1470 non-null   object\n",
      " 3   DailyRate                 1470 non-null   int64 \n",
      " 4   Department                1470 non-null   object\n",
      " 5   DistanceFromHome          1470 non-null   int64 \n",
      " 6   Education                 1470 non-null   int64 \n",
      " 7   EducationField            1470 non-null   object\n",
      " 8   EmployeeCount             1470 non-null   int64 \n",
      " 9   EmployeeNumber            1470 non-null   int64 \n",
      " 10  EnvironmentSatisfaction   1470 non-null   int64 \n",
      " 11  Gender                    1470 non-null   object\n",
      " 12  HourlyRate                1470 non-null   int64 \n",
      " 13  JobInvolvement            1470 non-null   int64 \n",
      " 14  JobLevel                  1470 non-null   int64 \n",
      " 15  JobRole                   1470 non-null   object\n",
      " 16  JobSatisfaction           1470 non-null   int64 \n",
      " 17  MaritalStatus             1470 non-null   object\n",
      " 18  MonthlyIncome             1470 non-null   int64 \n",
      " 19  MonthlyRate               1470 non-null   int64 \n",
      " 20  NumCompaniesWorked        1470 non-null   int64 \n",
      " 21  Over18                    1470 non-null   object\n",
      " 22  OverTime                  1470 non-null   object\n",
      " 23  PercentSalaryHike         1470 non-null   int64 \n",
      " 24  PerformanceRating         1470 non-null   int64 \n",
      " 25  RelationshipSatisfaction  1470 non-null   int64 \n",
      " 26  StandardHours             1470 non-null   int64 \n",
      " 27  StockOptionLevel          1470 non-null   int64 \n",
      " 28  TotalWorkingYears         1470 non-null   int64 \n",
      " 29  TrainingTimesLastYear     1470 non-null   int64 \n",
      " 30  WorkLifeBalance           1470 non-null   int64 \n",
      " 31  YearsAtCompany            1470 non-null   int64 \n",
      " 32  YearsInCurrentRole        1470 non-null   int64 \n",
      " 33  YearsSinceLastPromotion   1470 non-null   int64 \n",
      " 34  YearsWithCurrManager      1470 non-null   int64 \n",
      "dtypes: int64(26), object(9)\n",
      "memory usage: 402.1+ KB\n"
     ]
    }
   ],
   "source": [
    "df.info()"
   ]
  },
  {
   "cell_type": "markdown",
   "id": "5a862c7a",
   "metadata": {},
   "source": [
    "## Data Cleaning"
   ]
  },
  {
   "cell_type": "code",
   "execution_count": 35,
   "id": "ab871320",
   "metadata": {},
   "outputs": [
    {
     "data": {
      "text/plain": [
       "Age                         0\n",
       "Attrition                   0\n",
       "BusinessTravel              0\n",
       "DailyRate                   0\n",
       "Department                  0\n",
       "DistanceFromHome            0\n",
       "Education                   0\n",
       "EducationField              0\n",
       "EmployeeCount               0\n",
       "EmployeeNumber              0\n",
       "EnvironmentSatisfaction     0\n",
       "Gender                      0\n",
       "HourlyRate                  0\n",
       "JobInvolvement              0\n",
       "JobLevel                    0\n",
       "JobRole                     0\n",
       "JobSatisfaction             0\n",
       "MaritalStatus               0\n",
       "MonthlyIncome               0\n",
       "MonthlyRate                 0\n",
       "NumCompaniesWorked          0\n",
       "Over18                      0\n",
       "OverTime                    0\n",
       "PercentSalaryHike           0\n",
       "PerformanceRating           0\n",
       "RelationshipSatisfaction    0\n",
       "StandardHours               0\n",
       "StockOptionLevel            0\n",
       "TotalWorkingYears           0\n",
       "TrainingTimesLastYear       0\n",
       "WorkLifeBalance             0\n",
       "YearsAtCompany              0\n",
       "YearsInCurrentRole          0\n",
       "YearsSinceLastPromotion     0\n",
       "YearsWithCurrManager        0\n",
       "dtype: int64"
      ]
     },
     "execution_count": 35,
     "metadata": {},
     "output_type": "execute_result"
    }
   ],
   "source": [
    "df.isnull().sum()"
   ]
  },
  {
   "cell_type": "markdown",
   "id": "b7c2bb64",
   "metadata": {},
   "source": [
    "Tidak ditemukannya data yang null"
   ]
  },
  {
   "cell_type": "code",
   "execution_count": 36,
   "id": "b488f38a",
   "metadata": {},
   "outputs": [
    {
     "data": {
      "text/plain": [
       "np.int64(0)"
      ]
     },
     "execution_count": 36,
     "metadata": {},
     "output_type": "execute_result"
    }
   ],
   "source": [
    "df.duplicated().sum()"
   ]
  },
  {
   "cell_type": "markdown",
   "id": "f7238ddb",
   "metadata": {},
   "source": [
    "Tidak ditemukannya data yang duplikat"
   ]
  },
  {
   "cell_type": "code",
   "execution_count": 37,
   "id": "e6d99291",
   "metadata": {},
   "outputs": [
    {
     "data": {
      "text/plain": [
       "Index(['Age', 'Attrition', 'BusinessTravel', 'DailyRate', 'Department',\n",
       "       'DistanceFromHome', 'Education', 'EducationField', 'EmployeeCount',\n",
       "       'EmployeeNumber', 'EnvironmentSatisfaction', 'Gender', 'HourlyRate',\n",
       "       'JobInvolvement', 'JobLevel', 'JobRole', 'JobSatisfaction',\n",
       "       'MaritalStatus', 'MonthlyIncome', 'MonthlyRate', 'NumCompaniesWorked',\n",
       "       'Over18', 'OverTime', 'PercentSalaryHike', 'PerformanceRating',\n",
       "       'RelationshipSatisfaction', 'StandardHours', 'StockOptionLevel',\n",
       "       'TotalWorkingYears', 'TrainingTimesLastYear', 'WorkLifeBalance',\n",
       "       'YearsAtCompany', 'YearsInCurrentRole', 'YearsSinceLastPromotion',\n",
       "       'YearsWithCurrManager'],\n",
       "      dtype='object')"
      ]
     },
     "execution_count": 37,
     "metadata": {},
     "output_type": "execute_result"
    }
   ],
   "source": [
    "# Melihat kolom yang tersedia untuk membuang kolom yang tidak digunakan\n",
    "df.columns"
   ]
  },
  {
   "cell_type": "markdown",
   "id": "57fb668c",
   "metadata": {},
   "source": [
    "Department, Overtime, Attrition, DistanceFromHome, Gender, Age, MonthlyIncome, TotalWorkingYears, YearsAt Company, JobSatisfaction"
   ]
  },
  {
   "cell_type": "code",
   "execution_count": 38,
   "id": "ad2b901f",
   "metadata": {},
   "outputs": [],
   "source": [
    "df = df.drop(columns=['BusinessTravel', 'DailyRate', 'Education', 'EducationField', 'EmployeeCount', 'HourlyRate',\n",
    "       'JobInvolvement', 'JobLevel', 'JobRole', 'MaritalStatus', 'MonthlyRate', 'NumCompaniesWorked', 'EnvironmentSatisfaction',\n",
    "       'Over18', 'PercentSalaryHike', \n",
    "       'RelationshipSatisfaction', 'StandardHours', 'StockOptionLevel', 'TrainingTimesLastYear', 'WorkLifeBalance', 'YearsInCurrentRole', 'YearsSinceLastPromotion',\n",
    "       'YearsWithCurrManager'])"
   ]
  },
  {
   "cell_type": "code",
   "execution_count": 39,
   "id": "3a7ff974",
   "metadata": {},
   "outputs": [
    {
     "data": {
      "text/html": [
       "<div>\n",
       "<style scoped>\n",
       "    .dataframe tbody tr th:only-of-type {\n",
       "        vertical-align: middle;\n",
       "    }\n",
       "\n",
       "    .dataframe tbody tr th {\n",
       "        vertical-align: top;\n",
       "    }\n",
       "\n",
       "    .dataframe thead th {\n",
       "        text-align: right;\n",
       "    }\n",
       "</style>\n",
       "<table border=\"1\" class=\"dataframe\">\n",
       "  <thead>\n",
       "    <tr style=\"text-align: right;\">\n",
       "      <th></th>\n",
       "      <th>Age</th>\n",
       "      <th>Attrition</th>\n",
       "      <th>Department</th>\n",
       "      <th>DistanceFromHome</th>\n",
       "      <th>EmployeeNumber</th>\n",
       "      <th>Gender</th>\n",
       "      <th>JobSatisfaction</th>\n",
       "      <th>MonthlyIncome</th>\n",
       "      <th>OverTime</th>\n",
       "      <th>PerformanceRating</th>\n",
       "      <th>TotalWorkingYears</th>\n",
       "      <th>YearsAtCompany</th>\n",
       "    </tr>\n",
       "  </thead>\n",
       "  <tbody>\n",
       "    <tr>\n",
       "      <th>0</th>\n",
       "      <td>41</td>\n",
       "      <td>Yes</td>\n",
       "      <td>Sales</td>\n",
       "      <td>1</td>\n",
       "      <td>1</td>\n",
       "      <td>Female</td>\n",
       "      <td>4</td>\n",
       "      <td>5993</td>\n",
       "      <td>Yes</td>\n",
       "      <td>3</td>\n",
       "      <td>8</td>\n",
       "      <td>6</td>\n",
       "    </tr>\n",
       "    <tr>\n",
       "      <th>1</th>\n",
       "      <td>49</td>\n",
       "      <td>No</td>\n",
       "      <td>Research &amp; Development</td>\n",
       "      <td>8</td>\n",
       "      <td>2</td>\n",
       "      <td>Male</td>\n",
       "      <td>2</td>\n",
       "      <td>5130</td>\n",
       "      <td>No</td>\n",
       "      <td>4</td>\n",
       "      <td>10</td>\n",
       "      <td>10</td>\n",
       "    </tr>\n",
       "    <tr>\n",
       "      <th>2</th>\n",
       "      <td>37</td>\n",
       "      <td>Yes</td>\n",
       "      <td>Research &amp; Development</td>\n",
       "      <td>2</td>\n",
       "      <td>4</td>\n",
       "      <td>Male</td>\n",
       "      <td>3</td>\n",
       "      <td>2090</td>\n",
       "      <td>Yes</td>\n",
       "      <td>3</td>\n",
       "      <td>7</td>\n",
       "      <td>0</td>\n",
       "    </tr>\n",
       "    <tr>\n",
       "      <th>3</th>\n",
       "      <td>33</td>\n",
       "      <td>No</td>\n",
       "      <td>Research &amp; Development</td>\n",
       "      <td>3</td>\n",
       "      <td>5</td>\n",
       "      <td>Female</td>\n",
       "      <td>3</td>\n",
       "      <td>2909</td>\n",
       "      <td>Yes</td>\n",
       "      <td>3</td>\n",
       "      <td>8</td>\n",
       "      <td>8</td>\n",
       "    </tr>\n",
       "    <tr>\n",
       "      <th>4</th>\n",
       "      <td>27</td>\n",
       "      <td>No</td>\n",
       "      <td>Research &amp; Development</td>\n",
       "      <td>2</td>\n",
       "      <td>7</td>\n",
       "      <td>Male</td>\n",
       "      <td>2</td>\n",
       "      <td>3468</td>\n",
       "      <td>No</td>\n",
       "      <td>3</td>\n",
       "      <td>6</td>\n",
       "      <td>2</td>\n",
       "    </tr>\n",
       "    <tr>\n",
       "      <th>...</th>\n",
       "      <td>...</td>\n",
       "      <td>...</td>\n",
       "      <td>...</td>\n",
       "      <td>...</td>\n",
       "      <td>...</td>\n",
       "      <td>...</td>\n",
       "      <td>...</td>\n",
       "      <td>...</td>\n",
       "      <td>...</td>\n",
       "      <td>...</td>\n",
       "      <td>...</td>\n",
       "      <td>...</td>\n",
       "    </tr>\n",
       "    <tr>\n",
       "      <th>1465</th>\n",
       "      <td>36</td>\n",
       "      <td>No</td>\n",
       "      <td>Research &amp; Development</td>\n",
       "      <td>23</td>\n",
       "      <td>2061</td>\n",
       "      <td>Male</td>\n",
       "      <td>4</td>\n",
       "      <td>2571</td>\n",
       "      <td>No</td>\n",
       "      <td>3</td>\n",
       "      <td>17</td>\n",
       "      <td>5</td>\n",
       "    </tr>\n",
       "    <tr>\n",
       "      <th>1466</th>\n",
       "      <td>39</td>\n",
       "      <td>No</td>\n",
       "      <td>Research &amp; Development</td>\n",
       "      <td>6</td>\n",
       "      <td>2062</td>\n",
       "      <td>Male</td>\n",
       "      <td>1</td>\n",
       "      <td>9991</td>\n",
       "      <td>No</td>\n",
       "      <td>3</td>\n",
       "      <td>9</td>\n",
       "      <td>7</td>\n",
       "    </tr>\n",
       "    <tr>\n",
       "      <th>1467</th>\n",
       "      <td>27</td>\n",
       "      <td>No</td>\n",
       "      <td>Research &amp; Development</td>\n",
       "      <td>4</td>\n",
       "      <td>2064</td>\n",
       "      <td>Male</td>\n",
       "      <td>2</td>\n",
       "      <td>6142</td>\n",
       "      <td>Yes</td>\n",
       "      <td>4</td>\n",
       "      <td>6</td>\n",
       "      <td>6</td>\n",
       "    </tr>\n",
       "    <tr>\n",
       "      <th>1468</th>\n",
       "      <td>49</td>\n",
       "      <td>No</td>\n",
       "      <td>Sales</td>\n",
       "      <td>2</td>\n",
       "      <td>2065</td>\n",
       "      <td>Male</td>\n",
       "      <td>2</td>\n",
       "      <td>5390</td>\n",
       "      <td>No</td>\n",
       "      <td>3</td>\n",
       "      <td>17</td>\n",
       "      <td>9</td>\n",
       "    </tr>\n",
       "    <tr>\n",
       "      <th>1469</th>\n",
       "      <td>34</td>\n",
       "      <td>No</td>\n",
       "      <td>Research &amp; Development</td>\n",
       "      <td>8</td>\n",
       "      <td>2068</td>\n",
       "      <td>Male</td>\n",
       "      <td>3</td>\n",
       "      <td>4404</td>\n",
       "      <td>No</td>\n",
       "      <td>3</td>\n",
       "      <td>6</td>\n",
       "      <td>4</td>\n",
       "    </tr>\n",
       "  </tbody>\n",
       "</table>\n",
       "<p>1470 rows × 12 columns</p>\n",
       "</div>"
      ],
      "text/plain": [
       "      Age Attrition              Department  DistanceFromHome  EmployeeNumber  \\\n",
       "0      41       Yes                   Sales                 1               1   \n",
       "1      49        No  Research & Development                 8               2   \n",
       "2      37       Yes  Research & Development                 2               4   \n",
       "3      33        No  Research & Development                 3               5   \n",
       "4      27        No  Research & Development                 2               7   \n",
       "...   ...       ...                     ...               ...             ...   \n",
       "1465   36        No  Research & Development                23            2061   \n",
       "1466   39        No  Research & Development                 6            2062   \n",
       "1467   27        No  Research & Development                 4            2064   \n",
       "1468   49        No                   Sales                 2            2065   \n",
       "1469   34        No  Research & Development                 8            2068   \n",
       "\n",
       "      Gender  JobSatisfaction  MonthlyIncome OverTime  PerformanceRating  \\\n",
       "0     Female                4           5993      Yes                  3   \n",
       "1       Male                2           5130       No                  4   \n",
       "2       Male                3           2090      Yes                  3   \n",
       "3     Female                3           2909      Yes                  3   \n",
       "4       Male                2           3468       No                  3   \n",
       "...      ...              ...            ...      ...                ...   \n",
       "1465    Male                4           2571       No                  3   \n",
       "1466    Male                1           9991       No                  3   \n",
       "1467    Male                2           6142      Yes                  4   \n",
       "1468    Male                2           5390       No                  3   \n",
       "1469    Male                3           4404       No                  3   \n",
       "\n",
       "      TotalWorkingYears  YearsAtCompany  \n",
       "0                     8               6  \n",
       "1                    10              10  \n",
       "2                     7               0  \n",
       "3                     8               8  \n",
       "4                     6               2  \n",
       "...                 ...             ...  \n",
       "1465                 17               5  \n",
       "1466                  9               7  \n",
       "1467                  6               6  \n",
       "1468                 17               9  \n",
       "1469                  6               4  \n",
       "\n",
       "[1470 rows x 12 columns]"
      ]
     },
     "execution_count": 39,
     "metadata": {},
     "output_type": "execute_result"
    }
   ],
   "source": [
    "df"
   ]
  },
  {
   "cell_type": "markdown",
   "id": "2c741d61",
   "metadata": {},
   "source": [
    "## Analysis and Calculation"
   ]
  },
  {
   "cell_type": "markdown",
   "id": "49a7204e",
   "metadata": {},
   "source": [
    "### Simple Analysis"
   ]
  },
  {
   "cell_type": "code",
   "execution_count": 40,
   "id": "409cd482",
   "metadata": {},
   "outputs": [
    {
     "name": "stdout",
     "output_type": "stream",
     "text": [
      "Attrition Rate: 16.12%\n"
     ]
    }
   ],
   "source": [
    "attr = df[df['Attrition'] == 'Yes'].shape[0]\n",
    "employee_count = df['Attrition'].shape[0]\n",
    "attr_rate = round(((attr / employee_count) * 100), 2)\n",
    "\n",
    "print(f\"Attrition Rate: {attr_rate}%\")"
   ]
  },
  {
   "cell_type": "markdown",
   "id": "9f74f2b8",
   "metadata": {},
   "source": [
    "The common desired attrition rate within a company is > 10%. Thus this can be considered as higher than average."
   ]
  },
  {
   "cell_type": "markdown",
   "id": "004c4915",
   "metadata": {},
   "source": [
    "### Bagaimana distribusi tingkat attrition berdasarkan Department?"
   ]
  },
  {
   "cell_type": "code",
   "execution_count": 41,
   "id": "d8236a3b",
   "metadata": {},
   "outputs": [
    {
     "name": "stdout",
     "output_type": "stream",
     "text": [
      "Department              Attrition\n",
      "Human Resources         No            51\n",
      "                        Yes           12\n",
      "Research & Development  No           828\n",
      "                        Yes          133\n",
      "Sales                   No           354\n",
      "                        Yes           92\n",
      "Name: count, dtype: int64\n"
     ]
    }
   ],
   "source": [
    "attr_count_dept = df.groupby('Department')['Attrition'].value_counts()\n",
    "print(attr_count_dept)\n"
   ]
  },
  {
   "cell_type": "code",
   "execution_count": 42,
   "id": "442b4f94",
   "metadata": {},
   "outputs": [
    {
     "data": {
      "text/plain": [
       "<Axes: xlabel='Department,Attrition'>"
      ]
     },
     "execution_count": 42,
     "metadata": {},
     "output_type": "execute_result"
    },
    {
     "data": {
      "image/png": "[encoded data removed]",
      "text/plain": [
       "<Figure size 640x480 with 1 Axes>"
      ]
     },
     "metadata": {},
     "output_type": "display_data"
    }
   ],
   "source": [
    "attr_count_dept.plot(kind='bar')"
   ]
  },
  {
   "cell_type": "markdown",
   "id": "22faf98d",
   "metadata": {},
   "source": [
    "We can see that the higest attrition coming from Research & Development departement. But this doesn't indicate that they have the highest attrition rate."
   ]
  },
  {
   "cell_type": "code",
   "execution_count": 43,
   "id": "30965b0e",
   "metadata": {},
   "outputs": [
    {
     "name": "stdout",
     "output_type": "stream",
     "text": [
      "16.12\n"
     ]
    }
   ],
   "source": [
    "total_per_dept = df.groupby('Department')['Attrition'].count()\n",
    "\n",
    "yes_per_dept = df[df['Attrition'] == 'Yes'].groupby('Department')['Attrition'].count()\n",
    "\n",
    "attr_rate_dept = (yes_per_dept / total_per_dept) * 100\n",
    "attr_rate_dept = attr_rate_dept.round(2)   # bulatkan 2 angka di belakang koma\n",
    "print(attr_rate)\n"
   ]
  },
  {
   "cell_type": "code",
   "execution_count": 44,
   "id": "18ec1e15",
   "metadata": {},
   "outputs": [
    {
     "data": {
      "text/plain": [
       "<Axes: xlabel='Department'>"
      ]
     },
     "execution_count": 44,
     "metadata": {},
     "output_type": "execute_result"
    },
    {
     "data": {
      "image/png": "[encoded data removed]",
      "text/plain": [
       "<Figure size 640x480 with 1 Axes>"
      ]
     },
     "metadata": {},
     "output_type": "display_data"
    }
   ],
   "source": [
    "attr_rate_dept.plot(kind='bar')"
   ]
  },
  {
   "cell_type": "markdown",
   "id": "a6c10471",
   "metadata": {},
   "source": [
    "If seen by rate, the department who has the highest attrition rate is Sales department"
   ]
  },
  {
   "cell_type": "markdown",
   "id": "1d4f1511",
   "metadata": {},
   "source": [
    "### Apakah karyawan yang bekerja OverTime memiliki kecenderungan lebih tinggi untuk mengalami attrition dibandingkan yang tidak?"
   ]
  },
  {
   "cell_type": "code",
   "execution_count": 45,
   "id": "344c8b15",
   "metadata": {},
   "outputs": [
    {
     "name": "stdout",
     "output_type": "stream",
     "text": [
      "OverTime  Attrition\n",
      "No        No           944\n",
      "          Yes          110\n",
      "Yes       No           289\n",
      "          Yes          127\n",
      "Name: count, dtype: int64\n"
     ]
    }
   ],
   "source": [
    "attr_count = df.groupby('OverTime')['Attrition'].value_counts()\n",
    "print(attr_count)\n"
   ]
  },
  {
   "cell_type": "code",
   "execution_count": 22,
   "id": "a1d10af9",
   "metadata": {},
   "outputs": [
    {
     "data": {
      "text/plain": [
       "<Axes: xlabel='OverTime,Attrition'>"
      ]
     },
     "execution_count": 22,
     "metadata": {},
     "output_type": "execute_result"
    },
    {
     "data": {
      "image/png": "[encoded data removed]",
      "text/plain": [
       "<Figure size 640x480 with 1 Axes>"
      ]
     },
     "metadata": {},
     "output_type": "display_data"
    }
   ],
   "source": [
    "attr_count.plot(kind='bar')"
   ]
  },
  {
   "cell_type": "markdown",
   "id": "7589efcd",
   "metadata": {},
   "source": [
    "If we see it only from the chart, we can see that people who quits some of them do overtime and some didn't. We couldn't really pull much information from this table. \n",
    "\n",
    "It would be better if we see the correlation between these two variables. Since both are categorical variables, we can use Chi-Square Test of Independence."
   ]
  },
  {
   "cell_type": "code",
   "execution_count": 46,
   "id": "f83d8a3d",
   "metadata": {},
   "outputs": [
    {
     "data": {
      "text/html": [
       "<div>\n",
       "<style scoped>\n",
       "    .dataframe tbody tr th:only-of-type {\n",
       "        vertical-align: middle;\n",
       "    }\n",
       "\n",
       "    .dataframe tbody tr th {\n",
       "        vertical-align: top;\n",
       "    }\n",
       "\n",
       "    .dataframe thead th {\n",
       "        text-align: right;\n",
       "    }\n",
       "</style>\n",
       "<table border=\"1\" class=\"dataframe\">\n",
       "  <thead>\n",
       "    <tr style=\"text-align: right;\">\n",
       "      <th>OverTime</th>\n",
       "      <th>No</th>\n",
       "      <th>Yes</th>\n",
       "    </tr>\n",
       "    <tr>\n",
       "      <th>Attrition</th>\n",
       "      <th></th>\n",
       "      <th></th>\n",
       "    </tr>\n",
       "  </thead>\n",
       "  <tbody>\n",
       "    <tr>\n",
       "      <th>No</th>\n",
       "      <td>944</td>\n",
       "      <td>289</td>\n",
       "    </tr>\n",
       "    <tr>\n",
       "      <th>Yes</th>\n",
       "      <td>110</td>\n",
       "      <td>127</td>\n",
       "    </tr>\n",
       "  </tbody>\n",
       "</table>\n",
       "</div>"
      ],
      "text/plain": [
       "OverTime    No  Yes\n",
       "Attrition          \n",
       "No         944  289\n",
       "Yes        110  127"
      ]
     },
     "execution_count": 46,
     "metadata": {},
     "output_type": "execute_result"
    }
   ],
   "source": [
    "contingency_table = pd.crosstab(df['Attrition'],df['OverTime'])\n",
    "contingency_table"
   ]
  },
  {
   "cell_type": "code",
   "execution_count": 48,
   "id": "58d68703",
   "metadata": {},
   "outputs": [
    {
     "name": "stdout",
     "output_type": "stream",
     "text": [
      "P-value: 8.15842372153832e-21\n"
     ]
    }
   ],
   "source": [
    "res = stats.chi2_contingency(contingency_table)\n",
    "print(\"P-value:\",res.pvalue)"
   ]
  },
  {
   "cell_type": "markdown",
   "id": "ef5f5611",
   "metadata": {},
   "source": [
    "Since the p-value is greater than 0.05, this means that there are no correlation between Attrition and Overtime."
   ]
  },
  {
   "cell_type": "markdown",
   "id": "d43c3bbe",
   "metadata": {},
   "source": [
    "### Apakah faktor DistanceFromHome berpengaruh terhadap keputusan karyawan untuk keluar?"
   ]
  },
  {
   "cell_type": "code",
   "execution_count": 49,
   "id": "710a65f7",
   "metadata": {},
   "outputs": [
    {
     "name": "stdout",
     "output_type": "stream",
     "text": [
      "Attrition\n",
      "No      8.915653\n",
      "Yes    10.632911\n",
      "Name: DistanceFromHome, dtype: float64\n"
     ]
    }
   ],
   "source": [
    "distance_mean = df.groupby('Attrition')['DistanceFromHome'].mean()\n",
    "\n",
    "print(distance_mean)\n"
   ]
  },
  {
   "cell_type": "markdown",
   "id": "78a12a71",
   "metadata": {},
   "source": [
    "We can see here that people who left the company has higher distance from home if compared to people who stay. We can check further the whether the difference is significant or not using T-Test."
   ]
  },
  {
   "cell_type": "code",
   "execution_count": 50,
   "id": "4c75d5be",
   "metadata": {},
   "outputs": [
    {
     "name": "stdout",
     "output_type": "stream",
     "text": [
      "Avg Distance of People Leave: 10.632911392405063\n",
      "Avg Distance of People Stay: 8.915652879156529\n",
      "t-statistic: 2.888183062817627\n",
      "p-value: 0.004136511971511407\n"
     ]
    }
   ],
   "source": [
    "from scipy.stats import ttest_ind\n",
    "\n",
    "left = df[df['Attrition'] == 'Yes']['DistanceFromHome']\n",
    "stay = df[df['Attrition'] == 'No']['DistanceFromHome']\n",
    "\n",
    "t_stat, p = ttest_ind(left, stay, equal_var=False) \n",
    "print(f'Avg Distance of People Leave: {left.mean()}')\n",
    "print(f'Avg Distance of People Stay: {stay.mean()}')\n",
    "print(\"t-statistic:\", t_stat)\n",
    "print(\"p-value:\", p)"
   ]
  },
  {
   "cell_type": "markdown",
   "id": "b745985f",
   "metadata": {},
   "source": [
    "From the result, we can conclude that employees who live farther from the office are more likely to leave the company. The difference is statistically significant, meaning distance from home affects attrition."
   ]
  },
  {
   "cell_type": "markdown",
   "id": "485ef160",
   "metadata": {},
   "source": [
    "### Bagaimana perbedaan pola attrition berdasarkan Gender?"
   ]
  },
  {
   "cell_type": "code",
   "execution_count": 51,
   "id": "6bcf6dc6",
   "metadata": {},
   "outputs": [
    {
     "name": "stdout",
     "output_type": "stream",
     "text": [
      "Gender  Attrition\n",
      "Female  No           501\n",
      "        Yes           87\n",
      "Male    No           732\n",
      "        Yes          150\n",
      "Name: count, dtype: int64\n"
     ]
    }
   ],
   "source": [
    "gender_diff = df.groupby('Gender')['Attrition'].value_counts()\n",
    "\n",
    "print(gender_diff)\n"
   ]
  },
  {
   "cell_type": "code",
   "execution_count": 54,
   "id": "c8b1fbc3",
   "metadata": {},
   "outputs": [
    {
     "data": {
      "image/png": "[encoded data removed]",
      "text/plain": [
       "<Figure size 640x480 with 1 Axes>"
      ]
     },
     "metadata": {},
     "output_type": "display_data"
    }
   ],
   "source": [
    "# Count how many Yes/No attrition per gender\n",
    "gender_attr = df.groupby(['Gender', 'Attrition']).size().reset_index(name='Count')\n",
    "\n",
    "# Plot\n",
    "sns.barplot(data=gender_attr, x='Gender', y='Count', hue='Attrition')\n",
    "plt.title(\"Attrition Count by Gender\")\n",
    "plt.legend(bbox_to_anchor=(1,1))\n",
    "plt.show()\n"
   ]
  },
  {
   "cell_type": "markdown",
   "id": "b4ab30b1",
   "metadata": {},
   "source": [
    "We can see from the chart that there are more male who left the company"
   ]
  },
  {
   "cell_type": "markdown",
   "id": "4791fff9",
   "metadata": {},
   "source": [
    "### Apa saja karakteristik demografi utama (Age, MonthlyIncome, PerformanceRating) dari karyawan yang keluar?"
   ]
  },
  {
   "cell_type": "code",
   "execution_count": 67,
   "id": "563df3ab",
   "metadata": {},
   "outputs": [
    {
     "name": "stdout",
     "output_type": "stream",
     "text": [
      "Max Age for Attrition: 58\n",
      "Min Age for Attrition: 18\n",
      "Mode Age for Attrition: 29\n",
      "Mean Age for Attrition: 33.61\n",
      "SDT Age for Attrition: 9.689349895351622\n"
     ]
    }
   ],
   "source": [
    "max_age_attr = df[df['Attrition'] == 'Yes']['Age'].max()\n",
    "min_age_attr = df[df['Attrition'] == 'Yes']['Age'].min()\n",
    "mode_age_attr = df[df['Attrition'] == 'Yes']['Age'].agg(lambda x: x.mode()[0])\n",
    "mean_age_attr = df[df['Attrition'] == 'Yes']['Age'].mean().round(2)\n",
    "std_age_attr = df[df['Attrition'] == 'Yes']['Age'].std()\n",
    "\n",
    "print(f'Max Age for Attrition: {max_age_attr}')\n",
    "print(f'Min Age for Attrition: {min_age_attr}')\n",
    "print(f'Mode Age for Attrition: {mode_age_attr}')\n",
    "print(f'Mean Age for Attrition: {mean_age_attr}')\n",
    "print(f'SDT Age for Attrition: {std_age_attr}')"
   ]
  },
  {
   "cell_type": "markdown",
   "id": "267f5712",
   "metadata": {},
   "source": [
    "Employees who left the company range in age from 18 to 58 years old, with an average age of 33.6 years. The most common age among those who left is 29, and the age variation is about ±9.7 years, indicating a fairly diverse age group within attrition cases."
   ]
  },
  {
   "cell_type": "code",
   "execution_count": 69,
   "id": "ac245aae",
   "metadata": {},
   "outputs": [
    {
     "data": {
      "text/plain": [
       "<Axes: ylabel='Frequency'>"
      ]
     },
     "execution_count": 69,
     "metadata": {},
     "output_type": "execute_result"
    },
    {
     "data": {
      "image/png": "[encoded data removed]",
      "text/plain": [
       "<Figure size 640x480 with 1 Axes>"
      ]
     },
     "metadata": {},
     "output_type": "display_data"
    }
   ],
   "source": [
    "df['Age'].plot(kind='hist')"
   ]
  },
  {
   "cell_type": "markdown",
   "id": "3ca2497c",
   "metadata": {},
   "source": [
    "Most employees who left are in their 30s to early 40s, while fewer younger (under 25) and older (above 50) employees experienced attrition. This suggests that mid-career employees are more likely to leave, potentially due to limited career progression opportunities or a shift in priorities toward better work–life balance."
   ]
  },
  {
   "cell_type": "code",
   "execution_count": 70,
   "id": "72c718db",
   "metadata": {},
   "outputs": [
    {
     "name": "stdout",
     "output_type": "stream",
     "text": [
      "Max Income for Attrition: 19859\n",
      "Min Income for Attrition: 1009\n",
      "Mode Income for Attrition: 2293\n",
      "Mean Income for Attrition: 4787.09\n",
      "SDT Income for Attrition: 3640.2103671038512\n"
     ]
    }
   ],
   "source": [
    "max_age_attr = df[df['Attrition'] == 'Yes']['MonthlyIncome'].max()\n",
    "min_age_attr = df[df['Attrition'] == 'Yes']['MonthlyIncome'].min()\n",
    "mode_age_attr = df[df['Attrition'] == 'Yes']['MonthlyIncome'].agg(lambda x: x.mode()[0])\n",
    "mean_age_attr = df[df['Attrition'] == 'Yes']['MonthlyIncome'].mean().round(2)\n",
    "std_age_attr = df[df['Attrition'] == 'Yes']['MonthlyIncome'].std()\n",
    "\n",
    "print(f'Max Income for Attrition: {max_age_attr}')\n",
    "print(f'Min Income for Attrition: {min_age_attr}')\n",
    "print(f'Mode Income for Attrition: {mode_age_attr}')\n",
    "print(f'Mean Income for Attrition: {mean_age_attr}')\n",
    "print(f'SDT Income for Attrition: {std_age_attr}')"
   ]
  },
  {
   "cell_type": "markdown",
   "id": "e56e70ee",
   "metadata": {},
   "source": [
    "Employees who left the company earned between $1,009 and $19,859, with an average income of about $4,787. The most common income among those who left is $2,293, and the income variation is quite large (SD = 3,640), indicating that attrition occurred across different income levels — though more common among lower- to mid-income employees."
   ]
  },
  {
   "cell_type": "code",
   "execution_count": 71,
   "id": "97eb42d9",
   "metadata": {},
   "outputs": [
    {
     "data": {
      "text/plain": [
       "<Axes: ylabel='Frequency'>"
      ]
     },
     "execution_count": 71,
     "metadata": {},
     "output_type": "execute_result"
    },
    {
     "data": {
      "image/png": "[encoded data removed]",
      "text/plain": [
       "<Figure size 640x480 with 1 Axes>"
      ]
     },
     "metadata": {},
     "output_type": "display_data"
    }
   ],
   "source": [
    "df['MonthlyIncome'].plot(kind='hist')"
   ]
  },
  {
   "cell_type": "markdown",
   "id": "e8f6276e",
   "metadata": {},
   "source": [
    "The distribution of monthly income is right-skewed, meaning most employees earn on the lower end (below $5,000), while only a few have very high salaries. Combined with earlier stats, this suggests that attrition is more common among lower- to mid-income employees, possibly due to compensation dissatisfaction or limited financial growth opportunities."
   ]
  },
  {
   "cell_type": "code",
   "execution_count": 76,
   "id": "12225d02",
   "metadata": {},
   "outputs": [
    {
     "name": "stdout",
     "output_type": "stream",
     "text": [
      "Max Performance Score for Attrition: 4\n",
      "Min Performance Score for Attrition: 3\n",
      "Mode Performance Score for Attrition: 3\n",
      "Mean Performance Score for Attrition: 3.16\n",
      "SDT Performance Score for Attrition: 0.3637354964898372\n"
     ]
    }
   ],
   "source": [
    "max_perf_attr = df[df['Attrition'] == 'Yes']['PerformanceRating'].max()\n",
    "min_perf_attr = df[df['Attrition'] == 'Yes']['PerformanceRating'].min()\n",
    "mode_perf_attr = df[df['Attrition'] == 'Yes']['PerformanceRating'].agg(lambda x: x.mode()[0])\n",
    "mean_perf_attr = df[df['Attrition'] == 'Yes']['PerformanceRating'].mean().round(2)\n",
    "std_perf_attr = df[df['Attrition'] == 'Yes']['PerformanceRating'].std()\n",
    "\n",
    "print(f'Max Performance Score for Attrition: {max_perf_attr}')\n",
    "print(f'Min Performance Score for Attrition: {min_perf_attr}')\n",
    "print(f'Mode Performance Score for Attrition: {mode_perf_attr}')\n",
    "print(f'Mean Performance Score for Attrition: {mean_perf_attr}')\n",
    "print(f'SDT Performance Score for Attrition: {std_perf_attr}')"
   ]
  },
  {
   "cell_type": "markdown",
   "id": "dffb51c7",
   "metadata": {},
   "source": [
    "Employees who left the company had performance scores ranging from 3 to 4, with an average score of 3.16. The most common score among those who left is 3, and the variation is small (SD = 0.36).\n",
    "\n",
    "This suggests that most employees who left were not low performers, indicating that attrition may not be driven by poor performance, but possibly by other factors like career growth or engagement."
   ]
  },
  {
   "cell_type": "code",
   "execution_count": 73,
   "id": "0dd06c0e",
   "metadata": {},
   "outputs": [
    {
     "data": {
      "text/plain": [
       "<Axes: ylabel='Frequency'>"
      ]
     },
     "execution_count": 73,
     "metadata": {},
     "output_type": "execute_result"
    },
    {
     "data": {
      "image/png": "[encoded data removed]",
      "text/plain": [
       "<Figure size 640x480 with 1 Axes>"
      ]
     },
     "metadata": {},
     "output_type": "display_data"
    }
   ],
   "source": [
    "df['PerformanceRating'].plot(kind='hist')"
   ]
  },
  {
   "cell_type": "markdown",
   "id": "91b3a2f8",
   "metadata": {},
   "source": [
    "Most employees who left had a performance score of 3, with very few rated 4.\n",
    "\n",
    "This indicates that attrition is not concentrated among low performers but rather among those performing at an average or slightly above-average level."
   ]
  },
  {
   "cell_type": "markdown",
   "id": "414cda00",
   "metadata": {},
   "source": [
    "### Apakah terdapat hubungan yang signifikan secara statistik antara JobSatisfaction dan Attrition (melalui uji Logistic Regression)?"
   ]
  },
  {
   "cell_type": "code",
   "execution_count": 75,
   "id": "b8c8a115",
   "metadata": {},
   "outputs": [
    {
     "name": "stdout",
     "output_type": "stream",
     "text": [
      "Optimization terminated successfully.\n",
      "         Current function value: 0.436413\n",
      "         Iterations 6\n",
      "                           Logit Regression Results                           \n",
      "==============================================================================\n",
      "Dep. Variable:          Attrition_num   No. Observations:                 1470\n",
      "Model:                          Logit   Df Residuals:                     1468\n",
      "Method:                           MLE   Df Model:                            1\n",
      "Date:                Tue, 07 Oct 2025   Pseudo R-squ.:                 0.01196\n",
      "Time:                        14:57:07   Log-Likelihood:                -641.53\n",
      "converged:                       True   LL-Null:                       -649.29\n",
      "Covariance Type:            nonrobust   LLR p-value:                 8.127e-05\n",
      "===================================================================================\n",
      "                      coef    std err          z      P>|z|      [0.025      0.975]\n",
      "-----------------------------------------------------------------------------------\n",
      "const              -0.9904      0.176     -5.635      0.000      -1.335      -0.646\n",
      "JobSatisfaction    -0.2510      0.064     -3.940      0.000      -0.376      -0.126\n",
      "===================================================================================\n"
     ]
    }
   ],
   "source": [
    "import statsmodels.api as sm\n",
    "\n",
    "# Encode Attrition to numeric\n",
    "df['Attrition_num'] = df['Attrition'].map({'Yes': 1, 'No': 0})\n",
    "\n",
    "# Add constant\n",
    "X = sm.add_constant(df['JobSatisfaction'])\n",
    "y = df['Attrition_num']\n",
    "\n",
    "# Fit logistic regression model\n",
    "model = sm.Logit(y, X).fit()\n",
    "print(model.summary())"
   ]
  },
  {
   "cell_type": "markdown",
   "id": "7102450b",
   "metadata": {},
   "source": [
    "A logistic regression analysis showed that Job Satisfaction significantly predicts Attrition (p < 0.001). The negative coefficient (-0.25) indicates that employees with higher job satisfaction are less likely to leave the company.\n",
    "\n",
    "This finding highlights the importance of monitoring engagement or satisfaction scores, when these scores decline, it may serve as an early warning signal for potential turnover within teams."
   ]
  }
 ],
 "metadata": {
  "kernelspec": {
   "display_name": "Hacktiv8",
   "language": "python",
   "name": "python3"
  },
  "language_info": {
   "codemirror_mode": {
    "name": "ipython",
    "version": 3
   },
   "file_extension": ".py",
   "mimetype": "text/x-python",
   "name": "python",
   "nbconvert_exporter": "python",
   "pygments_lexer": "ipython3",
   "version": "3.13.5"
  }
 },
 "nbformat": 4,
 "nbformat_minor": 5
}
