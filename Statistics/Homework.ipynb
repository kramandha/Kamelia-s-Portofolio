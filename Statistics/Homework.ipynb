{
 "cells": [
  {
   "cell_type": "markdown",
   "id": "cbbc13c2",
   "metadata": {},
   "source": [
    "'''\n",
    "    Graded Challenge 5\n",
    "\n",
    "    Nama  : Kamelia Ramandha\n",
    "    Batch : CODA-RMT-010\n",
    "\n",
    "    Program ini dibuat untuk melakukan analisa sederhana menggunakan statistik deskriptif dan inferensial guna melihat peluang bisnis untuk dropship seblak dari tokopedia.\n",
    "\n",
    "'''"
   ]
  },
  {
   "cell_type": "markdown",
   "id": "bd72cbaf",
   "metadata": {},
   "source": [
    "# Case\n",
    "Kamu ingin menambah pendapatanmu dengan berjualan. Namun, kamu tidak punya cukup modal untuk produksi barang dan hanya cukup untuk promosi, sehingga kamu memutuskan untuk menjalanan skema dropship di platform Tokopedia.\n",
    "\n",
    "Kamu masih bingung akan berjualan apa dan teringat bahwa saat ini sedang viral seblak. Namun, kamu tidak yakin apakah benar bahwa masyarakat memiliki animo yang besar terhadap seblak.\n",
    "\n",
    "Karena kamu lulusan bootcamp Data Analytics Hacktiv8, dengan kemampuan dan pengetahuan kamu, kamu ingin menganalisis bagaimana penjualan produk seblak di Tokopedia. Apakah orang suka, apakah banyak yang beli, dsb."
   ]
  },
  {
   "cell_type": "markdown",
   "id": "d15e1d4f",
   "metadata": {},
   "source": [
    "**Konteks Bisnis**\n",
    "\n",
    "Samuel, seorang pelajar berusia 21 tahun, ingin memanfaatkan waktunya sebelum mendapatkan pekerjaan tetap dengan mencoba berbisnis. Setelah melakukan riset di TikTok, ia menemukan tren makanan instan berupa seblak yang sering direview dan mendapat banyak perhatian. Samuel kemudian tertarik untuk menjadi dropshipper seblak di marketplace Tokopedia.\n",
    "\n",
    "Namun, ia menghadapi permasalahan karena harga seblak di Tokopedia sangat bervariasi, bahkan ada yang mencapai jutaan rupiah, sehingga sulit menentukan harga jual yang optimal. Samuel juga ingin tahu apakah lokasi penjual memengaruhi harga, serta apakah harga berkorelasi dengan jumlah pembelian. Untuk itu, ia meminta bantuan Hasan, seorang teman dengan latar belakang Data Analytics, agar dapat melakukan analisis menyeluruh terhadap penjualan seblak di Tokopedia.\n",
    "\n",
    "\n",
    "**Problem Statement (SMART Framework)**\n",
    "\n",
    "Specific: Samuel ingin menentukan produk seblak yang paling potensial dijual dengan harga optimal agar kompetitif di pasar.\n",
    "\n",
    "Measurable: Keberhasilan diukur dari pencapaian minimal 50 transaksi per bulan.\n",
    "\n",
    "Achievable: Berdasarkan analisis data, target ini realistis karena harga di kisaran tersebut sesuai dengan pasar dan tidak dipengaruhi lokasi penjual.\n",
    "\n",
    "Relevant: Tren konsumsi makanan instan di e-commerce terus meningkat, sehingga penetapan harga kompetitif dapat meningkatkan peluang penjualan.\n",
    "\n",
    "Time-bound: Analisis harus selesai dalam 1 bulan pertama, agar strategi penjualan bisa dijalankan selama 6 bulan ke depan.\n",
    "\n",
    "\n",
    "**Problem Statement (Ringkasan dalam 1 Kalimat)**\n",
    "\n",
    "Samuel perlu menentukan produk seblak dengan harga optimal dan target penjualan minimal 50 transaksi per bulan dalam waktu 1 bulan, agar strategi dropshipping yang dijalankan selama 6 bulan ke depan dapat menghasilkan keuntungan optimal."
   ]
  },
  {
   "cell_type": "code",
   "execution_count": null,
   "id": "1a55e1b5",
   "metadata": {},
   "outputs": [],
   "source": [
    "!pip install matplotlib seaborn\n"
   ]
  },
  {
   "cell_type": "code",
   "execution_count": 27,
   "id": "db8be5c1",
   "metadata": {},
   "outputs": [],
   "source": [
    "# Membuka modul yang diperlukan\n",
    "import pandas as pd\n",
    "from scipy import stats\n",
    "import matplotlib.pyplot as plt\n",
    "import seaborn as sns\n",
    "from IPython.display import display, HTML\n"
   ]
  },
  {
   "cell_type": "code",
   "execution_count": 3,
   "id": "06e2af58",
   "metadata": {},
   "outputs": [],
   "source": [
    "# Membuka file yang sudah dibuat untuk GC3\n",
    "df = pd.read_csv('tokopedia_seblak_clean.csv')\n"
   ]
  },
  {
   "cell_type": "code",
   "execution_count": null,
   "id": "8df82b57",
   "metadata": {},
   "outputs": [
    {
     "data": {
      "text/html": [
       "<div>\n",
       "<style scoped>\n",
       "    .dataframe tbody tr th:only-of-type {\n",
       "        vertical-align: middle;\n",
       "    }\n",
       "\n",
       "    .dataframe tbody tr th {\n",
       "        vertical-align: top;\n",
       "    }\n",
       "\n",
       "    .dataframe thead th {\n",
       "        text-align: right;\n",
       "    }\n",
       "</style>\n",
       "<table border=\"1\" class=\"dataframe\">\n",
       "  <thead>\n",
       "    <tr style=\"text-align: right;\">\n",
       "      <th></th>\n",
       "      <th>nama_produk</th>\n",
       "      <th>harga_bersih</th>\n",
       "      <th>penjual</th>\n",
       "      <th>kota_penjual</th>\n",
       "      <th>rating</th>\n",
       "      <th>jumlah_terjual</th>\n",
       "    </tr>\n",
       "  </thead>\n",
       "  <tbody>\n",
       "    <tr>\n",
       "      <th>0</th>\n",
       "      <td>TGM MERCH - Bantal Boneka Unik Motif Seblak</td>\n",
       "      <td>30000</td>\n",
       "      <td>Tgm Merch</td>\n",
       "      <td>Bekasi</td>\n",
       "      <td>4.8</td>\n",
       "      <td>50.0</td>\n",
       "    </tr>\n",
       "    <tr>\n",
       "      <th>1</th>\n",
       "      <td>Bumbu Tabur Premium Bubuk Tabur Keripik Tahu K...</td>\n",
       "      <td>8250</td>\n",
       "      <td>Mamacia Treats</td>\n",
       "      <td>Surabaya</td>\n",
       "      <td>5.0</td>\n",
       "      <td>100.0</td>\n",
       "    </tr>\n",
       "    <tr>\n",
       "      <th>2</th>\n",
       "      <td>(250 gram) Bumbu Tabur Premium Bubuk Tabur Ker...</td>\n",
       "      <td>58900</td>\n",
       "      <td>Mamacia Treats</td>\n",
       "      <td>Surabaya</td>\n",
       "      <td>5.0</td>\n",
       "      <td>15.0</td>\n",
       "    </tr>\n",
       "    <tr>\n",
       "      <th>3</th>\n",
       "      <td>INDOMIE MIE KUAH INSTANT RASA SEBLAK HOT JELET...</td>\n",
       "      <td>3500</td>\n",
       "      <td>Hypermart Depok</td>\n",
       "      <td>Depok</td>\n",
       "      <td>5.0</td>\n",
       "      <td>100.0</td>\n",
       "    </tr>\n",
       "    <tr>\n",
       "      <th>4</th>\n",
       "      <td>CAP IBU Bumbu Seblak Bandung - Bumbu Masak Ins...</td>\n",
       "      <td>38000</td>\n",
       "      <td>Cap Ibu Shop</td>\n",
       "      <td>Jakarta Timur</td>\n",
       "      <td>5.0</td>\n",
       "      <td>100.0</td>\n",
       "    </tr>\n",
       "  </tbody>\n",
       "</table>\n",
       "</div>"
      ],
      "text/plain": [
       "                                         nama_produk  harga_bersih  \\\n",
       "0        TGM MERCH - Bantal Boneka Unik Motif Seblak         30000   \n",
       "1  Bumbu Tabur Premium Bubuk Tabur Keripik Tahu K...          8250   \n",
       "2  (250 gram) Bumbu Tabur Premium Bubuk Tabur Ker...         58900   \n",
       "3  INDOMIE MIE KUAH INSTANT RASA SEBLAK HOT JELET...          3500   \n",
       "4  CAP IBU Bumbu Seblak Bandung - Bumbu Masak Ins...         38000   \n",
       "\n",
       "           penjual   kota_penjual  rating  jumlah_terjual  \n",
       "0        Tgm Merch         Bekasi     4.8            50.0  \n",
       "1   Mamacia Treats       Surabaya     5.0           100.0  \n",
       "2   Mamacia Treats       Surabaya     5.0            15.0  \n",
       "3  Hypermart Depok          Depok     5.0           100.0  \n",
       "4     Cap Ibu Shop  Jakarta Timur     5.0           100.0  "
      ]
     },
     "execution_count": 4,
     "metadata": {},
     "output_type": "execute_result"
    }
   ],
   "source": [
    "# Melihat 5 data teratas\n",
    "df.head()"
   ]
  },
  {
   "cell_type": "code",
   "execution_count": 5,
   "id": "43894c26",
   "metadata": {},
   "outputs": [
    {
     "name": "stdout",
     "output_type": "stream",
     "text": [
      "<class 'pandas.core.frame.DataFrame'>\n",
      "RangeIndex: 155 entries, 0 to 154\n",
      "Data columns (total 6 columns):\n",
      " #   Column          Non-Null Count  Dtype  \n",
      "---  ------          --------------  -----  \n",
      " 0   nama_produk     155 non-null    object \n",
      " 1   harga_bersih    155 non-null    int64  \n",
      " 2   penjual         155 non-null    object \n",
      " 3   kota_penjual    155 non-null    object \n",
      " 4   rating          146 non-null    float64\n",
      " 5   jumlah_terjual  147 non-null    float64\n",
      "dtypes: float64(2), int64(1), object(3)\n",
      "memory usage: 7.4+ KB\n"
     ]
    }
   ],
   "source": [
    "# Melihat profil data\n",
    "df.info()"
   ]
  },
  {
   "cell_type": "code",
   "execution_count": 7,
   "id": "27447d3b",
   "metadata": {},
   "outputs": [
    {
     "data": {
      "text/plain": [
       "np.int64(0)"
      ]
     },
     "execution_count": 7,
     "metadata": {},
     "output_type": "execute_result"
    }
   ],
   "source": [
    "# Melihat data yang duplikat\n",
    "df.duplicated().sum()\n"
   ]
  },
  {
   "cell_type": "code",
   "execution_count": 8,
   "id": "0383484b",
   "metadata": {},
   "outputs": [
    {
     "data": {
      "text/plain": [
       "nama_produk       0\n",
       "harga_bersih      0\n",
       "penjual           0\n",
       "kota_penjual      0\n",
       "rating            9\n",
       "jumlah_terjual    8\n",
       "dtype: int64"
      ]
     },
     "execution_count": 8,
     "metadata": {},
     "output_type": "execute_result"
    }
   ],
   "source": [
    "# Melihat data yang null    \n",
    "df.isnull().sum()"
   ]
  },
  {
   "cell_type": "code",
   "execution_count": 9,
   "id": "20ca1378",
   "metadata": {},
   "outputs": [],
   "source": [
    "# Menghapus data yang null\n",
    "df = df.dropna()"
   ]
  },
  {
   "cell_type": "code",
   "execution_count": 10,
   "id": "ab9166dd",
   "metadata": {},
   "outputs": [
    {
     "name": "stdout",
     "output_type": "stream",
     "text": [
      "<class 'pandas.core.frame.DataFrame'>\n",
      "Index: 146 entries, 0 to 154\n",
      "Data columns (total 6 columns):\n",
      " #   Column          Non-Null Count  Dtype  \n",
      "---  ------          --------------  -----  \n",
      " 0   nama_produk     146 non-null    object \n",
      " 1   harga_bersih    146 non-null    int64  \n",
      " 2   penjual         146 non-null    object \n",
      " 3   kota_penjual    146 non-null    object \n",
      " 4   rating          146 non-null    float64\n",
      " 5   jumlah_terjual  146 non-null    float64\n",
      "dtypes: float64(2), int64(1), object(3)\n",
      "memory usage: 8.0+ KB\n"
     ]
    }
   ],
   "source": [
    "# Melihat profil data\n",
    "df.info()"
   ]
  },
  {
   "cell_type": "markdown",
   "id": "9cc099b0",
   "metadata": {},
   "source": [
    "## Analisa Data Harga"
   ]
  },
  {
   "cell_type": "code",
   "execution_count": 20,
   "id": "a0b01a10",
   "metadata": {},
   "outputs": [
    {
     "name": "stdout",
     "output_type": "stream",
     "text": [
      "Average Price: Rp. 79872.29\n",
      "Median Price: Rp. 22250.0\n",
      "Mode Price: Rp. 25000\n",
      "Min Price: Rp. 345\n",
      "Max Price: Rp. 5000000\n"
     ]
    }
   ],
   "source": [
    "# Melihat data Median, Mean, dan Modus untuk Harga\n",
    "print('Average Price:',\"Rp.\",df['harga_bersih'].mean().round(2))\n",
    "print('Median Price:',\"Rp.\",df['harga_bersih'].median())\n",
    "print('Mode Price:',\"Rp.\",df['harga_bersih'].mode().values[0])\n",
    "print(\"Min Price:\",\"Rp.\",df['harga_bersih'].min())\n",
    "print(\"Max Price:\",\"Rp.\",df['harga_bersih'].max())"
   ]
  },
  {
   "cell_type": "code",
   "execution_count": 19,
   "id": "66e37cd1",
   "metadata": {},
   "outputs": [
    {
     "name": "stdout",
     "output_type": "stream",
     "text": [
      "Standard Deviation of Price: 423058.8618312924\n"
     ]
    }
   ],
   "source": [
    "# Melihat jarakan harga menggunakan standard deviasi\n",
    "std = df['harga_bersih'].std()\n",
    "print('Standard Deviation of Price:',std)"
   ]
  },
  {
   "cell_type": "code",
   "execution_count": null,
   "id": "8f52384f",
   "metadata": {},
   "outputs": [],
   "source": [
    "Dari hasil diatas, dapat disimpulkan bahwa:\n",
    "- Rata-rata harga seblak di Tokopedia adalah Rp.79.872,\n",
    "- Median harga seblak di Tokopedia adalah Rp.22.250,\n",
    "- Modus harga seblak di Tokopedia adalah Rp.25.000,\n",
    "- Harga seblak termurah di Tokopedia adalah Rp.345,\n",
    "- Harga seblak termahal di Tokopedia adalah Rp.5.000.000,\n",
    "- Jarak harga seblak di Tokopedia berdasarkan standard deviasi adalah Rp.423058 --> Hal ini menunjukkan bahwa harga seblak di Tokopedia sangat bervariasi dan kemungkinan memiliki outlier yang cukup tinggi."
   ]
  },
  {
   "cell_type": "code",
   "execution_count": null,
   "id": "6852d13d",
   "metadata": {},
   "outputs": [],
   "source": [
    "Setelah dilihat, standar deviasi harga cukup tinggi yaitu pada Rp.423.058 dan harga terendah dengan tertinggi memiliki jarak yang besar. Hal ini mengindikasi adanya outlier yang besar.\n",
    "\n",
    "Untuk memvisualisasikan outlier, dapat digunakan boxplot sebagai berikut:"
   ]
  },
  {
   "cell_type": "code",
   "execution_count": null,
   "id": "5584d86d",
   "metadata": {},
   "outputs": [
    {
     "name": "stdout",
     "output_type": "stream",
     "text": [
      "Q1: 12729.25\n",
      "Q2: 22250.0\n",
      "Q3: 35000.0\n",
      "Interquartile Range (IQR): 22270.75\n"
     ]
    }
   ],
   "source": [
    "# Menghitung Q1, Q2, Q3, dan IQR untuk visualisasi boxplot\n",
    "q1 = df['harga_bersih'].quantile(0.25)\n",
    "q2 = df['harga_bersih'].quantile(0.5)\n",
    "q3 = df['harga_bersih'].quantile(0.75)\n",
    "\n",
    "iqr = q3 - q1\n",
    "print('Q1:',q1)\n",
    "print('Q2:',q2)\n",
    "print('Q3:',q3)\n",
    "print('Interquartile Range (IQR):',iqr)"
   ]
  },
  {
   "cell_type": "code",
   "execution_count": 67,
   "id": "228d017d",
   "metadata": {},
   "outputs": [
    {
     "data": {
      "image/png": "[encoded data removed]",
      "text/plain": [
       "<Figure size 600x400 with 1 Axes>"
      ]
     },
     "metadata": {},
     "output_type": "display_data"
    }
   ],
   "source": [
    "# Visualisasi boxplot menggunakan semua data\n",
    "\n",
    "plt.figure(figsize=(6, 4))\n",
    "plt.boxplot(df['harga_bersih'], vert=False, patch_artist=True)\n",
    "\n",
    "plt.annotate(f'Q1 = {q1}', xy=(q1, 1.06), xytext=(q1, 1.2), arrowprops=dict(facecolor='black', arrowstyle='->'))\n",
    "plt.annotate(f'Q2 = {q2}', xy=(q2, 1.06), xytext=(q2, 1.3), arrowprops=dict(facecolor='black', arrowstyle='->'))\n",
    "plt.annotate(f'Q3 = {q3}', xy=(q3, 1.06), xytext=(q3, 1.2), arrowprops=dict(facecolor='black', arrowstyle='->'))\n",
    "plt.annotate(f'IQR = {iqr}', xy=((q1+q3)/2, 0.85), ha='center')\n",
    "\n",
    "plt.axvline(q1, linestyle='--', color='gray', label='Q1')\n",
    "plt.axvline(q3, linestyle='--', color='gray', label='Q3')\n",
    "plt.axvspan(q1, q3, alpha=0.2, color='gray', label='IQR')\n",
    "\n",
    "plt.xlabel('Values')\n",
    "plt.title('Boxplot of Price')\n",
    "\n",
    "plt.show()"
   ]
  },
  {
   "cell_type": "code",
   "execution_count": null,
   "id": "77a37772",
   "metadata": {},
   "outputs": [
    {
     "data": {
      "image/png": "[encoded data removed]",
      "text/plain": [
       "<Figure size 600x400 with 1 Axes>"
      ]
     },
     "metadata": {},
     "output_type": "display_data"
    }
   ],
   "source": [
    "# Visualisasi boxplot dengan limitasi axis x untuk visualisasi yang lebih baik\n",
    "plt.figure(figsize=(6, 4))\n",
    "plt.boxplot(df['harga_bersih'], vert=False, patch_artist=True)\n",
    "\n",
    "plt.annotate(f'Q1 = {q1}', xy=(q1, 1.06), xytext=(q1, 1.2), arrowprops=dict(facecolor='black', arrowstyle='->'))\n",
    "plt.annotate(f'Q2 = {q2}', xy=(q2, 1.06), xytext=(q2, 1.3), arrowprops=dict(facecolor='black', arrowstyle='->'))\n",
    "plt.annotate(f'Q3 = {q3}', xy=(q3, 1.06), xytext=(q3, 1.2), arrowprops=dict(facecolor='black', arrowstyle='->'))\n",
    "plt.annotate(f'IQR = {iqr}', xy=((q1+q3)/2, 0.85), ha='center')\n",
    "\n",
    "plt.axvline(q1, linestyle='--', color='gray', label='Q1')\n",
    "plt.axvline(q3, linestyle='--', color='gray', label='Q3')\n",
    "plt.axvspan(q1, q3, alpha=0.2, color='gray', label='IQR')\n",
    "\n",
    "plt.xlabel('Values')\n",
    "plt.xlim(0, 250000) # Melimit axis x for better visualization\n",
    "plt.title('Boxplot of Price')\n",
    "\n",
    "plt.show()"
   ]
  },
  {
   "cell_type": "code",
   "execution_count": null,
   "id": "d3fb9630",
   "metadata": {},
   "outputs": [],
   "source": [
    "Setelah dilihat menggunakan boxplot, makin terlihat bahwa outlier pada harga seblak terletak di bagian kanan boxplot (harga yang sangat tinggi dibandingkan dengan median).\n",
    "\n",
    "Dengan itu, untuk menghindari outlier, maka kita dapat menggunakan median sebagai ukuran pemusatan data pada harga seblak di Tokopedia, yaitu Rp.22.250."
   ]
  },
  {
   "cell_type": "code",
   "execution_count": null,
   "id": "4594742e",
   "metadata": {},
   "outputs": [],
   "source": [
    "Lalu, kita juga bisa melihat penyebaran data harga seblak di Tokopedia sebagai berikut:"
   ]
  },
  {
   "cell_type": "code",
   "execution_count": null,
   "id": "7a602d3c",
   "metadata": {},
   "outputs": [
    {
     "data": {
      "image/png": "[encoded data removed]",
      "text/plain": [
       "<Figure size 640x480 with 1 Axes>"
      ]
     },
     "metadata": {},
     "output_type": "display_data"
    }
   ],
   "source": [
    "# Visualisasi persebaran data menggunakan histogram\n",
    "df['harga_bersih'].plot(\n",
    "    kind='hist',\n",
    "    bins=1000, # Menggunakan bins yang lebih banyak untuk melihat distribusi data dengan lebih detail\n",
    ")\n",
    "\n",
    "plt.xlabel(\"Harga (Rp)\")\n",
    "plt.ylabel(\"Jumlah Produk\")\n",
    "plt.title(\"Distribusi Harga Seblak di Tokopedia\")\n",
    "\n",
    "plt.xlim(0, 200000)  # excluding outliers dengan membatasi harga di Rp 200.000\n",
    "plt.show()\n"
   ]
  },
  {
   "cell_type": "code",
   "execution_count": 54,
   "id": "941cbde3",
   "metadata": {},
   "outputs": [
    {
     "name": "stdout",
     "output_type": "stream",
     "text": [
      "p-value: 1.1293559362916386e-66\n",
      "Skewness: 11.057824803481415\n",
      "Kurtosis: 128.5133529056007\n"
     ]
    }
   ],
   "source": [
    "# Melihat normalitas data menggunakan D'Agostino's K^2 Test\n",
    "res = stats.normaltest(df['harga_bersih'])\n",
    "\n",
    "print(f'p-value: {res.pvalue}') \n",
    "print(f\"Skewness: {df['harga_bersih'].skew()}\")\n",
    "print(f\"Kurtosis: {df['harga_bersih'].kurtosis()}\")\n"
   ]
  },
  {
   "cell_type": "markdown",
   "id": "ab510c9d",
   "metadata": {},
   "source": [
    "Setelah ditelaah lebih lanjut. Distribusi harga seblak sangat tidak normal, ditandai oleh:\n",
    "\n",
    "1. p-value yang hampir 0 (tolak normalitas) karena angkanya telah mencapai > 0.05\n",
    "2. skewness positif besar (long right tail, karena ada harga Rp 5.000.000) karena skewness > 1 dan positif\n",
    "3. kurtosis super tinggi dengan kategori Leptokurtic (outlier sangat parah) karena kurtosis > 3"
   ]
  },
  {
   "cell_type": "code",
   "execution_count": null,
   "id": "9c3b11ff",
   "metadata": {},
   "outputs": [],
   "source": [
    "Lalu, kita bisa membuat data normalitas data harga seblak di Tokopedia sebagai berikut menggunakan Tukey's Rule:"
   ]
  },
  {
   "cell_type": "code",
   "execution_count": null,
   "id": "46ac1491",
   "metadata": {},
   "outputs": [
    {
     "name": "stdout",
     "output_type": "stream",
     "text": [
      "Upper Bound: 68406.12\n",
      "Lower Bound: 0.00\n"
     ]
    }
   ],
   "source": [
    "# Menentukan batas atas dan bawah menggunakan Tukey's Rule\n",
    "q1 = df['harga_bersih'].quantile(0.25)\n",
    "q3 = df['harga_bersih'].quantile(0.75)\n",
    "iqr = q3-q1\n",
    "\n",
    "lower_bound = max(0, q1 - 1.5*iqr) # lower bound dibuat tidak kurang dari 0 karena harga tidak mungkin negatif\n",
    "upper_bound = q3 + 1.5*iqr\n",
    "\n",
    "print(f\"Upper Bound: {upper_bound:.2f}\")\n",
    "print(f\"Lower Bound: {lower_bound:.2f}\")\n"
   ]
  },
  {
   "cell_type": "code",
   "execution_count": null,
   "id": "1b45eae0",
   "metadata": {},
   "outputs": [
    {
     "name": "stdout",
     "output_type": "stream",
     "text": [
      "Percentage of outliers: 10.27%%\n"
     ]
    }
   ],
   "source": [
    "# Mencari persentase outlier\n",
    "\n",
    "outlier = df['harga_bersih'][(df['harga_bersih']<low_bound) | (df['harga_bersih']>up_bound)]\n",
    "no_outlier = df['harga_bersih'][(df['harga_bersih']>=low_bound) & (df['harga_bersih']<=up_bound)]\n",
    "\n",
    "print(f'Percentage of outliers: {len(outlier)*100/len(df['harga_bersih']):.2f}%%')"
   ]
  },
  {
   "cell_type": "code",
   "execution_count": null,
   "id": "837cc3c4",
   "metadata": {},
   "outputs": [
    {
     "data": {
      "text/plain": [
       "<Axes: >"
      ]
     },
     "execution_count": 65,
     "metadata": {},
     "output_type": "execute_result"
    },
    {
     "data": {
      "image/png": "[encoded data removed]",
      "text/plain": [
       "<Figure size 1000x400 with 2 Axes>"
      ]
     },
     "metadata": {},
     "output_type": "display_data"
    }
   ],
   "source": [
    "# Membuat visualisasi data normalitas menggunakan histogram dan boxplot\n",
    "fig, ax = plt.subplots(ncols=2,figsize=(10,4))\n",
    "\n",
    "no_outlier.plot(kind='hist',bins=20,ax=ax[0])\n",
    "no_outlier.plot(kind='box',ax=ax[1])"
   ]
  },
  {
   "cell_type": "code",
   "execution_count": 66,
   "id": "9bf7e17e",
   "metadata": {},
   "outputs": [
    {
     "name": "stdout",
     "output_type": "stream",
     "text": [
      "Average Price: Rp. 21593.73\n",
      "Median Price: Rp. 18000.0\n",
      "Mode Price: Rp. 25000\n",
      "Min Price: Rp. 345\n",
      "Max Price: Rp. 68000\n"
     ]
    }
   ],
   "source": [
    "# Melihat data Median, Mean, dan Modus untuk Harga\n",
    "print('Average Price:',\"Rp.\",no_outlier.mean().round(2))\n",
    "print('Median Price:',\"Rp.\",no_outlier.median())\n",
    "print('Mode Price:',\"Rp.\",no_outlier.mode().values[0])\n",
    "print(\"Min Price:\",\"Rp.\",no_outlier.min())\n",
    "print(\"Max Price:\",\"Rp.\",no_outlier.max())"
   ]
  },
  {
   "cell_type": "markdown",
   "id": "7c781904",
   "metadata": {},
   "source": [
    "Setelah hasil normalisasi dan menghilangkan outliers, maka data terkait harga adalah sebagai berikut:\n",
    "1. Rata-rata harga seblak adalah Rp.21.593\n",
    "2. Nilai tengah dari harga seblak adalah Rp.18.000\n",
    "3. Nilai terbanyak dari harga seblak adalah Rp.25.000\n",
    "4. Nilai terendah dari harga seblak adalah Rp.345\n",
    "5. Nilai tertinggi dari harga seblak adalah Rp.68000"
   ]
  },
  {
   "cell_type": "markdown",
   "id": "63a09323",
   "metadata": {},
   "source": [
    "## Analisa Data Rating"
   ]
  },
  {
   "cell_type": "code",
   "execution_count": 17,
   "id": "c432bdc5",
   "metadata": {},
   "outputs": [
    {
     "name": "stdout",
     "output_type": "stream",
     "text": [
      "Average Rating: 4.9\n",
      "Median Rating: 5.0\n",
      "Mode Rating: 5.0\n",
      "Min Rating: 4.0\n",
      "Max Rating: 5.0\n"
     ]
    }
   ],
   "source": [
    "# Melihat data Median, Mean, dan Modus untuk Harga\n",
    "print('Average Rating:',df['rating'].mean().round(2))\n",
    "print('Median Rating:',df['rating'].median())\n",
    "print('Mode Rating:',df['rating'].mode().values[0])\n",
    "print('Min Rating:',df['rating'].min())\n",
    "print('Max Rating:',df['rating'].max())"
   ]
  },
  {
   "cell_type": "markdown",
   "id": "e96e2f25",
   "metadata": {},
   "source": [
    "Dari melihat data rating di atas, dapat diprediksi bahwa persebaran data tidaklah normal karena mean =/ median. Ada kemungkinan bahwa data skewed ke kanan."
   ]
  },
  {
   "cell_type": "code",
   "execution_count": 18,
   "id": "8eec1af3",
   "metadata": {},
   "outputs": [
    {
     "data": {
      "text/plain": [
       "rating\n",
       "4.0      5\n",
       "4.4      1\n",
       "4.5      2\n",
       "4.6      5\n",
       "4.7      9\n",
       "4.8     15\n",
       "4.9      8\n",
       "5.0    101\n",
       "Name: count, dtype: int64"
      ]
     },
     "execution_count": 18,
     "metadata": {},
     "output_type": "execute_result"
    }
   ],
   "source": [
    "# Melihat jumlah produk berdasarkan rating\n",
    "df['rating'].value_counts().sort_index()"
   ]
  },
  {
   "cell_type": "code",
   "execution_count": 84,
   "id": "12bd9d9a",
   "metadata": {},
   "outputs": [
    {
     "name": "stdout",
     "output_type": "stream",
     "text": [
      "Standard Deviation of Price: 0.21315831369702193\n"
     ]
    }
   ],
   "source": [
    "# Melihat jarakan harga menggunakan standard deviasi\n",
    "std = df['rating'].std()\n",
    "print('Standard Deviation of Price:',std)"
   ]
  },
  {
   "cell_type": "code",
   "execution_count": null,
   "id": "b1d29fd8",
   "metadata": {},
   "outputs": [],
   "source": [
    "Setelah dilihat persebaran dan standard deviasi dari rating, dapat disimpulkan bahwa persebaran data bersifat sempit, dengan nilai mengumpul di sekitar 4.0 - 5.0."
   ]
  },
  {
   "cell_type": "code",
   "execution_count": 69,
   "id": "b4dda123",
   "metadata": {},
   "outputs": [
    {
     "name": "stdout",
     "output_type": "stream",
     "text": [
      "Q1: 4.825\n",
      "Q2: 5.0\n",
      "Q3: 5.0\n",
      "Interquartile Range (IQR): 0.17499999999999982\n"
     ]
    }
   ],
   "source": [
    "# Menghitung Q1, Q2, Q3, dan IQR untuk visualisasi boxplot\n",
    "q1 = df['rating'].quantile(0.25)\n",
    "q2 = df['rating'].quantile(0.5)\n",
    "q3 = df['rating'].quantile(0.75)\n",
    "\n",
    "iqr = q3 - q1\n",
    "print('Q1:',q1)\n",
    "print('Q2:',q2)\n",
    "print('Q3:',q3)\n",
    "print('Interquartile Range (IQR):',iqr)"
   ]
  },
  {
   "cell_type": "code",
   "execution_count": null,
   "id": "9af34f25",
   "metadata": {},
   "outputs": [],
   "source": [
    "Dari persebaran data rating di atas, IQR yang dimiliki sangat kecil, yaitu 0.17. Hal ini menandahkan bahwa persebaran data rating yang dimiliki sangat rapat dan data cenderung terkonsentrasi di nilai tertentu (dalam hal ini adalah 5)."
   ]
  },
  {
   "cell_type": "code",
   "execution_count": 70,
   "id": "49e962e1",
   "metadata": {},
   "outputs": [
    {
     "data": {
      "image/png": "[encoded data removed]",
      "text/plain": [
       "<Figure size 600x400 with 1 Axes>"
      ]
     },
     "metadata": {},
     "output_type": "display_data"
    }
   ],
   "source": [
    "# Visualisasi boxplot menggunakan semua data\n",
    "\n",
    "plt.figure(figsize=(6, 4))\n",
    "plt.boxplot(df['rating'], vert=False, patch_artist=True)\n",
    "\n",
    "plt.annotate(f'Q1 = {q1}', xy=(q1, 1.06), xytext=(q1, 1.2), arrowprops=dict(facecolor='black', arrowstyle='->'))\n",
    "plt.annotate(f'Q2 = {q2}', xy=(q2, 1.06), xytext=(q2, 1.3), arrowprops=dict(facecolor='black', arrowstyle='->'))\n",
    "plt.annotate(f'Q3 = {q3}', xy=(q3, 1.06), xytext=(q3, 1.2), arrowprops=dict(facecolor='black', arrowstyle='->'))\n",
    "plt.annotate(f'IQR = {iqr}', xy=((q1+q3)/2, 0.85), ha='center')\n",
    "\n",
    "plt.axvline(q1, linestyle='--', color='gray', label='Q1')\n",
    "plt.axvline(q3, linestyle='--', color='gray', label='Q3')\n",
    "plt.axvspan(q1, q3, alpha=0.2, color='gray', label='IQR')\n",
    "\n",
    "plt.xlabel('Values')\n",
    "plt.title('Boxplot of Price')\n",
    "\n",
    "plt.show()"
   ]
  },
  {
   "cell_type": "markdown",
   "id": "3f823b86",
   "metadata": {},
   "source": [
    "Dari boxplot di atas dapat dikonfirmasi bahwa data rating banyak mengumpul di 4.8 hingga 5, dengan tail panjang di sebelah kiri. Hal tersebut mengindikasikan adanya negative skewness."
   ]
  },
  {
   "cell_type": "code",
   "execution_count": 72,
   "id": "c84af519",
   "metadata": {},
   "outputs": [
    {
     "name": "stdout",
     "output_type": "stream",
     "text": [
      "p-value: 4.942859580727235e-24\n",
      "Skewness: -2.8527008081824983\n",
      "Kurtosis: 8.796054135489127\n"
     ]
    }
   ],
   "source": [
    "# Melihat normalitas data menggunakan D'Agostino's K^2 Test\n",
    "res = stats.normaltest(df['rating'])\n",
    "\n",
    "print(f'p-value: {res.pvalue}') \n",
    "print(f\"Skewness: {df['rating'].skew()}\")\n",
    "print(f\"Kurtosis: {df['rating'].kurtosis()}\")\n"
   ]
  },
  {
   "cell_type": "markdown",
   "id": "1fd26ac6",
   "metadata": {},
   "source": [
    "Dari data di atas, dapat disimpulkan bahwa:\n",
    "1. p-value > 0, hal ini menandakan bahwa persebaran data tidak normal\n",
    "2. Skewness level < 1, hal ini menandakan bahwa skewness bersifat negatif dan memiliki tail yang panjang di sebelah kiri\n",
    "3. Kurtosis > 3, hal ini menandakan bahwa kurtosis bersifat Leptokurtic dimana data cenderung terpusat pada satu nilai."
   ]
  },
  {
   "cell_type": "markdown",
   "id": "692f7338",
   "metadata": {},
   "source": [
    "## Analisa Data Jumlah Produk Terjual"
   ]
  },
  {
   "cell_type": "code",
   "execution_count": 75,
   "id": "e13a082b",
   "metadata": {},
   "outputs": [
    {
     "name": "stdout",
     "output_type": "stream",
     "text": [
      "Average Sold: 57.69\n",
      "Median Sold: 16.0\n",
      "Mode Sold: 2.0\n",
      "Min Sold: 1.0\n",
      "Max Sold: 750.0\n"
     ]
    }
   ],
   "source": [
    "# Melihat data Median, Mean, dan Modus untuk Jumlah Terjual\n",
    "print('Average Sold:',df['jumlah_terjual'].mean().round(2))\n",
    "print('Median Sold:',df['jumlah_terjual'].median())\n",
    "print('Mode Sold:',df['jumlah_terjual'].mode().values[0])\n",
    "print(\"Min Sold:\",df['jumlah_terjual'].min())\n",
    "print(\"Max Sold:\",df['jumlah_terjual'].max())"
   ]
  },
  {
   "cell_type": "markdown",
   "id": "543e5ed0",
   "metadata": {},
   "source": [
    "Dari hasil perhitungan sederhana di atas, dapat diprediksi bahwa persebaran data tidak normal karena mean > median. Kemungkinan besar ada data outlier pada kategori jumlah terjual."
   ]
  },
  {
   "cell_type": "code",
   "execution_count": 76,
   "id": "9a8b5c09",
   "metadata": {},
   "outputs": [
    {
     "data": {
      "text/plain": [
       "jumlah_terjual\n",
       "1.0      11\n",
       "2.0      14\n",
       "3.0       7\n",
       "4.0       4\n",
       "5.0       4\n",
       "6.0       2\n",
       "7.0       6\n",
       "8.0       5\n",
       "9.0       6\n",
       "10.0      2\n",
       "11.0      2\n",
       "12.0      2\n",
       "14.0      3\n",
       "15.0      4\n",
       "16.0      3\n",
       "19.0      3\n",
       "20.0      1\n",
       "22.0      3\n",
       "27.0      1\n",
       "28.0      3\n",
       "29.0      1\n",
       "30.0      6\n",
       "40.0      6\n",
       "50.0      9\n",
       "60.0      5\n",
       "70.0      1\n",
       "80.0      7\n",
       "90.0      2\n",
       "100.0    12\n",
       "250.0     5\n",
       "500.0     5\n",
       "750.0     1\n",
       "Name: count, dtype: int64"
      ]
     },
     "execution_count": 76,
     "metadata": {},
     "output_type": "execute_result"
    }
   ],
   "source": [
    "# Melihat jumlah produk berdasarkan rating\n",
    "df['jumlah_terjual'].value_counts().sort_index()"
   ]
  },
  {
   "cell_type": "code",
   "execution_count": 85,
   "id": "f971465b",
   "metadata": {},
   "outputs": [
    {
     "name": "stdout",
     "output_type": "stream",
     "text": [
      "Standard Deviation of Price: 114.22214080125009\n"
     ]
    }
   ],
   "source": [
    "# Melihat jarakan harga menggunakan standard deviasi\n",
    "std = df['jumlah_terjual'].std()\n",
    "print('Standard Deviation of Price:',std)"
   ]
  },
  {
   "cell_type": "code",
   "execution_count": null,
   "id": "70c22f28",
   "metadata": {},
   "outputs": [],
   "source": [
    "Dari hasil di atas, dapat disimpulkan bahwa persebaran data jumlah terjual memiliki jarak yang cukup jauh, dengan nilai terjual terendah 1 dan tertinggi 750. Hal ini mengindikasikan adanya outlier yang cukup besar pada data jumlah terjual."
   ]
  },
  {
   "cell_type": "code",
   "execution_count": 77,
   "id": "87329119",
   "metadata": {},
   "outputs": [
    {
     "data": {
      "image/png": "[encoded data removed]",
      "text/plain": [
       "<Figure size 640x480 with 1 Axes>"
      ]
     },
     "metadata": {},
     "output_type": "display_data"
    }
   ],
   "source": [
    "# Visualisasi persebaran data menggunakan histogram\n",
    "df['jumlah_terjual'].plot(\n",
    "    kind='hist',\n",
    "    bins=1000, # Menggunakan bins yang lebih banyak untuk melihat distribusi data dengan lebih detail\n",
    ")\n",
    "\n",
    "plt.xlabel(\"Jumlah Terjual\")\n",
    "plt.ylabel(\"Jumlah Produk\")\n",
    "plt.title(\"Distribusi Penjualan Seblak di Tokopedia\")\n",
    "\n",
    "plt.show()\n"
   ]
  },
  {
   "cell_type": "code",
   "execution_count": 80,
   "id": "987ec838",
   "metadata": {},
   "outputs": [
    {
     "data": {
      "image/png": "[encoded data removed]",
      "text/plain": [
       "<Figure size 640x480 with 1 Axes>"
      ]
     },
     "metadata": {},
     "output_type": "display_data"
    }
   ],
   "source": [
    "# Visualisasi persebaran data menggunakan histogram (excluding outlier)\n",
    "df['jumlah_terjual'].plot(\n",
    "    kind='hist',\n",
    "    bins=1000, # Menggunakan bins yang lebih banyak untuk melihat distribusi data dengan lebih detail\n",
    ")\n",
    "\n",
    "plt.xlabel(\"Jumlah Terjual\")\n",
    "plt.ylabel(\"Jumlah Produk\")\n",
    "plt.title(\"Distribusi Penjualan Seblak di Tokopedia\")\n",
    "\n",
    "plt.xlim(0, 150)  # excluding outliers dengan membatasi jumlah terjual di 300\n",
    "plt.show()\n"
   ]
  },
  {
   "cell_type": "markdown",
   "id": "67bf98f9",
   "metadata": {},
   "source": [
    "Setelah dilihat menggunakan histogram, tidak terlihat adanya skewness yang dominan. Data banyak terletak pada >20, 50, dan 100."
   ]
  },
  {
   "cell_type": "code",
   "execution_count": 81,
   "id": "55d858f7",
   "metadata": {},
   "outputs": [
    {
     "name": "stdout",
     "output_type": "stream",
     "text": [
      "Q1: 5.0\n",
      "Q2: 16.0\n",
      "Q3: 60.0\n",
      "Interquartile Range (IQR): 55.0\n"
     ]
    }
   ],
   "source": [
    "# Menghitung Q1, Q2, Q3, dan IQR untuk visualisasi boxplot\n",
    "q1 = df['jumlah_terjual'].quantile(0.25)\n",
    "q2 = df['jumlah_terjual'].quantile(0.5)\n",
    "q3 = df['jumlah_terjual'].quantile(0.75)\n",
    "\n",
    "iqr = q3 - q1\n",
    "print('Q1:',q1)\n",
    "print('Q2:',q2)\n",
    "print('Q3:',q3)\n",
    "print('Interquartile Range (IQR):',iqr)"
   ]
  },
  {
   "cell_type": "code",
   "execution_count": 83,
   "id": "0a7fbb1a",
   "metadata": {},
   "outputs": [
    {
     "data": {
      "image/png": "[encoded data removed]",
      "text/plain": [
       "<Figure size 600x400 with 1 Axes>"
      ]
     },
     "metadata": {},
     "output_type": "display_data"
    }
   ],
   "source": [
    "# Visualisasi boxplot menggunakan semua data\n",
    "\n",
    "plt.figure(figsize=(6, 4))\n",
    "plt.boxplot(df['jumlah_terjual'], vert=False, patch_artist=True)\n",
    "\n",
    "plt.annotate(f'Q1 = {q1}', xy=(q1, 1.06), xytext=(q1, 1.2), arrowprops=dict(facecolor='black', arrowstyle='->'))\n",
    "plt.annotate(f'Q2 = {q2}', xy=(q2, 1.06), xytext=(q2, 1.3), arrowprops=dict(facecolor='black', arrowstyle='->'))\n",
    "plt.annotate(f'Q3 = {q3}', xy=(q3, 1.06), xytext=(q3, 1.2), arrowprops=dict(facecolor='black', arrowstyle='->'))\n",
    "plt.annotate(f'IQR = {iqr}', xy=((q1+q3)/2, 0.85), ha='center')\n",
    "\n",
    "plt.axvline(q1, linestyle='--', color='gray', label='Q1')\n",
    "plt.axvline(q3, linestyle='--', color='gray', label='Q3')\n",
    "plt.axvspan(q1, q3, alpha=0.2, color='gray', label='IQR')\n",
    "\n",
    "plt.xlabel('Values')\n",
    "plt.title('Boxplot of Sold')\n",
    "\n",
    "plt.show()"
   ]
  },
  {
   "cell_type": "markdown",
   "id": "cd01f03e",
   "metadata": {},
   "source": [
    "Setelah dilihat menggunakan boxplot, dapat terlihat bahwa pola data memili tail yang panjang di sebelah kanan dan beberapa outliers di sebelah kanan."
   ]
  },
  {
   "cell_type": "code",
   "execution_count": 120,
   "id": "62a3a229",
   "metadata": {},
   "outputs": [
    {
     "name": "stdout",
     "output_type": "stream",
     "text": [
      "p-value: 3.827780726958135e-31\n",
      "Skewness: 3.7063516708505557\n",
      "Kurtosis: 15.03361368382463\n"
     ]
    }
   ],
   "source": [
    "# Melihat normalitas data menggunakan D'Agostino's K^2 Test\n",
    "res = stats.normaltest(df['jumlah_terjual'])\n",
    "\n",
    "print(f'p-value: {res.pvalue}') \n",
    "print(f\"Skewness: {df['jumlah_terjual'].skew()}\")\n",
    "print(f\"Kurtosis: {df['jumlah_terjual'].kurtosis()}\")\n"
   ]
  },
  {
   "cell_type": "markdown",
   "id": "3341ba6c",
   "metadata": {},
   "source": [
    "Dari data di atas, dapat disimpulkan bahwa:\n",
    "1. Data tidak tersebar secara normal, karena p-value > 0.05\n",
    "2. Skewness bersifat positive karena > 1 sehingga memiliki long tail disebelah kanan.\n",
    "3. Kurtosis > 3 yang menandakan bahwa kurtosis bersifat Leptokurtic dimana data cenderung terpusat pada satu nilai."
   ]
  },
  {
   "cell_type": "markdown",
   "id": "eb87656a",
   "metadata": {},
   "source": [
    "## Kesimpulan"
   ]
  },
  {
   "cell_type": "code",
   "execution_count": null,
   "id": "382a0234",
   "metadata": {},
   "outputs": [],
   "source": [
    "Dari data yang ada di Tokopedia, dapat disimpulkan bahwa:\n",
    "1. Harga seblak di Tokopedia sangat bervariasi, dengan median Rp.22.250 dan standard deviasi Rp.423.058, hal ini mengindikasikan adanya outlier yang cukup besar pada data harga seblak di Tokopedia.\n",
    "2. Rating seblak di Tokopedia cenderung tinggi, dengan median 5.0 dan standard deviasi 0.36, hal ini mengindikasikan bahwa persebaran data rating sangat rapat di sekitar nilai 5.0.\n",
    "3. Jumlah terjual seblak di Tokopedia sangat bervariasi, dengan median 16 dan standard deviasi 114,456, hal ini mengindikasikan adanya outlier yang cukup besar pada data jumlah terjual seblak di Tokopedia."
   ]
  },
  {
   "cell_type": "markdown",
   "id": "b5173d5e",
   "metadata": {},
   "source": [
    "**Hasil Analisa Harga Seblak di Tokopedia**\n",
    "\n",
    "Rata-rata harga setelah normalisasi/outlier dihapus\n",
    "→ Rp 21.593 (ini representasi yang lebih mendekati “harga wajar” di pasar, karena sudah tidak terdistorsi oleh outlier ekstrem).\n",
    "\n",
    "Median dari seluruh data\n",
    "→ Rp 22.250 (median adalah harga tengah yang relatif stabil dan lebih robust terhadap outlier).\n",
    "\n",
    "\n",
    "**Interpretasi**\n",
    "\n",
    "Jika ingin mengikuti harga pasar (kompetitif) → kisaran Rp 21.500 – Rp 22.500 adalah titik optimal.\n",
    "\n",
    "Harga di bawah itu → bisa meningkatkan peluang penjualan tapi berpotensi menekan margin.\n",
    "\n",
    "Harga di atas itu → masih mungkin laku jika ada value tambah (misalnya packaging premium, promo ongkir, atau bundling)."
   ]
  },
  {
   "cell_type": "markdown",
   "id": "588078f9",
   "metadata": {},
   "source": [
    "Namun, kesimpulan ini masih terlalu general, kita belum melihat apakah ada perbedaan harga yang signifikan antar kota mengingat Samuel tinggal di kota Bandung. "
   ]
  },
  {
   "cell_type": "markdown",
   "id": "e7ab0e0f",
   "metadata": {},
   "source": [
    "## Melakukan Analisa Korelasi antara Kota Penjual dan Harga"
   ]
  },
  {
   "cell_type": "code",
   "execution_count": null,
   "id": "a072e34e",
   "metadata": {},
   "outputs": [
    {
     "data": {
      "text/plain": [
       "kota_penjual\n",
       "Kab. Sumedang        22\n",
       "Kab. Tasikmalaya     11\n",
       "Tangerang Selatan    10\n",
       "Bandung               9\n",
       "Tangerang             9\n",
       "Jakarta Selatan       8\n",
       "Kab. Bandung          7\n",
       "Jakarta Barat         6\n",
       "Kab. Tegal            5\n",
       "Jakarta Utara         5\n",
       "Surabaya              5\n",
       "Tasikmalaya           4\n",
       "Bekasi                4\n",
       "Jakarta Timur         4\n",
       "Kab.Ciamis            3\n",
       "Kab. Tangerang        3\n",
       "Depok                 3\n",
       "Kab. Pemalang         2\n",
       "Kab. Sleman           2\n",
       "Cimahi                2\n",
       "Kediri                2\n",
       "Kab. Boyolali         2\n",
       "Madiun                1\n",
       "Kab. Bekasi           1\n",
       "Kab. Malang           1\n",
       "Kab. Garut            1\n",
       "Palembang             1\n",
       "Kab. Bogor            1\n",
       "Cirebon               1\n",
       "Padang                1\n",
       "Kab. Pangandaran      1\n",
       "Bogor                 1\n",
       "Kab. Gresik           1\n",
       "Kab. Purworejo        1\n",
       "Jakarta Pusat         1\n",
       "Kab. Sidoarjo         1\n",
       "Malang                1\n",
       "Kab. Badung           1\n",
       "Kab. Sukoharjo        1\n",
       "Bandar Lampung        1\n",
       "Name: count, dtype: int64"
      ]
     },
     "execution_count": 87,
     "metadata": {},
     "output_type": "execute_result"
    }
   ],
   "source": [
    "# Pertama, kita lihat dulu distribusi data berdasarkan kota penjual\n",
    "df['kota_penjual'].value_counts()"
   ]
  },
  {
   "cell_type": "code",
   "execution_count": 91,
   "id": "7ec87b9f",
   "metadata": {},
   "outputs": [
    {
     "data": {
      "text/html": [
       "<div>\n",
       "<style scoped>\n",
       "    .dataframe tbody tr th:only-of-type {\n",
       "        vertical-align: middle;\n",
       "    }\n",
       "\n",
       "    .dataframe tbody tr th {\n",
       "        vertical-align: top;\n",
       "    }\n",
       "\n",
       "    .dataframe thead th {\n",
       "        text-align: right;\n",
       "    }\n",
       "</style>\n",
       "<table border=\"1\" class=\"dataframe\">\n",
       "  <thead>\n",
       "    <tr style=\"text-align: right;\">\n",
       "      <th></th>\n",
       "      <th>min</th>\n",
       "      <th>max</th>\n",
       "      <th>mean</th>\n",
       "      <th>median</th>\n",
       "      <th>std</th>\n",
       "    </tr>\n",
       "    <tr>\n",
       "      <th>kota_penjual</th>\n",
       "      <th></th>\n",
       "      <th></th>\n",
       "      <th></th>\n",
       "      <th></th>\n",
       "      <th></th>\n",
       "    </tr>\n",
       "  </thead>\n",
       "  <tbody>\n",
       "    <tr>\n",
       "      <th>Kediri</th>\n",
       "      <td>345</td>\n",
       "      <td>3500</td>\n",
       "      <td>1922.500000</td>\n",
       "      <td>1922.5</td>\n",
       "      <td>2.230922e+03</td>\n",
       "    </tr>\n",
       "    <tr>\n",
       "      <th>Padang</th>\n",
       "      <td>3150</td>\n",
       "      <td>3150</td>\n",
       "      <td>3150.000000</td>\n",
       "      <td>3150.0</td>\n",
       "      <td>NaN</td>\n",
       "    </tr>\n",
       "    <tr>\n",
       "      <th>Cirebon</th>\n",
       "      <td>3300</td>\n",
       "      <td>3300</td>\n",
       "      <td>3300.000000</td>\n",
       "      <td>3300.0</td>\n",
       "      <td>NaN</td>\n",
       "    </tr>\n",
       "    <tr>\n",
       "      <th>Madiun</th>\n",
       "      <td>3500</td>\n",
       "      <td>3500</td>\n",
       "      <td>3500.000000</td>\n",
       "      <td>3500.0</td>\n",
       "      <td>NaN</td>\n",
       "    </tr>\n",
       "    <tr>\n",
       "      <th>Kab. Sukoharjo</th>\n",
       "      <td>3500</td>\n",
       "      <td>3500</td>\n",
       "      <td>3500.000000</td>\n",
       "      <td>3500.0</td>\n",
       "      <td>NaN</td>\n",
       "    </tr>\n",
       "    <tr>\n",
       "      <th>Kab. Badung</th>\n",
       "      <td>3500</td>\n",
       "      <td>3500</td>\n",
       "      <td>3500.000000</td>\n",
       "      <td>3500.0</td>\n",
       "      <td>NaN</td>\n",
       "    </tr>\n",
       "    <tr>\n",
       "      <th>Kab. Gresik</th>\n",
       "      <td>3500</td>\n",
       "      <td>3500</td>\n",
       "      <td>3500.000000</td>\n",
       "      <td>3500.0</td>\n",
       "      <td>NaN</td>\n",
       "    </tr>\n",
       "    <tr>\n",
       "      <th>Depok</th>\n",
       "      <td>3500</td>\n",
       "      <td>40000</td>\n",
       "      <td>15666.666667</td>\n",
       "      <td>3500.0</td>\n",
       "      <td>2.107328e+04</td>\n",
       "    </tr>\n",
       "    <tr>\n",
       "      <th>Jakarta Utara</th>\n",
       "      <td>3600</td>\n",
       "      <td>14000</td>\n",
       "      <td>8720.000000</td>\n",
       "      <td>7500.0</td>\n",
       "      <td>4.802812e+03</td>\n",
       "    </tr>\n",
       "    <tr>\n",
       "      <th>Kab. Bekasi</th>\n",
       "      <td>8820</td>\n",
       "      <td>8820</td>\n",
       "      <td>8820.000000</td>\n",
       "      <td>8820.0</td>\n",
       "      <td>NaN</td>\n",
       "    </tr>\n",
       "    <tr>\n",
       "      <th>Bogor</th>\n",
       "      <td>9000</td>\n",
       "      <td>9000</td>\n",
       "      <td>9000.000000</td>\n",
       "      <td>9000.0</td>\n",
       "      <td>NaN</td>\n",
       "    </tr>\n",
       "    <tr>\n",
       "      <th>Kab. Tangerang</th>\n",
       "      <td>5486</td>\n",
       "      <td>194000</td>\n",
       "      <td>69645.000000</td>\n",
       "      <td>9449.0</td>\n",
       "      <td>1.077128e+05</td>\n",
       "    </tr>\n",
       "    <tr>\n",
       "      <th>Bandar Lampung</th>\n",
       "      <td>9999</td>\n",
       "      <td>9999</td>\n",
       "      <td>9999.000000</td>\n",
       "      <td>9999.0</td>\n",
       "      <td>NaN</td>\n",
       "    </tr>\n",
       "    <tr>\n",
       "      <th>Tangerang Selatan</th>\n",
       "      <td>2900</td>\n",
       "      <td>20000</td>\n",
       "      <td>11690.000000</td>\n",
       "      <td>12500.0</td>\n",
       "      <td>5.536234e+03</td>\n",
       "    </tr>\n",
       "    <tr>\n",
       "      <th>Surabaya</th>\n",
       "      <td>8250</td>\n",
       "      <td>58900</td>\n",
       "      <td>27123.600000</td>\n",
       "      <td>13568.0</td>\n",
       "      <td>2.326975e+04</td>\n",
       "    </tr>\n",
       "    <tr>\n",
       "      <th>Tangerang</th>\n",
       "      <td>3190</td>\n",
       "      <td>100000</td>\n",
       "      <td>33358.666667</td>\n",
       "      <td>15000.0</td>\n",
       "      <td>3.554373e+04</td>\n",
       "    </tr>\n",
       "    <tr>\n",
       "      <th>Malang</th>\n",
       "      <td>16000</td>\n",
       "      <td>16000</td>\n",
       "      <td>16000.000000</td>\n",
       "      <td>16000.0</td>\n",
       "      <td>NaN</td>\n",
       "    </tr>\n",
       "    <tr>\n",
       "      <th>Kab. Malang</th>\n",
       "      <td>17000</td>\n",
       "      <td>17000</td>\n",
       "      <td>17000.000000</td>\n",
       "      <td>17000.0</td>\n",
       "      <td>NaN</td>\n",
       "    </tr>\n",
       "    <tr>\n",
       "      <th>Jakarta Selatan</th>\n",
       "      <td>7000</td>\n",
       "      <td>139900</td>\n",
       "      <td>32612.500000</td>\n",
       "      <td>17500.0</td>\n",
       "      <td>4.375975e+04</td>\n",
       "    </tr>\n",
       "    <tr>\n",
       "      <th>Bekasi</th>\n",
       "      <td>350</td>\n",
       "      <td>30000</td>\n",
       "      <td>16587.500000</td>\n",
       "      <td>18000.0</td>\n",
       "      <td>1.221395e+04</td>\n",
       "    </tr>\n",
       "    <tr>\n",
       "      <th>Jakarta Barat</th>\n",
       "      <td>3500</td>\n",
       "      <td>5000000</td>\n",
       "      <td>848666.666667</td>\n",
       "      <td>22000.0</td>\n",
       "      <td>2.033749e+06</td>\n",
       "    </tr>\n",
       "    <tr>\n",
       "      <th>Kab. Pemalang</th>\n",
       "      <td>22250</td>\n",
       "      <td>22250</td>\n",
       "      <td>22250.000000</td>\n",
       "      <td>22250.0</td>\n",
       "      <td>0.000000e+00</td>\n",
       "    </tr>\n",
       "    <tr>\n",
       "      <th>Kab. Sumedang</th>\n",
       "      <td>15999</td>\n",
       "      <td>55000</td>\n",
       "      <td>24726.727273</td>\n",
       "      <td>23500.0</td>\n",
       "      <td>8.201211e+03</td>\n",
       "    </tr>\n",
       "    <tr>\n",
       "      <th>Jakarta Timur</th>\n",
       "      <td>12000</td>\n",
       "      <td>38000</td>\n",
       "      <td>24974.750000</td>\n",
       "      <td>24949.5</td>\n",
       "      <td>1.387787e+04</td>\n",
       "    </tr>\n",
       "    <tr>\n",
       "      <th>Bandung</th>\n",
       "      <td>10900</td>\n",
       "      <td>55660</td>\n",
       "      <td>27451.111111</td>\n",
       "      <td>25000.0</td>\n",
       "      <td>1.593355e+04</td>\n",
       "    </tr>\n",
       "    <tr>\n",
       "      <th>Kab. Bandung</th>\n",
       "      <td>24500</td>\n",
       "      <td>66000</td>\n",
       "      <td>32214.285714</td>\n",
       "      <td>25000.0</td>\n",
       "      <td>1.536733e+04</td>\n",
       "    </tr>\n",
       "    <tr>\n",
       "      <th>Kab. Purworejo</th>\n",
       "      <td>28500</td>\n",
       "      <td>28500</td>\n",
       "      <td>28500.000000</td>\n",
       "      <td>28500.0</td>\n",
       "      <td>NaN</td>\n",
       "    </tr>\n",
       "    <tr>\n",
       "      <th>Jakarta Pusat</th>\n",
       "      <td>29000</td>\n",
       "      <td>29000</td>\n",
       "      <td>29000.000000</td>\n",
       "      <td>29000.0</td>\n",
       "      <td>NaN</td>\n",
       "    </tr>\n",
       "    <tr>\n",
       "      <th>Kab. Sidoarjo</th>\n",
       "      <td>31360</td>\n",
       "      <td>31360</td>\n",
       "      <td>31360.000000</td>\n",
       "      <td>31360.0</td>\n",
       "      <td>NaN</td>\n",
       "    </tr>\n",
       "    <tr>\n",
       "      <th>Palembang</th>\n",
       "      <td>34900</td>\n",
       "      <td>34900</td>\n",
       "      <td>34900.000000</td>\n",
       "      <td>34900.0</td>\n",
       "      <td>NaN</td>\n",
       "    </tr>\n",
       "    <tr>\n",
       "      <th>Kab. Tasikmalaya</th>\n",
       "      <td>7950</td>\n",
       "      <td>45000</td>\n",
       "      <td>27068.181818</td>\n",
       "      <td>35000.0</td>\n",
       "      <td>1.256778e+04</td>\n",
       "    </tr>\n",
       "    <tr>\n",
       "      <th>Cimahi</th>\n",
       "      <td>15899</td>\n",
       "      <td>58999</td>\n",
       "      <td>37449.000000</td>\n",
       "      <td>37449.0</td>\n",
       "      <td>3.047630e+04</td>\n",
       "    </tr>\n",
       "    <tr>\n",
       "      <th>Kab.Ciamis</th>\n",
       "      <td>23000</td>\n",
       "      <td>43000</td>\n",
       "      <td>34800.000000</td>\n",
       "      <td>38400.0</td>\n",
       "      <td>1.047473e+04</td>\n",
       "    </tr>\n",
       "    <tr>\n",
       "      <th>Tasikmalaya</th>\n",
       "      <td>4500</td>\n",
       "      <td>140777</td>\n",
       "      <td>56238.750000</td>\n",
       "      <td>39839.0</td>\n",
       "      <td>5.896243e+04</td>\n",
       "    </tr>\n",
       "    <tr>\n",
       "      <th>Kab. Sleman</th>\n",
       "      <td>2000</td>\n",
       "      <td>85000</td>\n",
       "      <td>43500.000000</td>\n",
       "      <td>43500.0</td>\n",
       "      <td>5.868986e+04</td>\n",
       "    </tr>\n",
       "    <tr>\n",
       "      <th>Kab. Bogor</th>\n",
       "      <td>65000</td>\n",
       "      <td>65000</td>\n",
       "      <td>65000.000000</td>\n",
       "      <td>65000.0</td>\n",
       "      <td>NaN</td>\n",
       "    </tr>\n",
       "    <tr>\n",
       "      <th>Kab. Garut</th>\n",
       "      <td>68000</td>\n",
       "      <td>68000</td>\n",
       "      <td>68000.000000</td>\n",
       "      <td>68000.0</td>\n",
       "      <td>NaN</td>\n",
       "    </tr>\n",
       "    <tr>\n",
       "      <th>Kab. Pangandaran</th>\n",
       "      <td>90000</td>\n",
       "      <td>90000</td>\n",
       "      <td>90000.000000</td>\n",
       "      <td>90000.0</td>\n",
       "      <td>NaN</td>\n",
       "    </tr>\n",
       "    <tr>\n",
       "      <th>Kab. Boyolali</th>\n",
       "      <td>72600</td>\n",
       "      <td>110400</td>\n",
       "      <td>91500.000000</td>\n",
       "      <td>91500.0</td>\n",
       "      <td>2.672864e+04</td>\n",
       "    </tr>\n",
       "    <tr>\n",
       "      <th>Kab. Tegal</th>\n",
       "      <td>350000</td>\n",
       "      <td>685000</td>\n",
       "      <td>565000.000000</td>\n",
       "      <td>610000.0</td>\n",
       "      <td>1.333229e+05</td>\n",
       "    </tr>\n",
       "  </tbody>\n",
       "</table>\n",
       "</div>"
      ],
      "text/plain": [
       "                      min      max           mean    median           std\n",
       "kota_penjual                                                             \n",
       "Kediri                345     3500    1922.500000    1922.5  2.230922e+03\n",
       "Padang               3150     3150    3150.000000    3150.0           NaN\n",
       "Cirebon              3300     3300    3300.000000    3300.0           NaN\n",
       "Madiun               3500     3500    3500.000000    3500.0           NaN\n",
       "Kab. Sukoharjo       3500     3500    3500.000000    3500.0           NaN\n",
       "Kab. Badung          3500     3500    3500.000000    3500.0           NaN\n",
       "Kab. Gresik          3500     3500    3500.000000    3500.0           NaN\n",
       "Depok                3500    40000   15666.666667    3500.0  2.107328e+04\n",
       "Jakarta Utara        3600    14000    8720.000000    7500.0  4.802812e+03\n",
       "Kab. Bekasi          8820     8820    8820.000000    8820.0           NaN\n",
       "Bogor                9000     9000    9000.000000    9000.0           NaN\n",
       "Kab. Tangerang       5486   194000   69645.000000    9449.0  1.077128e+05\n",
       "Bandar Lampung       9999     9999    9999.000000    9999.0           NaN\n",
       "Tangerang Selatan    2900    20000   11690.000000   12500.0  5.536234e+03\n",
       "Surabaya             8250    58900   27123.600000   13568.0  2.326975e+04\n",
       "Tangerang            3190   100000   33358.666667   15000.0  3.554373e+04\n",
       "Malang              16000    16000   16000.000000   16000.0           NaN\n",
       "Kab. Malang         17000    17000   17000.000000   17000.0           NaN\n",
       "Jakarta Selatan      7000   139900   32612.500000   17500.0  4.375975e+04\n",
       "Bekasi                350    30000   16587.500000   18000.0  1.221395e+04\n",
       "Jakarta Barat        3500  5000000  848666.666667   22000.0  2.033749e+06\n",
       "Kab. Pemalang       22250    22250   22250.000000   22250.0  0.000000e+00\n",
       "Kab. Sumedang       15999    55000   24726.727273   23500.0  8.201211e+03\n",
       "Jakarta Timur       12000    38000   24974.750000   24949.5  1.387787e+04\n",
       "Bandung             10900    55660   27451.111111   25000.0  1.593355e+04\n",
       "Kab. Bandung        24500    66000   32214.285714   25000.0  1.536733e+04\n",
       "Kab. Purworejo      28500    28500   28500.000000   28500.0           NaN\n",
       "Jakarta Pusat       29000    29000   29000.000000   29000.0           NaN\n",
       "Kab. Sidoarjo       31360    31360   31360.000000   31360.0           NaN\n",
       "Palembang           34900    34900   34900.000000   34900.0           NaN\n",
       "Kab. Tasikmalaya     7950    45000   27068.181818   35000.0  1.256778e+04\n",
       "Cimahi              15899    58999   37449.000000   37449.0  3.047630e+04\n",
       "Kab.Ciamis          23000    43000   34800.000000   38400.0  1.047473e+04\n",
       "Tasikmalaya          4500   140777   56238.750000   39839.0  5.896243e+04\n",
       "Kab. Sleman          2000    85000   43500.000000   43500.0  5.868986e+04\n",
       "Kab. Bogor          65000    65000   65000.000000   65000.0           NaN\n",
       "Kab. Garut          68000    68000   68000.000000   68000.0           NaN\n",
       "Kab. Pangandaran    90000    90000   90000.000000   90000.0           NaN\n",
       "Kab. Boyolali       72600   110400   91500.000000   91500.0  2.672864e+04\n",
       "Kab. Tegal         350000   685000  565000.000000  610000.0  1.333229e+05"
      ]
     },
     "execution_count": 91,
     "metadata": {},
     "output_type": "execute_result"
    }
   ],
   "source": [
    "# Lalu, kita bisa melihat persebaran harga seblak berdasarkan kota penjual sebagai berikut:\n",
    "df.groupby('kota_penjual')['harga_bersih'].agg(['min', 'max', 'mean', 'median', 'std']).sort_values(by='median')\n"
   ]
  },
  {
   "cell_type": "code",
   "execution_count": null,
   "id": "460952b0",
   "metadata": {},
   "outputs": [],
   "source": [
    "# Mengumpulkan data berdasarkan provinsi untuk uji ANOVA\n",
    "\n",
    "jawa_barat = df['harga_bersih'][\n",
    "    (df['kota_penjual']=='Bekasi') |\n",
    "    (df['kota_penjual']=='Depok') |\n",
    "    (df['kota_penjual']=='Kab. Bandung') |\n",
    "    (df['kota_penjual']=='Bandung') |\n",
    "    (df['kota_penjual']=='Kab.Ciamis') |\n",
    "    (df['kota_penjual']=='Kab. Tasikmalaya') |\n",
    "    (df['kota_penjual']=='Tasikmalaya') |\n",
    "    (df['kota_penjual']=='Kab. Sumedang') |\n",
    "    (df['kota_penjual']=='Cimahi') |\n",
    "    (df['kota_penjual']=='Bogor') |\n",
    "    (df['kota_penjual']=='Kab. Pangandaran') |\n",
    "    (df['kota_penjual']=='Cirebon') |\n",
    "    (df['kota_penjual']=='Kab. Bogor') |\n",
    "    (df['kota_penjual']=='Kab. Garut') |\n",
    "    (df['kota_penjual']=='Kab. Bekasi')\n",
    "]\n",
    "\n",
    "jawa_timur = df['harga_bersih'][\n",
    "    (df['kota_penjual']=='Surabaya') |\n",
    "    (df['kota_penjual']=='Kediri') |\n",
    "    (df['kota_penjual']=='Madiun') |\n",
    "    (df['kota_penjual']=='Malang') |\n",
    "    (df['kota_penjual']=='Kab. Gresik') |\n",
    "    (df['kota_penjual']=='Kab. Sidoarjo') |\n",
    "    (df['kota_penjual']=='Kab. Malang')\n",
    "]\n",
    "\n",
    "\n",
    "jawa_tengah = df['harga_bersih'][\n",
    "    (df['kota_penjual']=='Kab. Sukoharjo') |\n",
    "    (df['kota_penjual']=='Kab. Boyolali') |\n",
    "    (df['kota_penjual']=='Kab. Purworejo') |\n",
    "    (df['kota_penjual']=='Kab. Tegal') |\n",
    "    (df['kota_penjual']=='Kab. Pemalang')\n",
    "]\n",
    "\n",
    "\n",
    "dki_jakarta = df['harga_bersih'][\n",
    "    (df['kota_penjual']=='Jakarta Timur') |\n",
    "    (df['kota_penjual']=='Jakarta Pusat') |\n",
    "    (df['kota_penjual']=='Jakarta Selatan') |\n",
    "    (df['kota_penjual']=='Jakarta Utara') |\n",
    "    (df['kota_penjual']=='Jakarta Barat')\n",
    "]\n",
    "\n",
    "banten = df['harga_bersih'][\n",
    "    (df['kota_penjual']=='Tangerang') |\n",
    "    (df['kota_penjual']=='Kab. Tangerang') |\n",
    "    (df['kota_penjual']=='Tangerang Selatan')\n",
    "]\n",
    "\n",
    "sumatera_barat   = df['harga_bersih'][df['kota_penjual']=='Padang']\n",
    "bali             = df['harga_bersih'][df['kota_penjual']=='Kab. Badung']\n",
    "sumatera_selatan = df['harga_bersih'][df['kota_penjual']=='Palembang']\n",
    "diy              = df['harga_bersih'][df['kota_penjual']=='Kab. Sleman']\n",
    "lampung          = df['harga_bersih'][df['kota_penjual']=='Bandar Lampung']\n"
   ]
  },
  {
   "cell_type": "code",
   "execution_count": 100,
   "id": "d90c4ff3",
   "metadata": {},
   "outputs": [],
   "source": [
    "kota_to_prov = {\n",
    "    # Jawa Barat\n",
    "    'Bekasi':'Jawa Barat','Depok':'Jawa Barat','Kab. Bandung':'Jawa Barat',\n",
    "    'Bandung':'Jawa Barat','Kab.Ciamis':'Jawa Barat','Kab. Tasikmalaya':'Jawa Barat',\n",
    "    'Tasikmalaya':'Jawa Barat','Kab. Sumedang':'Jawa Barat','Cimahi':'Jawa Barat',\n",
    "    'Bogor':'Jawa Barat','Kab. Pangandaran':'Jawa Barat','Cirebon':'Jawa Barat',\n",
    "    'Kab. Bogor':'Jawa Barat','Kab. Garut':'Jawa Barat','Kab. Bekasi':'Jawa Barat',\n",
    "\n",
    "    # Jawa Timur\n",
    "    'Surabaya':'Jawa Timur','Kediri':'Jawa Timur','Madiun':'Jawa Timur',\n",
    "    'Malang':'Jawa Timur','Kab. Gresik':'Jawa Timur','Kab. Sidoarjo':'Jawa Timur',\n",
    "    'Kab. Malang':'Jawa Timur',\n",
    "\n",
    "    # Jawa Tengah\n",
    "    'Kab. Sukoharjo':'Jawa Tengah','Kab. Boyolali':'Jawa Tengah',\n",
    "    'Kab. Purworejo':'Jawa Tengah','Kab. Tegal':'Jawa Tengah','Kab. Pemalang':'Jawa Tengah',\n",
    "\n",
    "    # DKI Jakarta\n",
    "    'Jakarta Timur':'DKI Jakarta','Jakarta Pusat':'DKI Jakarta',\n",
    "    'Jakarta Selatan':'DKI Jakarta','Jakarta Utara':'DKI Jakarta',\n",
    "    'Jakarta Barat':'DKI Jakarta',\n",
    "\n",
    "    # Banten\n",
    "    'Tangerang':'Banten','Kab. Tangerang':'Banten','Tangerang Selatan':'Banten',\n",
    "\n",
    "    # Lain-lain\n",
    "    'Padang':'Sumatera Barat','Kab. Badung':'Bali','Palembang':'Sumatera Selatan',\n",
    "    'Kab. Sleman':'DI Yogyakarta','Bandar Lampung':'Lampung'\n",
    "}\n",
    "df['provinsi'] = df['kota_penjual'].map(kota_to_prov)\n"
   ]
  },
  {
   "cell_type": "code",
   "execution_count": 101,
   "id": "0bd845af",
   "metadata": {},
   "outputs": [
    {
     "data": {
      "text/html": [
       "<div>\n",
       "<style scoped>\n",
       "    .dataframe tbody tr th:only-of-type {\n",
       "        vertical-align: middle;\n",
       "    }\n",
       "\n",
       "    .dataframe tbody tr th {\n",
       "        vertical-align: top;\n",
       "    }\n",
       "\n",
       "    .dataframe thead th {\n",
       "        text-align: right;\n",
       "    }\n",
       "</style>\n",
       "<table border=\"1\" class=\"dataframe\">\n",
       "  <thead>\n",
       "    <tr style=\"text-align: right;\">\n",
       "      <th></th>\n",
       "      <th>count</th>\n",
       "      <th>min</th>\n",
       "      <th>max</th>\n",
       "      <th>mean</th>\n",
       "      <th>median</th>\n",
       "      <th>std</th>\n",
       "    </tr>\n",
       "    <tr>\n",
       "      <th>provinsi</th>\n",
       "      <th></th>\n",
       "      <th></th>\n",
       "      <th></th>\n",
       "      <th></th>\n",
       "      <th></th>\n",
       "      <th></th>\n",
       "    </tr>\n",
       "  </thead>\n",
       "  <tbody>\n",
       "    <tr>\n",
       "      <th>Sumatera Barat</th>\n",
       "      <td>1</td>\n",
       "      <td>3150</td>\n",
       "      <td>3150</td>\n",
       "      <td>3150.000000</td>\n",
       "      <td>3150.0</td>\n",
       "      <td>NaN</td>\n",
       "    </tr>\n",
       "    <tr>\n",
       "      <th>Bali</th>\n",
       "      <td>1</td>\n",
       "      <td>3500</td>\n",
       "      <td>3500</td>\n",
       "      <td>3500.000000</td>\n",
       "      <td>3500.0</td>\n",
       "      <td>NaN</td>\n",
       "    </tr>\n",
       "    <tr>\n",
       "      <th>Lampung</th>\n",
       "      <td>1</td>\n",
       "      <td>9999</td>\n",
       "      <td>9999</td>\n",
       "      <td>9999.000000</td>\n",
       "      <td>9999.0</td>\n",
       "      <td>NaN</td>\n",
       "    </tr>\n",
       "    <tr>\n",
       "      <th>Jawa Timur</th>\n",
       "      <td>12</td>\n",
       "      <td>345</td>\n",
       "      <td>58900</td>\n",
       "      <td>17568.583333</td>\n",
       "      <td>11734.0</td>\n",
       "      <td>1.835466e+04</td>\n",
       "    </tr>\n",
       "    <tr>\n",
       "      <th>Banten</th>\n",
       "      <td>22</td>\n",
       "      <td>2900</td>\n",
       "      <td>194000</td>\n",
       "      <td>28457.409091</td>\n",
       "      <td>12819.5</td>\n",
       "      <td>4.456334e+04</td>\n",
       "    </tr>\n",
       "    <tr>\n",
       "      <th>DKI Jakarta</th>\n",
       "      <td>24</td>\n",
       "      <td>3500</td>\n",
       "      <td>5000000</td>\n",
       "      <td>230224.958333</td>\n",
       "      <td>17000.0</td>\n",
       "      <td>1.016308e+06</td>\n",
       "    </tr>\n",
       "    <tr>\n",
       "      <th>Jawa Barat</th>\n",
       "      <td>71</td>\n",
       "      <td>350</td>\n",
       "      <td>140777</td>\n",
       "      <td>29239.732394</td>\n",
       "      <td>25000.0</td>\n",
       "      <td>2.146526e+04</td>\n",
       "    </tr>\n",
       "    <tr>\n",
       "      <th>Sumatera Selatan</th>\n",
       "      <td>1</td>\n",
       "      <td>34900</td>\n",
       "      <td>34900</td>\n",
       "      <td>34900.000000</td>\n",
       "      <td>34900.0</td>\n",
       "      <td>NaN</td>\n",
       "    </tr>\n",
       "    <tr>\n",
       "      <th>DI Yogyakarta</th>\n",
       "      <td>2</td>\n",
       "      <td>2000</td>\n",
       "      <td>85000</td>\n",
       "      <td>43500.000000</td>\n",
       "      <td>43500.0</td>\n",
       "      <td>5.868986e+04</td>\n",
       "    </tr>\n",
       "    <tr>\n",
       "      <th>Jawa Tengah</th>\n",
       "      <td>11</td>\n",
       "      <td>3500</td>\n",
       "      <td>685000</td>\n",
       "      <td>280409.090909</td>\n",
       "      <td>110400.0</td>\n",
       "      <td>2.866316e+05</td>\n",
       "    </tr>\n",
       "  </tbody>\n",
       "</table>\n",
       "</div>"
      ],
      "text/plain": [
       "                  count    min      max           mean    median           std\n",
       "provinsi                                                                      \n",
       "Sumatera Barat        1   3150     3150    3150.000000    3150.0           NaN\n",
       "Bali                  1   3500     3500    3500.000000    3500.0           NaN\n",
       "Lampung               1   9999     9999    9999.000000    9999.0           NaN\n",
       "Jawa Timur           12    345    58900   17568.583333   11734.0  1.835466e+04\n",
       "Banten               22   2900   194000   28457.409091   12819.5  4.456334e+04\n",
       "DKI Jakarta          24   3500  5000000  230224.958333   17000.0  1.016308e+06\n",
       "Jawa Barat           71    350   140777   29239.732394   25000.0  2.146526e+04\n",
       "Sumatera Selatan      1  34900    34900   34900.000000   34900.0           NaN\n",
       "DI Yogyakarta         2   2000    85000   43500.000000   43500.0  5.868986e+04\n",
       "Jawa Tengah          11   3500   685000  280409.090909  110400.0  2.866316e+05"
      ]
     },
     "execution_count": 101,
     "metadata": {},
     "output_type": "execute_result"
    }
   ],
   "source": [
    "provinsi = jawa_barat, jawa_timur, jawa_tengah, dki_jakarta, banten, sumatera_barat, bali, sumatera_selatan, diy, lampung\n",
    "\n",
    "# Lalu, kita bisa melihat persebaran harga seblak berdasarkan provinsi penjual sebagai berikut:\n",
    "df.groupby('provinsi')['harga_bersih'].agg(\n",
    "    ['count', 'min', 'max', 'mean', 'median', 'std']\n",
    ").sort_values(by='median')\n"
   ]
  },
  {
   "cell_type": "markdown",
   "id": "87b27141",
   "metadata": {},
   "source": [
    "Dugaan Hasan adalah adanya perbedaan harga yang signifikan antara Provinsi dan Harga, namun Hasan belum yakin terkait dengan arah perbedaannya. Maka dengan itu Hasan menggunakan two-tailed hypothesis.\n",
    "\n",
    "H0 = Tidak adanya perbedaan harga yang signifikan antara Provinsi dan Harga\n",
    "H1 = Adanya perbedaan harga yang signifikan antara Provinsi dan Harga.\n",
    "\n",
    "Dalam analisa ini Hasan berusaha untuk membantah H0."
   ]
  },
  {
   "cell_type": "code",
   "execution_count": null,
   "id": "d4f20699",
   "metadata": {},
   "outputs": [
    {
     "name": "stdout",
     "output_type": "stream",
     "text": [
      "P-value: 0.6238881531619682\n"
     ]
    }
   ],
   "source": [
    "# Melakukan uji ANOVA satu arah (One-Way ANOVA) untuk melihat apakah ada perbedaan harga seblak yang signifikan berdasarkan provinsi penjual\n",
    "res = stats.f_oneway(jawa_barat, jawa_timur, jawa_tengah, dki_jakarta, banten, sumatera_barat, bali, sumatera_selatan, diy, lampung)\n",
    "print('P-value:',res.pvalue)"
   ]
  },
  {
   "cell_type": "markdown",
   "id": "95b97615",
   "metadata": {},
   "source": [
    "Berdasarkan hasil uji ANOVA, diperoleh p-value > 0.05, sehingga H0 gagal ditolak. Hal ini menunjukkan bahwa tidak terdapat perbedaan harga yang signifikan antar provinsi. Dengan demikian, faktor wilayah penjual tidak memengaruhi variasi harga seblak di Tokopedia.\n",
    "\n",
    "Kesimpulan ini memperkuat analisis deskriptif sebelumnya, sehingga Samuel dapat menetapkan strategi harga yang kompetitif di kisaran Rp21.500–Rp22.500. Rentang harga ini cukup optimal untuk bersaing di pasar tanpa perlu menyesuaikan harga berdasarkan lokasi penjual."
   ]
  },
  {
   "cell_type": "code",
   "execution_count": null,
   "id": "87cb4de9",
   "metadata": {},
   "outputs": [],
   "source": [
    "Setelah mendapatkan perkiraan harga penjualan yang optimal di Tokopedia, Samuel ingin mengetahui berapa perkiraan pendapatan minimum dan maksimum yang bisa didapatkan jika ia menjadi dropshipper seblak di Tokopedia. Untuk itu, Hasan melakukan analisa terhadap data penjualan seblak di Tokopedia."
   ]
  },
  {
   "cell_type": "markdown",
   "id": "c2b5bdf6",
   "metadata": {},
   "source": [
    "## Melakukan Analisa Confidence Interval untuk Harga Seblak di Tokopedia"
   ]
  },
  {
   "cell_type": "code",
   "execution_count": 112,
   "id": "98d99b3b",
   "metadata": {},
   "outputs": [
    {
     "name": "stdout",
     "output_type": "stream",
     "text": [
      "nama_produk\n",
      "makaroni cikruh/seblak cikruh                                                                                                          15000000.0\n",
      "Hiasan Dinding warung seblak/Hiasan Dinding ruang makan/Hiasan Dinding aesthetic/Hiasan Dinding ruangan/Hiasan dinding tema seblak/    13500000.0\n",
      "[Eksklusif] MIX KERUPUK SEBLAK KERING - SAJODO SNACK & FOOD (250gr & 500gr) (Pilih Opsi)                                               11419500.0\n",
      "Mangkok Plastik Besar 50pcs Mangkuk Bakso Mi Mie Ayam Seblak                                                                           11125000.0\n",
      "Kartika Sari - Seblak Koin                                                                                                             10000000.0\n",
      "Name: total_penjualan, dtype: float64\n"
     ]
    }
   ],
   "source": [
    "# Hitung total penjualan per transaksi\n",
    "df['total_penjualan'] = df['harga_bersih'] * df['jumlah_terjual']\n",
    "\n",
    "# Hitung total keuntungan per produk\n",
    "pendapatan = df.groupby('nama_produk')['total_penjualan'].sum().sort_values(ascending=False)\n",
    "\n",
    "print(pendapatan.head())"
   ]
  },
  {
   "cell_type": "code",
   "execution_count": 114,
   "id": "1ae59d1b",
   "metadata": {},
   "outputs": [
    {
     "name": "stdout",
     "output_type": "stream",
     "text": [
      "Average = 1349752.51\n",
      "Minimum = 14000.0\n",
      "Maximum = 15000000.0\n"
     ]
    }
   ],
   "source": [
    "# Setelah menghitung keuntungan per transaksi, kita bisa melihat rata-rata, minimum, dan maksimum keuntungan yang bisa didapatkan sebagai berikut:\n",
    "print('Average =',df['total_penjualan'].mean().round(2))\n",
    "print('Minimum =',df['total_penjualan'].min())\n",
    "print('Maximum =',df['total_penjualan'].max())"
   ]
  },
  {
   "cell_type": "markdown",
   "id": "86da22c8",
   "metadata": {},
   "source": [
    "Berdasarkan hasil analisis, diketahui bahwa rata-rata penjualan seblak mencapai Rp 1.349.752, dengan penjualan minimum sebesar Rp 14.000 dan penjualan maksimum hingga Rp 15.000.000. Angka ini menunjukkan adanya variasi penjualan yang cukup tinggi antar produk.\n",
    "\n",
    "Untuk mendapatkan perkiraan yang lebih andal mengenai total penjualan, Samuel kemudian menghitung Confidence Interval (CI) 95%. Melalui pendekatan ini, ia dapat menentukan batas bawah dan batas atas rata-rata penjualan, sehingga memperoleh gambaran yang lebih akurat tentang rentang nilai penjualan seblak di Tokopedia."
   ]
  },
  {
   "cell_type": "code",
   "execution_count": 115,
   "id": "257be9f6",
   "metadata": {},
   "outputs": [
    {
     "name": "stdout",
     "output_type": "stream",
     "text": [
      "Lower Limit: 927114.25\n",
      "Upper Limit: 1772390.78\n"
     ]
    }
   ],
   "source": [
    "# Melakukan perhitungan Confidence Interval 95% untuk mengetahui batas atas dan batas bawah total penjualan seblak.\n",
    "std = df['keuntungan'].std() # Mencari standard deviasi\n",
    "N = len(df)\n",
    "low, up = stats.norm.interval(0.95,loc=df['keuntungan'].mean(),scale=std/np.sqrt(N)) # Mencari confidence interval 95%\n",
    "print('Lower Limit:',low.round(2))\n",
    "print('Upper Limit:',up.round(2))"
   ]
  },
  {
   "cell_type": "code",
   "execution_count": null,
   "id": "2e76dd53",
   "metadata": {},
   "outputs": [],
   "source": [
    "Berdasarkan hasil perhitungan, diperoleh bahwa batas bawah penjualan adalah sebesar Rp 927.114, sedangkan batas atas penjualan mencapai Rp 1.772.390. Rentang ini menggambarkan estimasi penjualan seblak dengan tingkat keyakinan 95%."
   ]
  },
  {
   "cell_type": "markdown",
   "id": "9e3d2856",
   "metadata": {},
   "source": [
    "## Analisa Korelasi Antara Harga dan Jumlah Pembelian"
   ]
  },
  {
   "cell_type": "code",
   "execution_count": null,
   "id": "2fb02f82",
   "metadata": {},
   "outputs": [],
   "source": [
    "Namun, sebelum menetapkan margin yang akan digunakan, Samuel perlu mempertimbangkan apakah harga jual yang lebih murah akan lebih disukai oleh konsumen.\n",
    "\n",
    "Disukai disini artinya, apakah konsumen akan membeli kembali produk seblak tersebut di kemudian hari. Untuk itu, untuk mengukur rasa suka konsumen, data jumlah terjual dapat dijadikan sebagai indikator."
   ]
  },
  {
   "cell_type": "code",
   "execution_count": null,
   "id": "a4add894",
   "metadata": {},
   "outputs": [
    {
     "name": "stdout",
     "output_type": "stream",
     "text": [
      "Spearman correlation: -0.24569006505759988\n"
     ]
    }
   ],
   "source": [
    "# Spearman correlation antara dua kolom\n",
    "corr_spearman = df['harga_bersih'].corr(df['jumlah_terjual'], method='spearman') # Spearman digunakan karena data tidak terdistribusi normal\n",
    "print(\"Spearman correlation:\", corr_spearman)\n"
   ]
  },
  {
   "cell_type": "markdown",
   "id": "831da3df",
   "metadata": {},
   "source": [
    "Berdasarkan hasil analisis, diperoleh nilai Spearman correlation = –0.245, yang menunjukkan adanya korelasi negatif lemah antara harga dan jumlah terjual. Hal ini mengindikasikan bahwa ketika harga meningkat, jumlah pembelian cenderung menurun, namun hubungan tersebut tidak kuat. Dengan demikian, harga bukanlah satu-satunya faktor penentu penjualan, sehingga aspek lain seperti kualitas produk, ulasan pelanggan, dan strategi promosi juga berperan penting dalam memengaruhi jumlah pembelian."
   ]
  },
  {
   "cell_type": "markdown",
   "id": "5327fc6a",
   "metadata": {},
   "source": [
    "## Kesimpulan Utama\n",
    "\n",
    "Berdasarkan hasil analisis penjualan seblak di Tokopedia, dapat disimpulkan bahwa harga produk sangat bervariasi dan dipengaruhi oleh outlier, sehingga rata-rata awal kurang representatif. Median sebesar Rp22.250 dan rata-rata setelah normalisasi sebesar Rp21.593 lebih tepat dijadikan acuan harga pasar. \n",
    "\n",
    "Uji ANOVA menunjukkan tidak ada perbedaan harga signifikan antar provinsi, sehingga faktor lokasi penjual tidak memengaruhi harga. Estimasi penjualan dengan Confidence Interval 95% menempatkan rata-rata penjualan pada rentang Rp927.114 hingga Rp1.772.390, memberikan gambaran lebih akurat mengenai potensi penjualan. \n",
    "\n",
    "Sementara itu, hasil korelasi Spearman sebesar –0,245 mengindikasikan adanya hubungan negatif yang lemah antara harga dan jumlah terjual, artinya harga yang lebih tinggi cenderung menurunkan penjualan, tetapi bukan faktor utama yang menentukan. \n",
    "\n",
    "Dengan demikian, strategi penetapan harga optimal berada pada kisaran Rp21.500–Rp22.500, yang selaras dengan pasar, sementara faktor lain seperti kualitas produk, ulasan pembeli, promosi, dan ongkos kirim memiliki peran lebih besar dalam memengaruhi tingkat penjualan."
   ]
  },
  {
   "cell_type": "markdown",
   "id": "48db065d",
   "metadata": {},
   "source": [
    "### Perkiraan Total Pendapatan Samuel"
   ]
  },
  {
   "cell_type": "code",
   "execution_count": 118,
   "id": "a41da7be",
   "metadata": {},
   "outputs": [
    {
     "name": "stdout",
     "output_type": "stream",
     "text": [
      "Pendapatan Samuel per bulan jika menjadi dropshipper seblak di Tokopedia adalah Rp. 1112500\n"
     ]
    }
   ],
   "source": [
    "# Hitung total pendapatan Samuel jika menjadi dropshipper seblak di Tokopedia\n",
    "pendapatan_samuel = 22250 * 50 # Menggunakan harga median sebagai harga jual dan perkiraan terjual 50 produk per bulan\n",
    "print('Pendapatan Samuel per bulan jika menjadi dropshipper seblak di Tokopedia adalah Rp.',pendapatan_samuel)"
   ]
  }
 ],
 "metadata": {
  "kernelspec": {
   "display_name": "Hacktiv8",
   "language": "python",
   "name": "python3"
  },
  "language_info": {
   "codemirror_mode": {
    "name": "ipython",
    "version": 3
   },
   "file_extension": ".py",
   "mimetype": "text/x-python",
   "name": "python",
   "nbconvert_exporter": "python",
   "pygments_lexer": "ipython3",
   "version": "3.13.5"
  }
 },
 "nbformat": 4,
 "nbformat_minor": 5
}
