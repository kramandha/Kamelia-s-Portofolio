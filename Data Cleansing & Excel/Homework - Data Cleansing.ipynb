{
 "cells": [
  {
   "cell_type": "code",
   "execution_count": 180,
   "id": "a41264c9",
   "metadata": {},
   "outputs": [],
   "source": [
    "# Mengimpor library yang dibutuhkan\n",
    "\n",
    "import pandas as pd\n",
    "import numpy as np"
   ]
  },
  {
   "cell_type": "code",
   "execution_count": 181,
   "id": "0f635158",
   "metadata": {},
   "outputs": [
    {
     "name": "stderr",
     "output_type": "stream",
     "text": [
      "/var/folders/k9/nnzmx38d2m3c0ss6cxfvf92r0000gn/T/ipykernel_15491/795134140.py:2: DtypeWarning: Columns (9,10,12,13,14,15,16,20) have mixed types. Specify dtype option on import or set low_memory=False.\n",
      "  df = pd.read_csv('portugal_listinigs.csv')\n"
     ]
    }
   ],
   "source": [
    "# Membuka file CSV\n",
    "df = pd.read_csv('portugal_listinigs.csv')"
   ]
  },
  {
   "cell_type": "code",
   "execution_count": 182,
   "id": "cb0d1d6b",
   "metadata": {},
   "outputs": [
    {
     "data": {
      "text/html": [
       "<div>\n",
       "<style scoped>\n",
       "    .dataframe tbody tr th:only-of-type {\n",
       "        vertical-align: middle;\n",
       "    }\n",
       "\n",
       "    .dataframe tbody tr th {\n",
       "        vertical-align: top;\n",
       "    }\n",
       "\n",
       "    .dataframe thead th {\n",
       "        text-align: right;\n",
       "    }\n",
       "</style>\n",
       "<table border=\"1\" class=\"dataframe\">\n",
       "  <thead>\n",
       "    <tr style=\"text-align: right;\">\n",
       "      <th></th>\n",
       "      <th>Price</th>\n",
       "      <th>District</th>\n",
       "      <th>City</th>\n",
       "      <th>Town</th>\n",
       "      <th>Type</th>\n",
       "      <th>EnergyCertificate</th>\n",
       "      <th>GrossArea</th>\n",
       "      <th>TotalArea</th>\n",
       "      <th>Parking</th>\n",
       "      <th>HasParking</th>\n",
       "      <th>...</th>\n",
       "      <th>Elevator</th>\n",
       "      <th>ElectricCarsCharging</th>\n",
       "      <th>TotalRooms</th>\n",
       "      <th>NumberOfBedrooms</th>\n",
       "      <th>NumberOfWC</th>\n",
       "      <th>ConservationStatus</th>\n",
       "      <th>LivingArea</th>\n",
       "      <th>LotSize</th>\n",
       "      <th>BuiltArea</th>\n",
       "      <th>NumberOfBathrooms</th>\n",
       "    </tr>\n",
       "  </thead>\n",
       "  <tbody>\n",
       "    <tr>\n",
       "      <th>0</th>\n",
       "      <td>780000.0</td>\n",
       "      <td>Vila Real</td>\n",
       "      <td>Valpaços</td>\n",
       "      <td>Carrazedo de Montenegro e Curros</td>\n",
       "      <td>Farm</td>\n",
       "      <td>NC</td>\n",
       "      <td>200.0</td>\n",
       "      <td>552450.0</td>\n",
       "      <td>0.0</td>\n",
       "      <td>False</td>\n",
       "      <td>...</td>\n",
       "      <td>False</td>\n",
       "      <td>NaN</td>\n",
       "      <td>NaN</td>\n",
       "      <td>NaN</td>\n",
       "      <td>NaN</td>\n",
       "      <td>NaN</td>\n",
       "      <td>120.0</td>\n",
       "      <td>NaN</td>\n",
       "      <td>NaN</td>\n",
       "      <td>0.0</td>\n",
       "    </tr>\n",
       "    <tr>\n",
       "      <th>1</th>\n",
       "      <td>223000.0</td>\n",
       "      <td>Faro</td>\n",
       "      <td>São Brás de Alportel</td>\n",
       "      <td>São Brás de Alportel</td>\n",
       "      <td>Apartment</td>\n",
       "      <td>A+</td>\n",
       "      <td>NaN</td>\n",
       "      <td>81.0</td>\n",
       "      <td>1.0</td>\n",
       "      <td>True</td>\n",
       "      <td>...</td>\n",
       "      <td>True</td>\n",
       "      <td>NaN</td>\n",
       "      <td>2.0</td>\n",
       "      <td>NaN</td>\n",
       "      <td>NaN</td>\n",
       "      <td>NaN</td>\n",
       "      <td>81.0</td>\n",
       "      <td>NaN</td>\n",
       "      <td>NaN</td>\n",
       "      <td>2.0</td>\n",
       "    </tr>\n",
       "    <tr>\n",
       "      <th>2</th>\n",
       "      <td>228000.0</td>\n",
       "      <td>Faro</td>\n",
       "      <td>São Brás de Alportel</td>\n",
       "      <td>São Brás de Alportel</td>\n",
       "      <td>Apartment</td>\n",
       "      <td>A+</td>\n",
       "      <td>NaN</td>\n",
       "      <td>108.0</td>\n",
       "      <td>1.0</td>\n",
       "      <td>True</td>\n",
       "      <td>...</td>\n",
       "      <td>True</td>\n",
       "      <td>NaN</td>\n",
       "      <td>2.0</td>\n",
       "      <td>NaN</td>\n",
       "      <td>NaN</td>\n",
       "      <td>NaN</td>\n",
       "      <td>108.0</td>\n",
       "      <td>NaN</td>\n",
       "      <td>NaN</td>\n",
       "      <td>2.0</td>\n",
       "    </tr>\n",
       "    <tr>\n",
       "      <th>3</th>\n",
       "      <td>250000.0</td>\n",
       "      <td>Faro</td>\n",
       "      <td>São Brás de Alportel</td>\n",
       "      <td>São Brás de Alportel</td>\n",
       "      <td>Apartment</td>\n",
       "      <td>A+</td>\n",
       "      <td>NaN</td>\n",
       "      <td>114.0</td>\n",
       "      <td>1.0</td>\n",
       "      <td>True</td>\n",
       "      <td>...</td>\n",
       "      <td>True</td>\n",
       "      <td>NaN</td>\n",
       "      <td>2.0</td>\n",
       "      <td>NaN</td>\n",
       "      <td>NaN</td>\n",
       "      <td>NaN</td>\n",
       "      <td>114.0</td>\n",
       "      <td>NaN</td>\n",
       "      <td>NaN</td>\n",
       "      <td>0.0</td>\n",
       "    </tr>\n",
       "    <tr>\n",
       "      <th>4</th>\n",
       "      <td>250000.0</td>\n",
       "      <td>Faro</td>\n",
       "      <td>São Brás de Alportel</td>\n",
       "      <td>São Brás de Alportel</td>\n",
       "      <td>Apartment</td>\n",
       "      <td>A+</td>\n",
       "      <td>NaN</td>\n",
       "      <td>114.0</td>\n",
       "      <td>1.0</td>\n",
       "      <td>True</td>\n",
       "      <td>...</td>\n",
       "      <td>True</td>\n",
       "      <td>NaN</td>\n",
       "      <td>2.0</td>\n",
       "      <td>NaN</td>\n",
       "      <td>NaN</td>\n",
       "      <td>NaN</td>\n",
       "      <td>114.0</td>\n",
       "      <td>NaN</td>\n",
       "      <td>NaN</td>\n",
       "      <td>2.0</td>\n",
       "    </tr>\n",
       "    <tr>\n",
       "      <th>...</th>\n",
       "      <td>...</td>\n",
       "      <td>...</td>\n",
       "      <td>...</td>\n",
       "      <td>...</td>\n",
       "      <td>...</td>\n",
       "      <td>...</td>\n",
       "      <td>...</td>\n",
       "      <td>...</td>\n",
       "      <td>...</td>\n",
       "      <td>...</td>\n",
       "      <td>...</td>\n",
       "      <td>...</td>\n",
       "      <td>...</td>\n",
       "      <td>...</td>\n",
       "      <td>...</td>\n",
       "      <td>...</td>\n",
       "      <td>...</td>\n",
       "      <td>...</td>\n",
       "      <td>...</td>\n",
       "      <td>...</td>\n",
       "      <td>...</td>\n",
       "    </tr>\n",
       "    <tr>\n",
       "      <th>135531</th>\n",
       "      <td>130000.0</td>\n",
       "      <td>Setúbal</td>\n",
       "      <td>Palmela</td>\n",
       "      <td>Palmela</td>\n",
       "      <td>Land</td>\n",
       "      <td>NC</td>\n",
       "      <td>NaN</td>\n",
       "      <td>1189.0</td>\n",
       "      <td>0.0</td>\n",
       "      <td>NaN</td>\n",
       "      <td>...</td>\n",
       "      <td>False</td>\n",
       "      <td>False</td>\n",
       "      <td>NaN</td>\n",
       "      <td>NaN</td>\n",
       "      <td>0.0</td>\n",
       "      <td>NaN</td>\n",
       "      <td>NaN</td>\n",
       "      <td>1189.0</td>\n",
       "      <td>NaN</td>\n",
       "      <td>0.0</td>\n",
       "    </tr>\n",
       "    <tr>\n",
       "      <th>135532</th>\n",
       "      <td>45000.0</td>\n",
       "      <td>Viana do Castelo</td>\n",
       "      <td>Ponte de Lima</td>\n",
       "      <td>Labruja</td>\n",
       "      <td>House</td>\n",
       "      <td>NC</td>\n",
       "      <td>NaN</td>\n",
       "      <td>374.0</td>\n",
       "      <td>1.0</td>\n",
       "      <td>NaN</td>\n",
       "      <td>...</td>\n",
       "      <td>False</td>\n",
       "      <td>False</td>\n",
       "      <td>NaN</td>\n",
       "      <td>0.0</td>\n",
       "      <td>0.0</td>\n",
       "      <td>NaN</td>\n",
       "      <td>374.0</td>\n",
       "      <td>4370.0</td>\n",
       "      <td>NaN</td>\n",
       "      <td>0.0</td>\n",
       "    </tr>\n",
       "    <tr>\n",
       "      <th>135533</th>\n",
       "      <td>349900.0</td>\n",
       "      <td>Vila Real</td>\n",
       "      <td>Valpaços</td>\n",
       "      <td>Valpaços e Sanfins</td>\n",
       "      <td>House</td>\n",
       "      <td>F</td>\n",
       "      <td>NaN</td>\n",
       "      <td>188.0</td>\n",
       "      <td>1.0</td>\n",
       "      <td>NaN</td>\n",
       "      <td>...</td>\n",
       "      <td>False</td>\n",
       "      <td>False</td>\n",
       "      <td>NaN</td>\n",
       "      <td>3.0</td>\n",
       "      <td>1.0</td>\n",
       "      <td>NaN</td>\n",
       "      <td>190.0</td>\n",
       "      <td>18240.0</td>\n",
       "      <td>238.0</td>\n",
       "      <td>3.0</td>\n",
       "    </tr>\n",
       "    <tr>\n",
       "      <th>135534</th>\n",
       "      <td>50000.0</td>\n",
       "      <td>Vila Real</td>\n",
       "      <td>Alijó</td>\n",
       "      <td>Castedo e Cotas</td>\n",
       "      <td>House</td>\n",
       "      <td>NC</td>\n",
       "      <td>NaN</td>\n",
       "      <td>69.0</td>\n",
       "      <td>1.0</td>\n",
       "      <td>NaN</td>\n",
       "      <td>...</td>\n",
       "      <td>False</td>\n",
       "      <td>False</td>\n",
       "      <td>NaN</td>\n",
       "      <td>2.0</td>\n",
       "      <td>1.0</td>\n",
       "      <td>NaN</td>\n",
       "      <td>84.0</td>\n",
       "      <td>NaN</td>\n",
       "      <td>84.5</td>\n",
       "      <td>2.0</td>\n",
       "    </tr>\n",
       "    <tr>\n",
       "      <th>135535</th>\n",
       "      <td>35000.0</td>\n",
       "      <td>Vila Real</td>\n",
       "      <td>Valpaços</td>\n",
       "      <td>Algeriz</td>\n",
       "      <td>Land</td>\n",
       "      <td>NC</td>\n",
       "      <td>NaN</td>\n",
       "      <td>100.0</td>\n",
       "      <td>0.0</td>\n",
       "      <td>NaN</td>\n",
       "      <td>...</td>\n",
       "      <td>False</td>\n",
       "      <td>False</td>\n",
       "      <td>NaN</td>\n",
       "      <td>NaN</td>\n",
       "      <td>0.0</td>\n",
       "      <td>NaN</td>\n",
       "      <td>NaN</td>\n",
       "      <td>100.0</td>\n",
       "      <td>NaN</td>\n",
       "      <td>0.0</td>\n",
       "    </tr>\n",
       "  </tbody>\n",
       "</table>\n",
       "<p>135536 rows × 25 columns</p>\n",
       "</div>"
      ],
      "text/plain": [
       "           Price          District                  City  \\\n",
       "0       780000.0         Vila Real              Valpaços   \n",
       "1       223000.0              Faro  São Brás de Alportel   \n",
       "2       228000.0              Faro  São Brás de Alportel   \n",
       "3       250000.0              Faro  São Brás de Alportel   \n",
       "4       250000.0              Faro  São Brás de Alportel   \n",
       "...          ...               ...                   ...   \n",
       "135531  130000.0           Setúbal               Palmela   \n",
       "135532   45000.0  Viana do Castelo         Ponte de Lima   \n",
       "135533  349900.0         Vila Real              Valpaços   \n",
       "135534   50000.0         Vila Real                 Alijó   \n",
       "135535   35000.0         Vila Real              Valpaços   \n",
       "\n",
       "                                    Town       Type EnergyCertificate  \\\n",
       "0       Carrazedo de Montenegro e Curros       Farm                NC   \n",
       "1                   São Brás de Alportel  Apartment                A+   \n",
       "2                   São Brás de Alportel  Apartment                A+   \n",
       "3                   São Brás de Alportel  Apartment                A+   \n",
       "4                   São Brás de Alportel  Apartment                A+   \n",
       "...                                  ...        ...               ...   \n",
       "135531                           Palmela       Land                NC   \n",
       "135532                           Labruja      House                NC   \n",
       "135533                Valpaços e Sanfins      House                 F   \n",
       "135534                   Castedo e Cotas      House                NC   \n",
       "135535                           Algeriz       Land                NC   \n",
       "\n",
       "        GrossArea  TotalArea  Parking HasParking  ... Elevator  \\\n",
       "0           200.0   552450.0      0.0      False  ...    False   \n",
       "1             NaN       81.0      1.0       True  ...     True   \n",
       "2             NaN      108.0      1.0       True  ...     True   \n",
       "3             NaN      114.0      1.0       True  ...     True   \n",
       "4             NaN      114.0      1.0       True  ...     True   \n",
       "...           ...        ...      ...        ...  ...      ...   \n",
       "135531        NaN     1189.0      0.0        NaN  ...    False   \n",
       "135532        NaN      374.0      1.0        NaN  ...    False   \n",
       "135533        NaN      188.0      1.0        NaN  ...    False   \n",
       "135534        NaN       69.0      1.0        NaN  ...    False   \n",
       "135535        NaN      100.0      0.0        NaN  ...    False   \n",
       "\n",
       "        ElectricCarsCharging TotalRooms NumberOfBedrooms NumberOfWC  \\\n",
       "0                        NaN        NaN              NaN        NaN   \n",
       "1                        NaN        2.0              NaN        NaN   \n",
       "2                        NaN        2.0              NaN        NaN   \n",
       "3                        NaN        2.0              NaN        NaN   \n",
       "4                        NaN        2.0              NaN        NaN   \n",
       "...                      ...        ...              ...        ...   \n",
       "135531                 False        NaN              NaN        0.0   \n",
       "135532                 False        NaN              0.0        0.0   \n",
       "135533                 False        NaN              3.0        1.0   \n",
       "135534                 False        NaN              2.0        1.0   \n",
       "135535                 False        NaN              NaN        0.0   \n",
       "\n",
       "       ConservationStatus LivingArea  LotSize  BuiltArea  NumberOfBathrooms  \n",
       "0                     NaN      120.0      NaN        NaN                0.0  \n",
       "1                     NaN       81.0      NaN        NaN                2.0  \n",
       "2                     NaN      108.0      NaN        NaN                2.0  \n",
       "3                     NaN      114.0      NaN        NaN                0.0  \n",
       "4                     NaN      114.0      NaN        NaN                2.0  \n",
       "...                   ...        ...      ...        ...                ...  \n",
       "135531                NaN        NaN   1189.0        NaN                0.0  \n",
       "135532                NaN      374.0   4370.0        NaN                0.0  \n",
       "135533                NaN      190.0  18240.0      238.0                3.0  \n",
       "135534                NaN       84.0      NaN       84.5                2.0  \n",
       "135535                NaN        NaN    100.0        NaN                0.0  \n",
       "\n",
       "[135536 rows x 25 columns]"
      ]
     },
     "execution_count": 182,
     "metadata": {},
     "output_type": "execute_result"
    }
   ],
   "source": [
    "# Melihat dataset yang telah dimuat\n",
    "df"
   ]
  },
  {
   "cell_type": "code",
   "execution_count": 183,
   "id": "d9cc6098",
   "metadata": {},
   "outputs": [
    {
     "data": {
      "text/plain": [
       "Index(['Price', 'District', 'City', 'Town', 'Type', 'EnergyCertificate',\n",
       "       'GrossArea', 'TotalArea', 'Parking', 'HasParking', 'Floor',\n",
       "       'ConstructionYear', 'EnergyEfficiencyLevel', 'PublishDate', 'Garage',\n",
       "       'Elevator', 'ElectricCarsCharging', 'TotalRooms', 'NumberOfBedrooms',\n",
       "       'NumberOfWC', 'ConservationStatus', 'LivingArea', 'LotSize',\n",
       "       'BuiltArea', 'NumberOfBathrooms'],\n",
       "      dtype='object')"
      ]
     },
     "execution_count": 183,
     "metadata": {},
     "output_type": "execute_result"
    }
   ],
   "source": [
    "# Mengecek nama kolom pada dataset\n",
    "df.columns"
   ]
  },
  {
   "cell_type": "code",
   "execution_count": 184,
   "id": "bb61e03f",
   "metadata": {},
   "outputs": [
    {
     "name": "stdout",
     "output_type": "stream",
     "text": [
      "<class 'pandas.core.frame.DataFrame'>\n",
      "RangeIndex: 135536 entries, 0 to 135535\n",
      "Data columns (total 25 columns):\n",
      " #   Column                 Non-Null Count   Dtype  \n",
      "---  ------                 --------------   -----  \n",
      " 0   Price                  135236 non-null  float64\n",
      " 1   District               135536 non-null  object \n",
      " 2   City                   135536 non-null  object \n",
      " 3   Town                   135534 non-null  object \n",
      " 4   Type                   135520 non-null  object \n",
      " 5   EnergyCertificate      135522 non-null  object \n",
      " 6   GrossArea              27638 non-null   float64\n",
      " 7   TotalArea              127153 non-null  float64\n",
      " 8   Parking                135342 non-null  float64\n",
      " 9   HasParking             68215 non-null   object \n",
      " 10  Floor                  27929 non-null   object \n",
      " 11  ConstructionYear       88021 non-null   float64\n",
      " 12  EnergyEfficiencyLevel  67289 non-null   object \n",
      " 13  PublishDate            29239 non-null   object \n",
      " 14  Garage                 67289 non-null   object \n",
      " 15  Elevator               135504 non-null  object \n",
      " 16  ElectricCarsCharging   67289 non-null   object \n",
      " 17  TotalRooms             73244 non-null   float64\n",
      " 18  NumberOfBedrooms       47041 non-null   float64\n",
      " 19  NumberOfWC             57256 non-null   float64\n",
      " 20  ConservationStatus     19292 non-null   object \n",
      " 21  LivingArea             104952 non-null  float64\n",
      " 22  LotSize                39583 non-null   float64\n",
      " 23  BuiltArea              26617 non-null   float64\n",
      " 24  NumberOfBathrooms      128700 non-null  float64\n",
      "dtypes: float64(12), object(13)\n",
      "memory usage: 25.9+ MB\n"
     ]
    }
   ],
   "source": [
    "# Menampilkan informasi dasar tentang dataset\n",
    "df.info()"
   ]
  },
  {
   "cell_type": "code",
   "execution_count": 185,
   "id": "3af70b51",
   "metadata": {},
   "outputs": [
    {
     "name": "stdout",
     "output_type": "stream",
     "text": [
      "<class 'pandas.core.frame.DataFrame'>\n",
      "RangeIndex: 135536 entries, 0 to 135535\n",
      "Data columns (total 25 columns):\n",
      " #   Column                 Non-Null Count   Dtype         \n",
      "---  ------                 --------------   -----         \n",
      " 0   Price                  135236 non-null  float64       \n",
      " 1   District               135536 non-null  object        \n",
      " 2   City                   135536 non-null  object        \n",
      " 3   Town                   135534 non-null  object        \n",
      " 4   Type                   135520 non-null  object        \n",
      " 5   EnergyCertificate      135522 non-null  object        \n",
      " 6   GrossArea              27638 non-null   float64       \n",
      " 7   TotalArea              127153 non-null  float64       \n",
      " 8   Parking                135342 non-null  float64       \n",
      " 9   HasParking             68215 non-null   object        \n",
      " 10  Floor                  27929 non-null   object        \n",
      " 11  ConstructionYear       88021 non-null   float64       \n",
      " 12  EnergyEfficiencyLevel  67289 non-null   object        \n",
      " 13  PublishDate            28779 non-null   datetime64[ns]\n",
      " 14  Garage                 67289 non-null   object        \n",
      " 15  Elevator               135504 non-null  object        \n",
      " 16  ElectricCarsCharging   67289 non-null   object        \n",
      " 17  TotalRooms             73244 non-null   float64       \n",
      " 18  NumberOfBedrooms       47041 non-null   float64       \n",
      " 19  NumberOfWC             57256 non-null   float64       \n",
      " 20  ConservationStatus     19292 non-null   object        \n",
      " 21  LivingArea             104952 non-null  float64       \n",
      " 22  LotSize                39583 non-null   float64       \n",
      " 23  BuiltArea              26617 non-null   float64       \n",
      " 24  NumberOfBathrooms      128700 non-null  float64       \n",
      "dtypes: datetime64[ns](1), float64(12), object(12)\n",
      "memory usage: 25.9+ MB\n"
     ]
    }
   ],
   "source": [
    "# Mengonversi kolom PublishDate ke tipe data datetime\n",
    "df['PublishDate'] = pd.to_datetime(df['PublishDate'], errors='coerce')\n",
    "\n",
    "df.info()"
   ]
  },
  {
   "cell_type": "code",
   "execution_count": 186,
   "id": "46839a24",
   "metadata": {},
   "outputs": [
    {
     "data": {
      "text/plain": [
       "np.int64(9011)"
      ]
     },
     "execution_count": 186,
     "metadata": {},
     "output_type": "execute_result"
    }
   ],
   "source": [
    "# Melihat jumlah duplikasi pada dataset\n",
    "df.duplicated().sum()"
   ]
  },
  {
   "cell_type": "code",
   "execution_count": 187,
   "id": "aed59c7e",
   "metadata": {},
   "outputs": [
    {
     "data": {
      "text/plain": [
       "np.int64(0)"
      ]
     },
     "execution_count": 187,
     "metadata": {},
     "output_type": "execute_result"
    }
   ],
   "source": [
    "# Menghapus duplikasi pada dataset\n",
    "df = df.drop_duplicates()\n",
    "df.duplicated().sum()\n"
   ]
  },
  {
   "cell_type": "code",
   "execution_count": 188,
   "id": "c8916155",
   "metadata": {},
   "outputs": [
    {
     "data": {
      "text/plain": [
       "min     1.000000e+00\n",
       "max     1.380000e+09\n",
       "mean    3.707856e+05\n",
       "std     3.935295e+06\n",
       "Name: Price, dtype: float64"
      ]
     },
     "execution_count": 188,
     "metadata": {},
     "output_type": "execute_result"
    }
   ],
   "source": [
    "# Melihat ringkasan statistik dari kolom numerik\n",
    "df['Price'].agg([\"min\", \"max\", \"mean\", \"std\"])\n"
   ]
  },
  {
   "cell_type": "code",
   "execution_count": 189,
   "id": "1aec5edb",
   "metadata": {},
   "outputs": [
    {
     "data": {
      "text/plain": [
       "min     1.000000e+00\n",
       "max     1.200000e+07\n",
       "mean    3.545302e+05\n",
       "std     5.587419e+05\n",
       "Name: Price, dtype: float64"
      ]
     },
     "execution_count": 189,
     "metadata": {},
     "output_type": "execute_result"
    }
   ],
   "source": [
    "# Filter Z-score\n",
    "z = (df['Price'] - df['Price'].mean()) / df['Price'].std()\n",
    "\n",
    "# Keep rows where TotalArea > 0 and zscore between -3 and 3, OR TotalArea is NaN\n",
    "df = df[((df['Price'] > 0) & z.between(-3, 3)) | (df['Price'].isna())].copy()\n",
    "\n",
    "df['Price'].agg([\"min\", \"max\", \"mean\", \"std\"])\n"
   ]
  },
  {
   "cell_type": "code",
   "execution_count": null,
   "id": "216ab4ac",
   "metadata": {},
   "outputs": [
    {
     "name": "stdout",
     "output_type": "stream",
     "text": [
      "District\n",
      "Lisboa                  29890\n",
      "Porto                   21175\n",
      "Setúbal                 10821\n",
      "Braga                   10606\n",
      "Faro                     8018\n",
      "Coimbra                  7309\n",
      "Aveiro                   6840\n",
      "Santarém                 6724\n",
      "Leiria                   6698\n",
      "Castelo Branco           4727\n",
      "Viana do Castelo         3339\n",
      "Évora                    2283\n",
      "Vila Real                2162\n",
      "Portalegre               1864\n",
      "Guarda                   1450\n",
      "Beja                     1267\n",
      "Bragança                  823\n",
      "Ilha de Santa Maria       249\n",
      "Viseu                      55\n",
      "Ilha de São Miguel         55\n",
      "Ilha de Porto Santo        44\n",
      "Ilha Terceira              40\n",
      "Z - Fora de Portugal       25\n",
      "Ilha da Madeira            16\n",
      "Ilha de São Jorge           1\n",
      "Ilha do Faial               1\n",
      "Ilha das Flores             1\n",
      "Name: count, dtype: int64\n"
     ]
    }
   ],
   "source": [
    "# Me;lihat nilai unik pada kolom District dan jumlah kemunculannya\n",
    "df['District'].unique()\n",
    "df['District'].value_counts()\n"
   ]
  },
  {
   "cell_type": "code",
   "execution_count": null,
   "id": "7b2469f6",
   "metadata": {},
   "outputs": [
    {
     "name": "stdout",
     "output_type": "stream",
     "text": [
      "City\n",
      "Lisboa                   8057\n",
      "Sintra                   5308\n",
      "Porto                    4924\n",
      "Vila Nova de Gaia        3953\n",
      "Cascais                  3075\n",
      "                         ... \n",
      "Velas                       1\n",
      "Mortágua                    1\n",
      "Cinfães                     1\n",
      "Horta                       1\n",
      "Santa Cruz das Flores       1\n",
      "Name: count, Length: 275, dtype: int64\n"
     ]
    }
   ],
   "source": [
    "# Melihat nilai unik pada kolom City dan jumlah kemunculannya\n",
    "df['City'].unique()\n",
    "df['City'].value_counts()\n"
   ]
  },
  {
   "cell_type": "code",
   "execution_count": null,
   "id": "854b4459",
   "metadata": {},
   "outputs": [
    {
     "data": {
      "text/plain": [
       "Town\n",
       "Paranhos                                                           1880\n",
       "Cascais e Estoril                                                  1413\n",
       "Albufeira e Olhos de Água                                          1201\n",
       "Cedofeita, Santo Ildefonso, Sé, Miragaia, São Nicolau e Vitória    1004\n",
       "Portimão                                                           1004\n",
       "                                                                   ... \n",
       "Amoreira, Parada e Cabreira                                           1\n",
       "Santa Clara-a-Nova e Gomes Aires                                      1\n",
       "Arrouquelas                                                           1\n",
       "Romarigães                                                            1\n",
       "Lamas de Orelhão                                                      1\n",
       "Name: count, Length: 2263, dtype: int64"
      ]
     },
     "execution_count": 192,
     "metadata": {},
     "output_type": "execute_result"
    }
   ],
   "source": [
    "# Melihat nilai unik pada kolom Town dan jumlah kemunculannya\n",
    "df['Town'].unique()\n",
    "df['Town'].value_counts()\n"
   ]
  },
  {
   "cell_type": "code",
   "execution_count": null,
   "id": "3f10196c",
   "metadata": {},
   "outputs": [
    {
     "name": "stdout",
     "output_type": "stream",
     "text": [
      "Type\n",
      "Apartment              43984\n",
      "House                  34512\n",
      "Land                   29468\n",
      "Store                   5059\n",
      "Farm                    3756\n",
      "Building                2397\n",
      "Transfer of lease       1588\n",
      "Warehouse               1339\n",
      "Garage                   885\n",
      "Other - Commercial       764\n",
      "Office                   695\n",
      "Other - Residential      556\n",
      "Industrial               400\n",
      "Duplex                   371\n",
      "Investment               219\n",
      "Storage                  166\n",
      "Hotel                    145\n",
      "Studio                    66\n",
      "Estate                    60\n",
      "Mansion                   32\n",
      "Manor                      6\n",
      "Name: count, dtype: int64\n"
     ]
    }
   ],
   "source": [
    "# Melihat nilai unik pada kolom Type dan jumlah kemunculannya\n",
    "\n",
    "df['Type'].unique()\n",
    "df['Type'].value_counts()\n"
   ]
  },
  {
   "cell_type": "code",
   "execution_count": null,
   "id": "7f1b996c",
   "metadata": {},
   "outputs": [
    {
     "name": "stdout",
     "output_type": "stream",
     "text": [
      "EnergyCertificate\n",
      "NC                56374\n",
      "C                 15763\n",
      "D                 15047\n",
      "E                 10537\n",
      "A                  8861\n",
      "F                  7240\n",
      "B-                 4265\n",
      "B                  4056\n",
      "A+                 3843\n",
      "G                   425\n",
      "No Certificate       42\n",
      "Not available        17\n",
      "Name: count, dtype: int64\n"
     ]
    }
   ],
   "source": [
    "# Melihat nilai unik pada kolom EnergyCertificate dan jumlah kemunculannya\n",
    "df['EnergyCertificate'].unique()\n",
    "df['EnergyCertificate'].value_counts()\n"
   ]
  },
  {
   "cell_type": "code",
   "execution_count": 195,
   "id": "8bf34b5a",
   "metadata": {},
   "outputs": [
    {
     "data": {
      "text/plain": [
       "EnergyCertificate\n",
       "NC    56416\n",
       "C     15763\n",
       "D     15047\n",
       "E     10537\n",
       "A      8861\n",
       "F      7240\n",
       "B-     4265\n",
       "B      4056\n",
       "A+     3843\n",
       "G       425\n",
       "Name: count, dtype: int64"
      ]
     },
     "execution_count": 195,
     "metadata": {},
     "output_type": "execute_result"
    }
   ],
   "source": [
    "# Membersihkan kolom EnergyCertificate\n",
    "\n",
    "df['EnergyCertificate'] = df['EnergyCertificate'].replace('Not available', np.nan)\n",
    "df['EnergyCertificate'] = df['EnergyCertificate'].replace('No Certificate', 'NC')\n",
    "\n",
    "# Melihat kembali kategori unik pada kolom EnergyCertificate setelah pembersihan\n",
    "df['EnergyCertificate'].unique()\n",
    "df['EnergyCertificate'].value_counts()"
   ]
  },
  {
   "cell_type": "code",
   "execution_count": null,
   "id": "9b2bdb2d",
   "metadata": {},
   "outputs": [
    {
     "data": {
      "text/plain": [
       "min    -7.000000e+00\n",
       "max     1.275000e+07\n",
       "mean    2.823406e+03\n",
       "std     1.177244e+05\n",
       "Name: GrossArea, dtype: float64"
      ]
     },
     "execution_count": 196,
     "metadata": {},
     "output_type": "execute_result"
    }
   ],
   "source": [
    "# Melihat nilai ringkasan statistik pada kolom GrossArea\n",
    "df['GrossArea'].agg([\"min\", \"max\", \"mean\", \"std\"])\n"
   ]
  },
  {
   "cell_type": "code",
   "execution_count": 197,
   "id": "4181fb31",
   "metadata": {},
   "outputs": [
    {
     "data": {
      "text/plain": [
       "min          1.000000\n",
       "max     338750.000000\n",
       "mean      1097.550438\n",
       "std       8732.586113\n",
       "Name: GrossArea, dtype: float64"
      ]
     },
     "execution_count": 197,
     "metadata": {},
     "output_type": "execute_result"
    }
   ],
   "source": [
    "# Filter Z-score\n",
    "z = (df['GrossArea'] - df['GrossArea'].mean()) / df['GrossArea'].std()\n",
    "\n",
    "# Keep rows where TotalArea > 0 and zscore between -3 and 3, OR TotalArea is NaN\n",
    "df = df[((df['GrossArea'] > 0) & z.between(-3, 3)) | (df['GrossArea'].isna())].copy()\n",
    "\n",
    "df['GrossArea'].agg([\"min\", \"max\", \"mean\", \"std\"])\n"
   ]
  },
  {
   "cell_type": "code",
   "execution_count": 198,
   "id": "cabad4a1",
   "metadata": {},
   "outputs": [
    {
     "data": {
      "text/plain": [
       "min    -7.196067e+06\n",
       "max     6.142007e+10\n",
       "mean    5.501635e+05\n",
       "std     1.785753e+08\n",
       "Name: TotalArea, dtype: float64"
      ]
     },
     "execution_count": 198,
     "metadata": {},
     "output_type": "execute_result"
    }
   ],
   "source": [
    "df['TotalArea'].agg([\"min\", \"max\", \"mean\", \"std\"])\n"
   ]
  },
  {
   "cell_type": "code",
   "execution_count": 199,
   "id": "dda136e5",
   "metadata": {},
   "outputs": [
    {
     "data": {
      "text/plain": [
       "min     1.000000e+00\n",
       "max     2.152000e+08\n",
       "mean    1.463779e+04\n",
       "std     1.068249e+06\n",
       "Name: TotalArea, dtype: float64"
      ]
     },
     "execution_count": 199,
     "metadata": {},
     "output_type": "execute_result"
    }
   ],
   "source": [
    "# Z-score for TotalArea\n",
    "z = (df['TotalArea'] - df['TotalArea'].mean()) / df['TotalArea'].std()\n",
    "\n",
    "# Keep rows where TotalArea > 0 and zscore between -3 and 3, OR TotalArea is NaN\n",
    "df = df[((df['TotalArea'] > 0) & z.between(-3, 3)) | (df['TotalArea'].isna())].copy()\n",
    "\n",
    "df['TotalArea'].agg([\"min\", \"max\", \"mean\", \"std\"])\n"
   ]
  },
  {
   "cell_type": "code",
   "execution_count": 200,
   "id": "e9a16d08",
   "metadata": {},
   "outputs": [
    {
     "data": {
      "text/plain": [
       "min     0.000000\n",
       "max     3.000000\n",
       "mean    0.544562\n",
       "std     0.838310\n",
       "Name: Parking, dtype: float64"
      ]
     },
     "execution_count": 200,
     "metadata": {},
     "output_type": "execute_result"
    }
   ],
   "source": [
    "# Mengecek rangkuman statistik pada kolom Parking\n",
    "df['Parking'].agg([\"min\", \"max\", \"mean\", \"std\"])"
   ]
  },
  {
   "cell_type": "code",
   "execution_count": 201,
   "id": "6fe5210e",
   "metadata": {},
   "outputs": [
    {
     "data": {
      "text/plain": [
       "HasParking\n",
       "False    34865\n",
       "True     28151\n",
       "Name: count, dtype: int64"
      ]
     },
     "execution_count": 201,
     "metadata": {},
     "output_type": "execute_result"
    }
   ],
   "source": [
    "# Mengecek nilai unik pada kolom HasParking\n",
    "df['HasParking'].unique()\n",
    "df['HasParking'].value_counts()"
   ]
  },
  {
   "cell_type": "code",
   "execution_count": 202,
   "id": "b30c7eb3",
   "metadata": {},
   "outputs": [
    {
     "data": {
      "text/plain": [
       "array([nan, 'Ground Floor', '1st Floor', '2nd Floor', '3rd Floor',\n",
       "       '4th Floor', 'Above 10th Floor', '5th Floor', 'Basement Level',\n",
       "       '6th Floor', '9th Floor', '7th Floor', '8th Floor', 'Top Floor',\n",
       "       'Duplex', 'Triplex', 'Attic', 'Basement', 'Mezzanine',\n",
       "       'Service Floor'], dtype=object)"
      ]
     },
     "execution_count": 202,
     "metadata": {},
     "output_type": "execute_result"
    }
   ],
   "source": [
    "# Mengecek nilai unik pada kolom ConstructionYear\n",
    "df['Floor'].unique()"
   ]
  },
  {
   "cell_type": "code",
   "execution_count": 203,
   "id": "92244333",
   "metadata": {},
   "outputs": [
    {
     "data": {
      "text/plain": [
       "ConstructionYear\n",
       "2023.0    5036\n",
       "1937.0    4745\n",
       "2024.0    4195\n",
       "1951.0    3644\n",
       "1988.0    2568\n",
       "          ... \n",
       "1914.0       2\n",
       "1906.0       2\n",
       "1907.0       1\n",
       "1903.0       1\n",
       "1915.0       1\n",
       "Name: count, Length: 125, dtype: int64"
      ]
     },
     "execution_count": 203,
     "metadata": {},
     "output_type": "execute_result"
    }
   ],
   "source": [
    "# Mengecek nilai unik pada kolom ConstructionYear\n",
    "df['ConstructionYear'].unique()\n",
    "df['ConstructionYear'].value_counts()"
   ]
  },
  {
   "cell_type": "code",
   "execution_count": null,
   "id": "bc7f854e",
   "metadata": {},
   "outputs": [
    {
     "data": {
      "text/plain": [
       "array([nan, 'F', 'NC', 'D', 'C', 'E', 'B-', 'B', 'A', 'A+', 'G',\n",
       "       'No Certificate'], dtype=object)"
      ]
     },
     "execution_count": 204,
     "metadata": {},
     "output_type": "execute_result"
    }
   ],
   "source": [
    "# Melihat kategori unik pada kolom EnergyEfficiencyLevel\n",
    "df['EnergyEfficiencyLevel'].unique()"
   ]
  },
  {
   "cell_type": "code",
   "execution_count": 213,
   "id": "e2ab9244",
   "metadata": {},
   "outputs": [
    {
     "data": {
      "text/plain": [
       "EnergyCertificate\n",
       "NC    55913\n",
       "C     15615\n",
       "D     14899\n",
       "E     10441\n",
       "A      8830\n",
       "F      7207\n",
       "B-     4203\n",
       "B      4029\n",
       "A+     3830\n",
       "G       424\n",
       "Name: count, dtype: int64"
      ]
     },
     "execution_count": 213,
     "metadata": {},
     "output_type": "execute_result"
    }
   ],
   "source": [
    "# Membersihkan kolom EnergyCertificate\n",
    "\n",
    "df['EnergyCertificate'] = df['EnergyCertificate'].replace('Not available', np.nan)\n",
    "df['EnergyCertificate'] = df['EnergyCertificate'].replace('No Certificate', 'NC')\n",
    "\n",
    "# Melihat kembali kategori unik pada kolom EnergyCertificate setelah pembersihan\n",
    "df['EnergyCertificate'].unique()\n",
    "df['EnergyCertificate'].value_counts()\n"
   ]
  },
  {
   "cell_type": "code",
   "execution_count": null,
   "id": "f13ce24f",
   "metadata": {},
   "outputs": [
    {
     "data": {
      "text/plain": [
       "<DatetimeArray>\n",
       "[                       'NaT', '2024-10-18 16:35:08.843000',\n",
       " '2024-10-21 16:42:32.017000', '2024-10-18 10:53:03.927000',\n",
       " '2024-10-21 15:56:26.597000', '2024-10-18 16:05:58.430000',\n",
       " '2024-10-18 16:31:08.837000', '2024-10-17 13:08:54.590000',\n",
       " '2024-10-18 16:15:40.007000', '2024-10-17 11:54:17.097000',\n",
       " ...\n",
       " '2025-01-28 10:36:18.197000', '2025-01-28 15:38:21.460000',\n",
       " '2025-01-28 14:56:08.043000', '2025-01-28 12:10:37.080000',\n",
       " '2025-01-28 14:14:51.240000', '2025-01-28 15:39:51.247000',\n",
       " '2025-01-28 11:29:57.513000', '2025-01-28 17:30:12.923000',\n",
       " '2025-01-28 16:37:28.787000', '2024-04-24 16:34:56.563000']\n",
       "Length: 27353, dtype: datetime64[ns]"
      ]
     },
     "execution_count": 205,
     "metadata": {},
     "output_type": "execute_result"
    }
   ],
   "source": [
    "# Melihat nilai unik pada kolom PublishDate\n",
    "df['PublishDate'].unique()"
   ]
  },
  {
   "cell_type": "code",
   "execution_count": null,
   "id": "46010427",
   "metadata": {},
   "outputs": [
    {
     "data": {
      "text/plain": [
       "Garage\n",
       "False    51553\n",
       "True     10822\n",
       "Name: count, dtype: int64"
      ]
     },
     "execution_count": 214,
     "metadata": {},
     "output_type": "execute_result"
    }
   ],
   "source": [
    "# Melihat nilai unik pada kolom Garage dan jumlah kemunculannya\n",
    "\n",
    "df['Garage'].unique()\n",
    "df['Garage'].value_counts()"
   ]
  },
  {
   "cell_type": "code",
   "execution_count": null,
   "id": "aaec41e7",
   "metadata": {},
   "outputs": [
    {
     "data": {
      "text/plain": [
       "Elevator\n",
       "False    95502\n",
       "True     29889\n",
       "Name: count, dtype: int64"
      ]
     },
     "execution_count": 215,
     "metadata": {},
     "output_type": "execute_result"
    }
   ],
   "source": [
    "# Melihat nilai unik pada kolom Elevator dan jumlah kemunculannya\n",
    "\n",
    "df['Elevator'].unique()\n",
    "df['Elevator'].value_counts()"
   ]
  },
  {
   "cell_type": "code",
   "execution_count": null,
   "id": "9879afdd",
   "metadata": {},
   "outputs": [
    {
     "data": {
      "text/plain": [
       "ElectricCarsCharging\n",
       "False    56496\n",
       "True      5879\n",
       "Name: count, dtype: int64"
      ]
     },
     "execution_count": 217,
     "metadata": {},
     "output_type": "execute_result"
    }
   ],
   "source": [
    "# Melihat nilai unik pada kolom ElectricCarsCharging dan jumlah kemunculannya\n",
    "df['ElectricCarsCharging'].unique()\n",
    "df['ElectricCarsCharging'].value_counts()"
   ]
  },
  {
   "cell_type": "code",
   "execution_count": null,
   "id": "d26bc43e",
   "metadata": {},
   "outputs": [
    {
     "data": {
      "text/plain": [
       "min        0.000000\n",
       "max     2751.000000\n",
       "mean       3.250052\n",
       "std       10.879955\n",
       "Name: TotalRooms, dtype: float64"
      ]
     },
     "execution_count": 218,
     "metadata": {},
     "output_type": "execute_result"
    }
   ],
   "source": [
    "# Melihat nilai ringkasan statistik pada kolom NumberOfBedrooms\n",
    "df['TotalRooms'].agg([\"min\", \"max\", \"mean\", \"std\"])"
   ]
  },
  {
   "cell_type": "code",
   "execution_count": null,
   "id": "88e52ceb",
   "metadata": {},
   "outputs": [
    {
     "data": {
      "text/plain": [
       "min        0.000000\n",
       "max     2751.000000\n",
       "mean       3.250052\n",
       "std       10.879955\n",
       "Name: TotalRooms, dtype: float64"
      ]
     },
     "execution_count": 222,
     "metadata": {},
     "output_type": "execute_result"
    }
   ],
   "source": [
    "# Hanya Mengambil nilai diatas 0\n",
    "df = df[(df['TotalArea'] > 0) | (df['TotalArea'].isna())].copy()\n",
    "\n",
    "df['TotalRooms'].agg([\"min\", \"max\", \"mean\", \"std\"])"
   ]
  },
  {
   "cell_type": "code",
   "execution_count": null,
   "id": "46783f53",
   "metadata": {},
   "outputs": [
    {
     "data": {
      "text/plain": [
       "min      0.000000\n",
       "max     21.000000\n",
       "mean     2.675901\n",
       "std      1.788647\n",
       "Name: NumberOfBedrooms, dtype: float64"
      ]
     },
     "execution_count": 224,
     "metadata": {},
     "output_type": "execute_result"
    }
   ],
   "source": [
    "#Melihat nilai ringkasan statistik pada kolom NumberOfBedrooms\n",
    "df['NumberOfBedrooms'].agg([\"min\", \"max\", \"mean\", \"std\"])"
   ]
  },
  {
   "cell_type": "code",
   "execution_count": null,
   "id": "a0c08f43",
   "metadata": {},
   "outputs": [
    {
     "data": {
      "text/plain": [
       "min    -15.000000\n",
       "max     59.000000\n",
       "mean     0.434528\n",
       "std      1.017991\n",
       "Name: NumberOfWC, dtype: float64"
      ]
     },
     "execution_count": 225,
     "metadata": {},
     "output_type": "execute_result"
    }
   ],
   "source": [
    "# Melihat nilai ringkasan statistik pada kolom NumberOfWC\n",
    "\n",
    "df['NumberOfWC'].agg([\"min\", \"max\", \"mean\", \"std\"])"
   ]
  },
  {
   "cell_type": "code",
   "execution_count": null,
   "id": "379f06a3",
   "metadata": {},
   "outputs": [
    {
     "data": {
      "text/plain": [
       "min      1.000000\n",
       "max     59.000000\n",
       "mean     1.618174\n",
       "std      1.387485\n",
       "Name: NumberOfWC, dtype: float64"
      ]
     },
     "execution_count": 226,
     "metadata": {},
     "output_type": "execute_result"
    }
   ],
   "source": [
    "# Memberi hanya mengambil nilai diatas 0\n",
    "\n",
    "df = df[(df['NumberOfWC'] > 0) | (df['NumberOfWC'].isna())].copy()\n",
    "\n",
    "df['NumberOfWC'].agg([\"min\", \"max\", \"mean\", \"std\"])"
   ]
  },
  {
   "cell_type": "code",
   "execution_count": 227,
   "id": "410aeae8",
   "metadata": {},
   "outputs": [
    {
     "data": {
      "text/plain": [
       "ConservationStatus\n",
       "New                 2843\n",
       "Good condition      2522\n",
       "Like new            1249\n",
       "Used                 928\n",
       "Needs renovation     682\n",
       "Reasonable           347\n",
       "Name: count, dtype: int64"
      ]
     },
     "execution_count": 227,
     "metadata": {},
     "output_type": "execute_result"
    }
   ],
   "source": [
    "# Melihat nilai unik pada kolom ConservationStatus\n",
    "\n",
    "df['ConservationStatus'].unique()\n",
    "df['ConservationStatus'].value_counts()"
   ]
  },
  {
   "cell_type": "code",
   "execution_count": 228,
   "id": "547f088e",
   "metadata": {},
   "outputs": [
    {
     "data": {
      "text/plain": [
       "min     0.000000e+00\n",
       "max     2.396000e+06\n",
       "mean    1.019159e+03\n",
       "std     1.628211e+04\n",
       "Name: LivingArea, dtype: float64"
      ]
     },
     "execution_count": 228,
     "metadata": {},
     "output_type": "execute_result"
    }
   ],
   "source": [
    "# Melihat nilai ringkasan statistik pada kolom LivingArea\n",
    "df['LivingArea'].agg([\"min\", \"max\", \"mean\", \"std\"])"
   ]
  },
  {
   "cell_type": "code",
   "execution_count": 229,
   "id": "005baaee",
   "metadata": {},
   "outputs": [
    {
     "data": {
      "text/plain": [
       "min     0.000000e+00\n",
       "max     2.752500e+07\n",
       "mean    1.570534e+04\n",
       "std     3.907386e+05\n",
       "Name: LotSize, dtype: float64"
      ]
     },
     "execution_count": 229,
     "metadata": {},
     "output_type": "execute_result"
    }
   ],
   "source": [
    "# Melihat nilai ringkasan statistik pada kolom LotSize\n",
    "\n",
    "df['LotSize'].agg([\"min\", \"max\", \"mean\", \"std\"])"
   ]
  },
  {
   "cell_type": "code",
   "execution_count": 230,
   "id": "99f07e29",
   "metadata": {},
   "outputs": [
    {
     "data": {
      "text/plain": [
       "min     0.000000e+00\n",
       "max     1.275000e+07\n",
       "mean    3.206376e+03\n",
       "std     1.316068e+05\n",
       "Name: BuiltArea, dtype: float64"
      ]
     },
     "execution_count": 230,
     "metadata": {},
     "output_type": "execute_result"
    }
   ],
   "source": [
    "# Melihat nilai ringkasan statistik pada kolom BuiltArea\n",
    "df['BuiltArea'].agg([\"min\", \"max\", \"mean\", \"std\"])"
   ]
  },
  {
   "cell_type": "code",
   "execution_count": 231,
   "id": "a63d1ac1",
   "metadata": {},
   "outputs": [
    {
     "data": {
      "text/plain": [
       "min     -13.000000\n",
       "max     131.000000\n",
       "mean      1.759794\n",
       "std       1.769380\n",
       "Name: NumberOfBathrooms, dtype: float64"
      ]
     },
     "execution_count": 231,
     "metadata": {},
     "output_type": "execute_result"
    }
   ],
   "source": [
    "# Melihat nilai ringkasan statistik pada kolom NoOfBathrooms\n",
    "df['NumberOfBathrooms'].agg([\"min\", \"max\", \"mean\", \"std\"])"
   ]
  },
  {
   "cell_type": "code",
   "execution_count": null,
   "id": "d07443b2",
   "metadata": {},
   "outputs": [
    {
     "data": {
      "text/plain": [
       "min      1.000000\n",
       "max     59.000000\n",
       "mean     1.618174\n",
       "std      1.387485\n",
       "Name: NumberOfWC, dtype: float64"
      ]
     },
     "execution_count": 232,
     "metadata": {},
     "output_type": "execute_result"
    }
   ],
   "source": [
    "# Hanya Mengambil nilai diatas 0\n",
    "df = df[(df['NumberOfWC'] >= 0) | (df['NumberOfWC'].isna())].copy()\n",
    "\n",
    "df['NumberOfWC'].agg([\"min\", \"max\", \"mean\", \"std\"])"
   ]
  },
  {
   "cell_type": "code",
   "execution_count": 237,
   "id": "86b64ad7",
   "metadata": {},
   "outputs": [],
   "source": [
    "# Menghapus data yang tidak ada publish datenya\n",
    "df = df[~df['PublishDate'].isna()].copy()"
   ]
  },
  {
   "cell_type": "code",
   "execution_count": 238,
   "id": "f120aecc",
   "metadata": {},
   "outputs": [],
   "source": [
    "# Menyimpan dataset yang telah dibersihkan ke file CSV baru\n",
    "df.to_csv(\"portugal_listinigs_clean2.csv\", index=False)"
   ]
  }
 ],
 "metadata": {
  "kernelspec": {
   "display_name": "base",
   "language": "python",
   "name": "python3"
  },
  "language_info": {
   "codemirror_mode": {
    "name": "ipython",
    "version": 3
   },
   "file_extension": ".py",
   "mimetype": "text/x-python",
   "name": "python",
   "nbconvert_exporter": "python",
   "pygments_lexer": "ipython3",
   "version": "3.13.5"
  }
 },
 "nbformat": 4,
 "nbformat_minor": 5
}
