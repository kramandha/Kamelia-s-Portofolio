{
 "cells": [
  {
   "cell_type": "markdown",
   "id": "a49ab2f4",
   "metadata": {},
   "source": [
    "=================================================\n",
    "Milestone Phase 1\n",
    "\n",
    "Nama  : Kamelia Ramandha\n",
    "Batch : CODA-RMT-010\n",
    "\n",
    "Program ini dibuat untuk melakukan webscrapping kepada website nordstorm dan melakukan analisa sederhana terhadap data\n",
    "================================================="
   ]
  },
  {
   "cell_type": "code",
   "execution_count": 273,
   "id": "72469cfe",
   "metadata": {},
   "outputs": [
    {
     "name": "stderr",
     "output_type": "stream",
     "text": [
      "python(66995) MallocStackLogging: can't turn off malloc stack logging because it was not enabled.\n",
      "python(67032) MallocStackLogging: can't turn off malloc stack logging because it was not enabled.\n",
      "python(67069) MallocStackLogging: can't turn off malloc stack logging because it was not enabled.\n",
      "python(67106) MallocStackLogging: can't turn off malloc stack logging because it was not enabled.\n",
      "python(67176) MallocStackLogging: can't turn off malloc stack logging because it was not enabled.\n",
      "python(67215) MallocStackLogging: can't turn off malloc stack logging because it was not enabled.\n",
      "python(67270) MallocStackLogging: can't turn off malloc stack logging because it was not enabled.\n",
      "python(67307) MallocStackLogging: can't turn off malloc stack logging because it was not enabled.\n",
      "python(67357) MallocStackLogging: can't turn off malloc stack logging because it was not enabled.\n",
      "python(67396) MallocStackLogging: can't turn off malloc stack logging because it was not enabled.\n"
     ]
    }
   ],
   "source": [
    "# Mengimport library yang dibutuhkan\n",
    "\n",
    "import time\n",
    "import pandas as pd\n",
    "from bs4 import BeautifulSoup\n",
    "from selenium import webdriver\n",
    "\n",
    "\n",
    "# Membuat list kosong\n",
    "brand = []\n",
    "product_name = []\n",
    "price = []\n",
    "var = []\n",
    "\n",
    "\n",
    "# Scrapping data 5 halaman pada website Nordstorm\n",
    "for page in range(1,6):\n",
    "    weblink = f'https://www.nordstrom.com/browse/women/handbags?offset=11&page={page}'\n",
    "    driver = webdriver.Chrome()\n",
    "    driver.get (weblink)\n",
    "    time.sleep(10)\n",
    "    html = driver.page_source\n",
    "    soup = BeautifulSoup(html, 'html.parser')\n",
    "\n",
    "# Mengambil beberapa data dari webpage\n",
    "    for kotak in soup.find_all('article', {'class': 'U5O1_ _90bt zzWfq RpUx3'}):\n",
    "        try:\n",
    "            # Setelah ditelaah, brand memiliki tags dan attribute value yang berbeda, maka dibuat 2 kemungkinan\n",
    "            brand_div = kotak.find('div', {'class': 'KtWqU jgLpg Y9bA4 Io521'})\n",
    "            brand_strong = kotak.find('h3', {'class': 'kKGYj Y9bA4'}).find('strong') if kotak.find('h3', {'class': 'kKGYj Y9bA4'}) else None\n",
    "\n",
    "            if brand_div:\n",
    "                brand.append(brand_div.get_text())\n",
    "            else:\n",
    "                brand.append(brand_strong.get_text())\n",
    "        except:\n",
    "            brand.append(None)\n",
    "        \n",
    "        # Mengambil product name\n",
    "        try:\n",
    "            product_name.append(kotak.find('a', {'class': 'dls-ogz194'}).get_text())\n",
    "        except:\n",
    "            product_name.append(None)\n",
    "        \n",
    "        # Mengambil harga\n",
    "        try:\n",
    "            price.append(kotak.find('span', {'class': 'qHz0a EhCiu dls-ihm460'}).get_text())\n",
    "        except:\n",
    "            price.append(None)\n",
    "        \n",
    "        # Mengambil variasi product yang ada di dalam button\n",
    "        try:\n",
    "            buttons = kotak.find_all('button', {'class': 'D2TsF'})\n",
    "            labels = set()\n",
    "            for button in buttons:\n",
    "                label = button.get('aria-label')\n",
    "                if label:\n",
    "                    labels.add(label)\n",
    "            var.append(labels if labels else None)   # set, bukan list\n",
    "        except:\n",
    "            var.append(None)\n",
    "        \n"
   ]
  },
  {
   "cell_type": "code",
   "execution_count": 274,
   "id": "2bf9e568",
   "metadata": {},
   "outputs": [],
   "source": [
    "# Menutup driver setelah scrapping data\n",
    "\n",
    "driver.close()"
   ]
  },
  {
   "cell_type": "code",
   "execution_count": 275,
   "id": "38261324",
   "metadata": {},
   "outputs": [
    {
     "name": "stdout",
     "output_type": "stream",
     "text": [
      "                    brand                                       product_name  \\\n",
      "0    Donna Karan New York            Donna Karan New York Amagansett Satchel   \n",
      "1              Tory Burch                      Tory Burch Mini Ella Bio Tote   \n",
      "2              Jimmy Choo           Jimmy Choo Bon Bon Drawstring Mesh Pouch   \n",
      "3              rag & bone             rag & bone Gramercy Medium Satchel Bag   \n",
      "4                   COACH  COACH Willow Polished Pebble Leather Shoulder Bag   \n",
      "..                    ...                                                ...   \n",
      "133   Christian Louboutin     Christian Louboutin Loubi54 Flat Leather Pouch   \n",
      "134           Marc Jacobs  Marc Jacobs The Dual Mini Crescent Leather Sho...   \n",
      "135   Herschel Supply Co.  Herschel Supply Co. Novel Duffle Bag (Nordstro...   \n",
      "136            MZ Wallace  MZ Wallace Small Astor Convertible Quilted Lea...   \n",
      "137         Saint Laurent  Saint Laurent Medium Loulou Matelassé Leather ...   \n",
      "\n",
      "      price                                                var  \n",
      "0      None  {horizon blue, brilliant white, black/gold, fr...  \n",
      "1      $260        {clay, gray, light sand, black, warm white}  \n",
      "2    $1,095                                               None  \n",
      "3      $458                                 {chocolate, black}  \n",
      "4      $395                                     {black, chalk}  \n",
      "..      ...                                                ...  \n",
      "133    $595                                               None  \n",
      "134    None                        {camel, black, cloud white}  \n",
      "135    None  {tropical foliage, eucalyptus/whitecap gray, b...  \n",
      "136    $225                                               None  \n",
      "137  $2,900                                               None  \n",
      "\n",
      "[138 rows x 4 columns]\n"
     ]
    }
   ],
   "source": [
    "# Memasukan data yang sudah di ambil ke dalam dataframe\n",
    "df = pd.DataFrame({\n",
    "    'brand': brand,\n",
    "    'product_name': product_name,\n",
    "    'price': price,\n",
    "    'var': var\n",
    "})\n",
    "\n",
    "print(df)\n"
   ]
  },
  {
   "cell_type": "code",
   "execution_count": 276,
   "id": "ea5a8592",
   "metadata": {},
   "outputs": [],
   "source": [
    "# Menyimpan data ke csv\n",
    "\n",
    "df.to_csv('nordstorm_bag.csv', index = False)"
   ]
  },
  {
   "cell_type": "code",
   "execution_count": 277,
   "id": "6c2933a3",
   "metadata": {},
   "outputs": [
    {
     "name": "stdout",
     "output_type": "stream",
     "text": [
      "<class 'pandas.core.frame.DataFrame'>\n",
      "RangeIndex: 138 entries, 0 to 137\n",
      "Data columns (total 4 columns):\n",
      " #   Column        Non-Null Count  Dtype \n",
      "---  ------        --------------  ----- \n",
      " 0   brand         138 non-null    object\n",
      " 1   product_name  138 non-null    object\n",
      " 2   price         107 non-null    object\n",
      " 3   var           91 non-null     object\n",
      "dtypes: object(4)\n",
      "memory usage: 4.4+ KB\n"
     ]
    }
   ],
   "source": [
    "# Melihat tipe dan jumlah data dari setiap set\n",
    "df.info()"
   ]
  },
  {
   "cell_type": "code",
   "execution_count": 278,
   "id": "b1439249",
   "metadata": {},
   "outputs": [],
   "source": [
    "# Membersihkan data price\n",
    "df[\"starting_price\"] = (\n",
    "    df[\"price\"]\n",
    "    .str.split(\"–\")                     # pisahkan berdasarkan tanda \"-\"\n",
    "    .str[0]                             # ambil bagian pertama sebelum \"-\"\n",
    "    .str.strip()                        # hapus spasi di kiri/kanan\n",
    "    .str.replace(\"$\", \"\", regex=False)  # hapus simbol $\n",
    "    .str.replace(\",\", \"\", regex=False)  # hapus koma ribuan\n",
    "    .astype(float)                      # ubah ke float\n",
    ")\n"
   ]
  },
  {
   "cell_type": "code",
   "execution_count": 279,
   "id": "bf02dd3d",
   "metadata": {},
   "outputs": [
    {
     "name": "stdout",
     "output_type": "stream",
     "text": [
      "<class 'pandas.core.frame.DataFrame'>\n",
      "RangeIndex: 138 entries, 0 to 137\n",
      "Data columns (total 5 columns):\n",
      " #   Column          Non-Null Count  Dtype  \n",
      "---  ------          --------------  -----  \n",
      " 0   brand           138 non-null    object \n",
      " 1   product_name    138 non-null    object \n",
      " 2   price           107 non-null    object \n",
      " 3   var             91 non-null     object \n",
      " 4   starting_price  107 non-null    float64\n",
      "dtypes: float64(1), object(4)\n",
      "memory usage: 5.5+ KB\n"
     ]
    }
   ],
   "source": [
    "# Melihat info yang baru setelah diedit\n",
    "df.info()"
   ]
  },
  {
   "cell_type": "code",
   "execution_count": 280,
   "id": "13a7ccc8",
   "metadata": {},
   "outputs": [],
   "source": [
    "# Menghapus column price yang sudah tidak terpakai\n",
    "df = df.drop(columns=[\"price\"])"
   ]
  },
  {
   "cell_type": "code",
   "execution_count": 281,
   "id": "2c1061f0",
   "metadata": {},
   "outputs": [],
   "source": [
    "# Membersihkan data None agar lebih bersih ketika diolah\n",
    "df = df.dropna()\n"
   ]
  },
  {
   "cell_type": "code",
   "execution_count": 282,
   "id": "6ea926a8",
   "metadata": {},
   "outputs": [
    {
     "data": {
      "text/html": [
       "<div>\n",
       "<style scoped>\n",
       "    .dataframe tbody tr th:only-of-type {\n",
       "        vertical-align: middle;\n",
       "    }\n",
       "\n",
       "    .dataframe tbody tr th {\n",
       "        vertical-align: top;\n",
       "    }\n",
       "\n",
       "    .dataframe thead th {\n",
       "        text-align: right;\n",
       "    }\n",
       "</style>\n",
       "<table border=\"1\" class=\"dataframe\">\n",
       "  <thead>\n",
       "    <tr style=\"text-align: right;\">\n",
       "      <th></th>\n",
       "      <th>brand</th>\n",
       "      <th>product_name</th>\n",
       "      <th>var</th>\n",
       "      <th>starting_price</th>\n",
       "    </tr>\n",
       "  </thead>\n",
       "  <tbody>\n",
       "    <tr>\n",
       "      <th>1</th>\n",
       "      <td>Tory Burch</td>\n",
       "      <td>Tory Burch Mini Ella Bio Tote</td>\n",
       "      <td>{clay, gray, light sand, black, warm white}</td>\n",
       "      <td>260.0</td>\n",
       "    </tr>\n",
       "    <tr>\n",
       "      <th>3</th>\n",
       "      <td>rag &amp; bone</td>\n",
       "      <td>rag &amp; bone Gramercy Medium Satchel Bag</td>\n",
       "      <td>{chocolate, black}</td>\n",
       "      <td>458.0</td>\n",
       "    </tr>\n",
       "    <tr>\n",
       "      <th>4</th>\n",
       "      <td>COACH</td>\n",
       "      <td>COACH Willow Polished Pebble Leather Shoulder Bag</td>\n",
       "      <td>{black, chalk}</td>\n",
       "      <td>395.0</td>\n",
       "    </tr>\n",
       "    <tr>\n",
       "      <th>6</th>\n",
       "      <td>NAGHEDI</td>\n",
       "      <td>NAGHEDI Nomad Hobo</td>\n",
       "      <td>{ecru, celadon, cashmere, onyx, chocolate, ink...</td>\n",
       "      <td>315.0</td>\n",
       "    </tr>\n",
       "    <tr>\n",
       "      <th>7</th>\n",
       "      <td>COACH</td>\n",
       "      <td>COACH Woven Leather Swing Tote</td>\n",
       "      <td>{black, maple}</td>\n",
       "      <td>495.0</td>\n",
       "    </tr>\n",
       "    <tr>\n",
       "      <th>...</th>\n",
       "      <td>...</td>\n",
       "      <td>...</td>\n",
       "      <td>...</td>\n",
       "      <td>...</td>\n",
       "    </tr>\n",
       "    <tr>\n",
       "      <th>126</th>\n",
       "      <td>Olga Berg</td>\n",
       "      <td>Olga Berg Everly Handwoven Faux Leather Frame ...</td>\n",
       "      <td>{white, silver, natural, gold, tangerine, black}</td>\n",
       "      <td>139.0</td>\n",
       "    </tr>\n",
       "    <tr>\n",
       "      <th>127</th>\n",
       "      <td>Mansur Gavriel</td>\n",
       "      <td>Mansur Gavriel Candy Baguette Leather Shoulder...</td>\n",
       "      <td>{warm grey, chocolate, black, oxblood}</td>\n",
       "      <td>595.0</td>\n",
       "    </tr>\n",
       "    <tr>\n",
       "      <th>128</th>\n",
       "      <td>Kate Spade New York</td>\n",
       "      <td>Kate Spade New York large deco pebble leather ...</td>\n",
       "      <td>{blackberry jam, timeless taupe, black, burnt ...</td>\n",
       "      <td>478.0</td>\n",
       "    </tr>\n",
       "    <tr>\n",
       "      <th>129</th>\n",
       "      <td>Clare V.</td>\n",
       "      <td>Clare V. Petit Moyen Woven Messenger Bag</td>\n",
       "      <td>{natural woven checker, fern mist woven checke...</td>\n",
       "      <td>385.0</td>\n",
       "    </tr>\n",
       "    <tr>\n",
       "      <th>130</th>\n",
       "      <td>MZ Wallace</td>\n",
       "      <td>MZ Wallace Small Metro Quilted Nylon Camera Bag</td>\n",
       "      <td>{dawn, bright cherry, buff, black, magnet}</td>\n",
       "      <td>185.0</td>\n",
       "    </tr>\n",
       "  </tbody>\n",
       "</table>\n",
       "<p>66 rows × 4 columns</p>\n",
       "</div>"
      ],
      "text/plain": [
       "                   brand                                       product_name  \\\n",
       "1             Tory Burch                      Tory Burch Mini Ella Bio Tote   \n",
       "3             rag & bone             rag & bone Gramercy Medium Satchel Bag   \n",
       "4                  COACH  COACH Willow Polished Pebble Leather Shoulder Bag   \n",
       "6                NAGHEDI                                 NAGHEDI Nomad Hobo   \n",
       "7                  COACH                     COACH Woven Leather Swing Tote   \n",
       "..                   ...                                                ...   \n",
       "126            Olga Berg  Olga Berg Everly Handwoven Faux Leather Frame ...   \n",
       "127       Mansur Gavriel  Mansur Gavriel Candy Baguette Leather Shoulder...   \n",
       "128  Kate Spade New York  Kate Spade New York large deco pebble leather ...   \n",
       "129             Clare V.           Clare V. Petit Moyen Woven Messenger Bag   \n",
       "130           MZ Wallace    MZ Wallace Small Metro Quilted Nylon Camera Bag   \n",
       "\n",
       "                                                   var  starting_price  \n",
       "1          {clay, gray, light sand, black, warm white}           260.0  \n",
       "3                                   {chocolate, black}           458.0  \n",
       "4                                       {black, chalk}           395.0  \n",
       "6    {ecru, celadon, cashmere, onyx, chocolate, ink...           315.0  \n",
       "7                                       {black, maple}           495.0  \n",
       "..                                                 ...             ...  \n",
       "126   {white, silver, natural, gold, tangerine, black}           139.0  \n",
       "127             {warm grey, chocolate, black, oxblood}           595.0  \n",
       "128  {blackberry jam, timeless taupe, black, burnt ...           478.0  \n",
       "129  {natural woven checker, fern mist woven checke...           385.0  \n",
       "130         {dawn, bright cherry, buff, black, magnet}           185.0  \n",
       "\n",
       "[66 rows x 4 columns]"
      ]
     },
     "execution_count": 282,
     "metadata": {},
     "output_type": "execute_result"
    }
   ],
   "source": [
    "# Melihat data terakhir setelah dibersihkan\n",
    "df"
   ]
  },
  {
   "cell_type": "code",
   "execution_count": 283,
   "id": "8ba82bb1",
   "metadata": {},
   "outputs": [
    {
     "name": "stdout",
     "output_type": "stream",
     "text": [
      "<class 'pandas.core.frame.DataFrame'>\n",
      "Index: 66 entries, 1 to 130\n",
      "Data columns (total 4 columns):\n",
      " #   Column          Non-Null Count  Dtype  \n",
      "---  ------          --------------  -----  \n",
      " 0   brand           66 non-null     object \n",
      " 1   product_name    66 non-null     object \n",
      " 2   var             66 non-null     object \n",
      " 3   starting_price  66 non-null     float64\n",
      "dtypes: float64(1), object(3)\n",
      "memory usage: 2.6+ KB\n"
     ]
    }
   ],
   "source": [
    "df.info()"
   ]
  },
  {
   "cell_type": "code",
   "execution_count": 284,
   "id": "006a9394",
   "metadata": {},
   "outputs": [],
   "source": [
    "# Menyimpan data bersih ke csv\n",
    "df.to_csv('nordstorm_bag_clean.csv', index = False)"
   ]
  }
 ],
 "metadata": {
  "kernelspec": {
   "display_name": "base",
   "language": "python",
   "name": "python3"
  },
  "language_info": {
   "codemirror_mode": {
    "name": "ipython",
    "version": 3
   },
   "file_extension": ".py",
   "mimetype": "text/x-python",
   "name": "python",
   "nbconvert_exporter": "python",
   "pygments_lexer": "ipython3",
   "version": "3.13.5"
  }
 },
 "nbformat": 4,
 "nbformat_minor": 5
}
