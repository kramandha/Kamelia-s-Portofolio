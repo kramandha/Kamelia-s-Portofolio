{
 "cells": [
  {
   "cell_type": "markdown",
   "id": "2c8202c9",
   "metadata": {},
   "source": [
    "# **Milestone 2**\n",
    "\n",
    "**Name:** Kamelia Ramandha  \n",
    "**Batch:** CODA-RMT-010  \n",
    "\n",
    "This program is developed to perform **descriptive and inferential analysis** on the *Employee Attrition* dataset in order to **identify the factors influencing employees’ decisions to leave the company**.  \n",
    "\n",
    "Through this analysis, the goal is to generate **insights that help the company reduce attrition rates** and **enhance employee satisfaction and retention**.\n",
    "\n",
    "**Tableau Dashboard:** \n",
    "\n",
    "https://public.tableau.com/views/EmployeeAttritionDashboard_17600242264830/Demography?:language=en-US&publish=yes&:sid=&:redirect=auth&:display_count=n&:origin=viz_share_link"
   ]
  },
  {
   "cell_type": "markdown",
   "id": "336eae1d",
   "metadata": {},
   "source": [
    "## Problem Identification\n",
    "\n",
    "In 2023, **Company A** faced a relatively high rate of employee attrition. This condition led to an increase in overall staff costs due to higher hiring expenses and declining organizational productivity. To address this issue, the CEO assigned the **HR Analytics team** to conduct an in-depth analysis to identify the causes of attrition and understand the demographic profile of employees who decided to leave.\n",
    "\n",
    "The objective of this project is to **identify the factors influencing employee attrition** and to **map out the characteristics of employees who are more likely to leave** Company A during the year 2023.\n",
    "\n",
    "More specifically, this analysis aims to answer the following research questions:\n",
    "1. How is the attrition rate distributed across different departments?  (Chart)\n",
    "2. Is there any differences in attrition patterns based on gender?  (Chart)\n",
    "3. Do employees who work overtime tend to have a higher likelihood of attrition compared to those who do not?  (Chart)\n",
    "4. How is the job level distribution for employee who left?  (Chart)\n",
    "5. How does the monthly income looks like for employees who left? (Descriptive)\n",
    "6. Can monthly income predict Attrition? (using Logistic Regression analysis)\n"
   ]
  },
  {
   "cell_type": "markdown",
   "id": "249f426d",
   "metadata": {},
   "source": [
    "## Data Loading"
   ]
  },
  {
   "cell_type": "code",
   "execution_count": 99,
   "id": "93240971",
   "metadata": {},
   "outputs": [],
   "source": [
    "# Importing Library\n",
    "import pandas as pd\n",
    "import numpy as np\n",
    "from scipy import stats\n",
    "import matplotlib.pyplot as plt\n",
    "import seaborn as sns\n",
    "from IPython.display import display, HTML\n",
    "from scipy.stats import ttest_ind"
   ]
  },
  {
   "cell_type": "code",
   "execution_count": 100,
   "id": "814495e6",
   "metadata": {},
   "outputs": [],
   "source": [
    "# Loading the employee data\n",
    "# Weblink: https://www.kaggle.com/datasets/rishikeshkonapure/hr-analytics-prediction\n",
    "df = pd.read_csv('HR-Employee-Attrition.csv')"
   ]
  },
  {
   "cell_type": "code",
   "execution_count": 101,
   "id": "b5ae359c",
   "metadata": {},
   "outputs": [
    {
     "data": {
      "text/html": [
       "<div>\n",
       "<style scoped>\n",
       "    .dataframe tbody tr th:only-of-type {\n",
       "        vertical-align: middle;\n",
       "    }\n",
       "\n",
       "    .dataframe tbody tr th {\n",
       "        vertical-align: top;\n",
       "    }\n",
       "\n",
       "    .dataframe thead th {\n",
       "        text-align: right;\n",
       "    }\n",
       "</style>\n",
       "<table border=\"1\" class=\"dataframe\">\n",
       "  <thead>\n",
       "    <tr style=\"text-align: right;\">\n",
       "      <th></th>\n",
       "      <th>Age</th>\n",
       "      <th>Attrition</th>\n",
       "      <th>BusinessTravel</th>\n",
       "      <th>DailyRate</th>\n",
       "      <th>Department</th>\n",
       "      <th>DistanceFromHome</th>\n",
       "      <th>Education</th>\n",
       "      <th>EducationField</th>\n",
       "      <th>EmployeeCount</th>\n",
       "      <th>EmployeeNumber</th>\n",
       "      <th>...</th>\n",
       "      <th>RelationshipSatisfaction</th>\n",
       "      <th>StandardHours</th>\n",
       "      <th>StockOptionLevel</th>\n",
       "      <th>TotalWorkingYears</th>\n",
       "      <th>TrainingTimesLastYear</th>\n",
       "      <th>WorkLifeBalance</th>\n",
       "      <th>YearsAtCompany</th>\n",
       "      <th>YearsInCurrentRole</th>\n",
       "      <th>YearsSinceLastPromotion</th>\n",
       "      <th>YearsWithCurrManager</th>\n",
       "    </tr>\n",
       "  </thead>\n",
       "  <tbody>\n",
       "    <tr>\n",
       "      <th>0</th>\n",
       "      <td>41</td>\n",
       "      <td>Yes</td>\n",
       "      <td>Travel_Rarely</td>\n",
       "      <td>1102</td>\n",
       "      <td>Sales</td>\n",
       "      <td>1</td>\n",
       "      <td>2</td>\n",
       "      <td>Life Sciences</td>\n",
       "      <td>1</td>\n",
       "      <td>1</td>\n",
       "      <td>...</td>\n",
       "      <td>1</td>\n",
       "      <td>80</td>\n",
       "      <td>0</td>\n",
       "      <td>8</td>\n",
       "      <td>0</td>\n",
       "      <td>1</td>\n",
       "      <td>6</td>\n",
       "      <td>4</td>\n",
       "      <td>0</td>\n",
       "      <td>5</td>\n",
       "    </tr>\n",
       "    <tr>\n",
       "      <th>1</th>\n",
       "      <td>49</td>\n",
       "      <td>No</td>\n",
       "      <td>Travel_Frequently</td>\n",
       "      <td>279</td>\n",
       "      <td>Research &amp; Development</td>\n",
       "      <td>8</td>\n",
       "      <td>1</td>\n",
       "      <td>Life Sciences</td>\n",
       "      <td>1</td>\n",
       "      <td>2</td>\n",
       "      <td>...</td>\n",
       "      <td>4</td>\n",
       "      <td>80</td>\n",
       "      <td>1</td>\n",
       "      <td>10</td>\n",
       "      <td>3</td>\n",
       "      <td>3</td>\n",
       "      <td>10</td>\n",
       "      <td>7</td>\n",
       "      <td>1</td>\n",
       "      <td>7</td>\n",
       "    </tr>\n",
       "    <tr>\n",
       "      <th>2</th>\n",
       "      <td>37</td>\n",
       "      <td>Yes</td>\n",
       "      <td>Travel_Rarely</td>\n",
       "      <td>1373</td>\n",
       "      <td>Research &amp; Development</td>\n",
       "      <td>2</td>\n",
       "      <td>2</td>\n",
       "      <td>Other</td>\n",
       "      <td>1</td>\n",
       "      <td>4</td>\n",
       "      <td>...</td>\n",
       "      <td>2</td>\n",
       "      <td>80</td>\n",
       "      <td>0</td>\n",
       "      <td>7</td>\n",
       "      <td>3</td>\n",
       "      <td>3</td>\n",
       "      <td>0</td>\n",
       "      <td>0</td>\n",
       "      <td>0</td>\n",
       "      <td>0</td>\n",
       "    </tr>\n",
       "    <tr>\n",
       "      <th>3</th>\n",
       "      <td>33</td>\n",
       "      <td>No</td>\n",
       "      <td>Travel_Frequently</td>\n",
       "      <td>1392</td>\n",
       "      <td>Research &amp; Development</td>\n",
       "      <td>3</td>\n",
       "      <td>4</td>\n",
       "      <td>Life Sciences</td>\n",
       "      <td>1</td>\n",
       "      <td>5</td>\n",
       "      <td>...</td>\n",
       "      <td>3</td>\n",
       "      <td>80</td>\n",
       "      <td>0</td>\n",
       "      <td>8</td>\n",
       "      <td>3</td>\n",
       "      <td>3</td>\n",
       "      <td>8</td>\n",
       "      <td>7</td>\n",
       "      <td>3</td>\n",
       "      <td>0</td>\n",
       "    </tr>\n",
       "    <tr>\n",
       "      <th>4</th>\n",
       "      <td>27</td>\n",
       "      <td>No</td>\n",
       "      <td>Travel_Rarely</td>\n",
       "      <td>591</td>\n",
       "      <td>Research &amp; Development</td>\n",
       "      <td>2</td>\n",
       "      <td>1</td>\n",
       "      <td>Medical</td>\n",
       "      <td>1</td>\n",
       "      <td>7</td>\n",
       "      <td>...</td>\n",
       "      <td>4</td>\n",
       "      <td>80</td>\n",
       "      <td>1</td>\n",
       "      <td>6</td>\n",
       "      <td>3</td>\n",
       "      <td>3</td>\n",
       "      <td>2</td>\n",
       "      <td>2</td>\n",
       "      <td>2</td>\n",
       "      <td>2</td>\n",
       "    </tr>\n",
       "    <tr>\n",
       "      <th>...</th>\n",
       "      <td>...</td>\n",
       "      <td>...</td>\n",
       "      <td>...</td>\n",
       "      <td>...</td>\n",
       "      <td>...</td>\n",
       "      <td>...</td>\n",
       "      <td>...</td>\n",
       "      <td>...</td>\n",
       "      <td>...</td>\n",
       "      <td>...</td>\n",
       "      <td>...</td>\n",
       "      <td>...</td>\n",
       "      <td>...</td>\n",
       "      <td>...</td>\n",
       "      <td>...</td>\n",
       "      <td>...</td>\n",
       "      <td>...</td>\n",
       "      <td>...</td>\n",
       "      <td>...</td>\n",
       "      <td>...</td>\n",
       "      <td>...</td>\n",
       "    </tr>\n",
       "    <tr>\n",
       "      <th>1465</th>\n",
       "      <td>36</td>\n",
       "      <td>No</td>\n",
       "      <td>Travel_Frequently</td>\n",
       "      <td>884</td>\n",
       "      <td>Research &amp; Development</td>\n",
       "      <td>23</td>\n",
       "      <td>2</td>\n",
       "      <td>Medical</td>\n",
       "      <td>1</td>\n",
       "      <td>2061</td>\n",
       "      <td>...</td>\n",
       "      <td>3</td>\n",
       "      <td>80</td>\n",
       "      <td>1</td>\n",
       "      <td>17</td>\n",
       "      <td>3</td>\n",
       "      <td>3</td>\n",
       "      <td>5</td>\n",
       "      <td>2</td>\n",
       "      <td>0</td>\n",
       "      <td>3</td>\n",
       "    </tr>\n",
       "    <tr>\n",
       "      <th>1466</th>\n",
       "      <td>39</td>\n",
       "      <td>No</td>\n",
       "      <td>Travel_Rarely</td>\n",
       "      <td>613</td>\n",
       "      <td>Research &amp; Development</td>\n",
       "      <td>6</td>\n",
       "      <td>1</td>\n",
       "      <td>Medical</td>\n",
       "      <td>1</td>\n",
       "      <td>2062</td>\n",
       "      <td>...</td>\n",
       "      <td>1</td>\n",
       "      <td>80</td>\n",
       "      <td>1</td>\n",
       "      <td>9</td>\n",
       "      <td>5</td>\n",
       "      <td>3</td>\n",
       "      <td>7</td>\n",
       "      <td>7</td>\n",
       "      <td>1</td>\n",
       "      <td>7</td>\n",
       "    </tr>\n",
       "    <tr>\n",
       "      <th>1467</th>\n",
       "      <td>27</td>\n",
       "      <td>No</td>\n",
       "      <td>Travel_Rarely</td>\n",
       "      <td>155</td>\n",
       "      <td>Research &amp; Development</td>\n",
       "      <td>4</td>\n",
       "      <td>3</td>\n",
       "      <td>Life Sciences</td>\n",
       "      <td>1</td>\n",
       "      <td>2064</td>\n",
       "      <td>...</td>\n",
       "      <td>2</td>\n",
       "      <td>80</td>\n",
       "      <td>1</td>\n",
       "      <td>6</td>\n",
       "      <td>0</td>\n",
       "      <td>3</td>\n",
       "      <td>6</td>\n",
       "      <td>2</td>\n",
       "      <td>0</td>\n",
       "      <td>3</td>\n",
       "    </tr>\n",
       "    <tr>\n",
       "      <th>1468</th>\n",
       "      <td>49</td>\n",
       "      <td>No</td>\n",
       "      <td>Travel_Frequently</td>\n",
       "      <td>1023</td>\n",
       "      <td>Sales</td>\n",
       "      <td>2</td>\n",
       "      <td>3</td>\n",
       "      <td>Medical</td>\n",
       "      <td>1</td>\n",
       "      <td>2065</td>\n",
       "      <td>...</td>\n",
       "      <td>4</td>\n",
       "      <td>80</td>\n",
       "      <td>0</td>\n",
       "      <td>17</td>\n",
       "      <td>3</td>\n",
       "      <td>2</td>\n",
       "      <td>9</td>\n",
       "      <td>6</td>\n",
       "      <td>0</td>\n",
       "      <td>8</td>\n",
       "    </tr>\n",
       "    <tr>\n",
       "      <th>1469</th>\n",
       "      <td>34</td>\n",
       "      <td>No</td>\n",
       "      <td>Travel_Rarely</td>\n",
       "      <td>628</td>\n",
       "      <td>Research &amp; Development</td>\n",
       "      <td>8</td>\n",
       "      <td>3</td>\n",
       "      <td>Medical</td>\n",
       "      <td>1</td>\n",
       "      <td>2068</td>\n",
       "      <td>...</td>\n",
       "      <td>1</td>\n",
       "      <td>80</td>\n",
       "      <td>0</td>\n",
       "      <td>6</td>\n",
       "      <td>3</td>\n",
       "      <td>4</td>\n",
       "      <td>4</td>\n",
       "      <td>3</td>\n",
       "      <td>1</td>\n",
       "      <td>2</td>\n",
       "    </tr>\n",
       "  </tbody>\n",
       "</table>\n",
       "<p>1470 rows × 35 columns</p>\n",
       "</div>"
      ],
      "text/plain": [
       "      Age Attrition     BusinessTravel  DailyRate              Department  \\\n",
       "0      41       Yes      Travel_Rarely       1102                   Sales   \n",
       "1      49        No  Travel_Frequently        279  Research & Development   \n",
       "2      37       Yes      Travel_Rarely       1373  Research & Development   \n",
       "3      33        No  Travel_Frequently       1392  Research & Development   \n",
       "4      27        No      Travel_Rarely        591  Research & Development   \n",
       "...   ...       ...                ...        ...                     ...   \n",
       "1465   36        No  Travel_Frequently        884  Research & Development   \n",
       "1466   39        No      Travel_Rarely        613  Research & Development   \n",
       "1467   27        No      Travel_Rarely        155  Research & Development   \n",
       "1468   49        No  Travel_Frequently       1023                   Sales   \n",
       "1469   34        No      Travel_Rarely        628  Research & Development   \n",
       "\n",
       "      DistanceFromHome  Education EducationField  EmployeeCount  \\\n",
       "0                    1          2  Life Sciences              1   \n",
       "1                    8          1  Life Sciences              1   \n",
       "2                    2          2          Other              1   \n",
       "3                    3          4  Life Sciences              1   \n",
       "4                    2          1        Medical              1   \n",
       "...                ...        ...            ...            ...   \n",
       "1465                23          2        Medical              1   \n",
       "1466                 6          1        Medical              1   \n",
       "1467                 4          3  Life Sciences              1   \n",
       "1468                 2          3        Medical              1   \n",
       "1469                 8          3        Medical              1   \n",
       "\n",
       "      EmployeeNumber  ...  RelationshipSatisfaction StandardHours  \\\n",
       "0                  1  ...                         1            80   \n",
       "1                  2  ...                         4            80   \n",
       "2                  4  ...                         2            80   \n",
       "3                  5  ...                         3            80   \n",
       "4                  7  ...                         4            80   \n",
       "...              ...  ...                       ...           ...   \n",
       "1465            2061  ...                         3            80   \n",
       "1466            2062  ...                         1            80   \n",
       "1467            2064  ...                         2            80   \n",
       "1468            2065  ...                         4            80   \n",
       "1469            2068  ...                         1            80   \n",
       "\n",
       "      StockOptionLevel  TotalWorkingYears  TrainingTimesLastYear  \\\n",
       "0                    0                  8                      0   \n",
       "1                    1                 10                      3   \n",
       "2                    0                  7                      3   \n",
       "3                    0                  8                      3   \n",
       "4                    1                  6                      3   \n",
       "...                ...                ...                    ...   \n",
       "1465                 1                 17                      3   \n",
       "1466                 1                  9                      5   \n",
       "1467                 1                  6                      0   \n",
       "1468                 0                 17                      3   \n",
       "1469                 0                  6                      3   \n",
       "\n",
       "     WorkLifeBalance  YearsAtCompany YearsInCurrentRole  \\\n",
       "0                  1               6                  4   \n",
       "1                  3              10                  7   \n",
       "2                  3               0                  0   \n",
       "3                  3               8                  7   \n",
       "4                  3               2                  2   \n",
       "...              ...             ...                ...   \n",
       "1465               3               5                  2   \n",
       "1466               3               7                  7   \n",
       "1467               3               6                  2   \n",
       "1468               2               9                  6   \n",
       "1469               4               4                  3   \n",
       "\n",
       "      YearsSinceLastPromotion  YearsWithCurrManager  \n",
       "0                           0                     5  \n",
       "1                           1                     7  \n",
       "2                           0                     0  \n",
       "3                           3                     0  \n",
       "4                           2                     2  \n",
       "...                       ...                   ...  \n",
       "1465                        0                     3  \n",
       "1466                        1                     7  \n",
       "1467                        0                     3  \n",
       "1468                        0                     8  \n",
       "1469                        1                     2  \n",
       "\n",
       "[1470 rows x 35 columns]"
      ]
     },
     "execution_count": 101,
     "metadata": {},
     "output_type": "execute_result"
    }
   ],
   "source": [
    "# Checking the data\n",
    "df"
   ]
  },
  {
   "cell_type": "code",
   "execution_count": 102,
   "id": "d09d5ce1",
   "metadata": {},
   "outputs": [
    {
     "name": "stdout",
     "output_type": "stream",
     "text": [
      "<class 'pandas.core.frame.DataFrame'>\n",
      "RangeIndex: 1470 entries, 0 to 1469\n",
      "Data columns (total 35 columns):\n",
      " #   Column                    Non-Null Count  Dtype \n",
      "---  ------                    --------------  ----- \n",
      " 0   Age                       1470 non-null   int64 \n",
      " 1   Attrition                 1470 non-null   object\n",
      " 2   BusinessTravel            1470 non-null   object\n",
      " 3   DailyRate                 1470 non-null   int64 \n",
      " 4   Department                1470 non-null   object\n",
      " 5   DistanceFromHome          1470 non-null   int64 \n",
      " 6   Education                 1470 non-null   int64 \n",
      " 7   EducationField            1470 non-null   object\n",
      " 8   EmployeeCount             1470 non-null   int64 \n",
      " 9   EmployeeNumber            1470 non-null   int64 \n",
      " 10  EnvironmentSatisfaction   1470 non-null   int64 \n",
      " 11  Gender                    1470 non-null   object\n",
      " 12  HourlyRate                1470 non-null   int64 \n",
      " 13  JobInvolvement            1470 non-null   int64 \n",
      " 14  JobLevel                  1470 non-null   int64 \n",
      " 15  JobRole                   1470 non-null   object\n",
      " 16  JobSatisfaction           1470 non-null   int64 \n",
      " 17  MaritalStatus             1470 non-null   object\n",
      " 18  MonthlyIncome             1470 non-null   int64 \n",
      " 19  MonthlyRate               1470 non-null   int64 \n",
      " 20  NumCompaniesWorked        1470 non-null   int64 \n",
      " 21  Over18                    1470 non-null   object\n",
      " 22  OverTime                  1470 non-null   object\n",
      " 23  PercentSalaryHike         1470 non-null   int64 \n",
      " 24  PerformanceRating         1470 non-null   int64 \n",
      " 25  RelationshipSatisfaction  1470 non-null   int64 \n",
      " 26  StandardHours             1470 non-null   int64 \n",
      " 27  StockOptionLevel          1470 non-null   int64 \n",
      " 28  TotalWorkingYears         1470 non-null   int64 \n",
      " 29  TrainingTimesLastYear     1470 non-null   int64 \n",
      " 30  WorkLifeBalance           1470 non-null   int64 \n",
      " 31  YearsAtCompany            1470 non-null   int64 \n",
      " 32  YearsInCurrentRole        1470 non-null   int64 \n",
      " 33  YearsSinceLastPromotion   1470 non-null   int64 \n",
      " 34  YearsWithCurrManager      1470 non-null   int64 \n",
      "dtypes: int64(26), object(9)\n",
      "memory usage: 402.1+ KB\n"
     ]
    }
   ],
   "source": [
    "# Checking the basic info of the data\n",
    "df.info()"
   ]
  },
  {
   "cell_type": "markdown",
   "id": "222d0c21",
   "metadata": {},
   "source": [
    "## Data Cleaning"
   ]
  },
  {
   "cell_type": "code",
   "execution_count": 103,
   "id": "a7c2957e",
   "metadata": {},
   "outputs": [
    {
     "data": {
      "text/plain": [
       "Age                         0\n",
       "Attrition                   0\n",
       "BusinessTravel              0\n",
       "DailyRate                   0\n",
       "Department                  0\n",
       "DistanceFromHome            0\n",
       "Education                   0\n",
       "EducationField              0\n",
       "EmployeeCount               0\n",
       "EmployeeNumber              0\n",
       "EnvironmentSatisfaction     0\n",
       "Gender                      0\n",
       "HourlyRate                  0\n",
       "JobInvolvement              0\n",
       "JobLevel                    0\n",
       "JobRole                     0\n",
       "JobSatisfaction             0\n",
       "MaritalStatus               0\n",
       "MonthlyIncome               0\n",
       "MonthlyRate                 0\n",
       "NumCompaniesWorked          0\n",
       "Over18                      0\n",
       "OverTime                    0\n",
       "PercentSalaryHike           0\n",
       "PerformanceRating           0\n",
       "RelationshipSatisfaction    0\n",
       "StandardHours               0\n",
       "StockOptionLevel            0\n",
       "TotalWorkingYears           0\n",
       "TrainingTimesLastYear       0\n",
       "WorkLifeBalance             0\n",
       "YearsAtCompany              0\n",
       "YearsInCurrentRole          0\n",
       "YearsSinceLastPromotion     0\n",
       "YearsWithCurrManager        0\n",
       "dtype: int64"
      ]
     },
     "execution_count": 103,
     "metadata": {},
     "output_type": "execute_result"
    }
   ],
   "source": [
    "# Checking the amount of Null data\n",
    "df.isnull().sum()"
   ]
  },
  {
   "cell_type": "code",
   "execution_count": 104,
   "id": "77914289",
   "metadata": {},
   "outputs": [
    {
     "data": {
      "text/plain": [
       "np.int64(0)"
      ]
     },
     "execution_count": 104,
     "metadata": {},
     "output_type": "execute_result"
    }
   ],
   "source": [
    "# Checking duplicated data\n",
    "df.duplicated().sum()"
   ]
  },
  {
   "cell_type": "code",
   "execution_count": 105,
   "id": "bf42a1d2",
   "metadata": {},
   "outputs": [
    {
     "data": {
      "text/plain": [
       "Index(['Age', 'Attrition', 'BusinessTravel', 'DailyRate', 'Department',\n",
       "       'DistanceFromHome', 'Education', 'EducationField', 'EmployeeCount',\n",
       "       'EmployeeNumber', 'EnvironmentSatisfaction', 'Gender', 'HourlyRate',\n",
       "       'JobInvolvement', 'JobLevel', 'JobRole', 'JobSatisfaction',\n",
       "       'MaritalStatus', 'MonthlyIncome', 'MonthlyRate', 'NumCompaniesWorked',\n",
       "       'Over18', 'OverTime', 'PercentSalaryHike', 'PerformanceRating',\n",
       "       'RelationshipSatisfaction', 'StandardHours', 'StockOptionLevel',\n",
       "       'TotalWorkingYears', 'TrainingTimesLastYear', 'WorkLifeBalance',\n",
       "       'YearsAtCompany', 'YearsInCurrentRole', 'YearsSinceLastPromotion',\n",
       "       'YearsWithCurrManager'],\n",
       "      dtype='object')"
      ]
     },
     "execution_count": 105,
     "metadata": {},
     "output_type": "execute_result"
    }
   ],
   "source": [
    "# Seeing all the column available\n",
    "df.columns"
   ]
  },
  {
   "cell_type": "code",
   "execution_count": 106,
   "id": "6020b1c2",
   "metadata": {},
   "outputs": [
    {
     "data": {
      "text/html": [
       "<div>\n",
       "<style scoped>\n",
       "    .dataframe tbody tr th:only-of-type {\n",
       "        vertical-align: middle;\n",
       "    }\n",
       "\n",
       "    .dataframe tbody tr th {\n",
       "        vertical-align: top;\n",
       "    }\n",
       "\n",
       "    .dataframe thead th {\n",
       "        text-align: right;\n",
       "    }\n",
       "</style>\n",
       "<table border=\"1\" class=\"dataframe\">\n",
       "  <thead>\n",
       "    <tr style=\"text-align: right;\">\n",
       "      <th></th>\n",
       "      <th>Age</th>\n",
       "      <th>Attrition</th>\n",
       "      <th>Department</th>\n",
       "      <th>EmployeeNumber</th>\n",
       "      <th>Gender</th>\n",
       "      <th>JobLevel</th>\n",
       "      <th>JobSatisfaction</th>\n",
       "      <th>MonthlyIncome</th>\n",
       "      <th>OverTime</th>\n",
       "      <th>PerformanceRating</th>\n",
       "      <th>YearsAtCompany</th>\n",
       "    </tr>\n",
       "  </thead>\n",
       "  <tbody>\n",
       "    <tr>\n",
       "      <th>0</th>\n",
       "      <td>41</td>\n",
       "      <td>Yes</td>\n",
       "      <td>Sales</td>\n",
       "      <td>1</td>\n",
       "      <td>Female</td>\n",
       "      <td>2</td>\n",
       "      <td>4</td>\n",
       "      <td>5993</td>\n",
       "      <td>Yes</td>\n",
       "      <td>3</td>\n",
       "      <td>6</td>\n",
       "    </tr>\n",
       "    <tr>\n",
       "      <th>1</th>\n",
       "      <td>49</td>\n",
       "      <td>No</td>\n",
       "      <td>Research &amp; Development</td>\n",
       "      <td>2</td>\n",
       "      <td>Male</td>\n",
       "      <td>2</td>\n",
       "      <td>2</td>\n",
       "      <td>5130</td>\n",
       "      <td>No</td>\n",
       "      <td>4</td>\n",
       "      <td>10</td>\n",
       "    </tr>\n",
       "    <tr>\n",
       "      <th>2</th>\n",
       "      <td>37</td>\n",
       "      <td>Yes</td>\n",
       "      <td>Research &amp; Development</td>\n",
       "      <td>4</td>\n",
       "      <td>Male</td>\n",
       "      <td>1</td>\n",
       "      <td>3</td>\n",
       "      <td>2090</td>\n",
       "      <td>Yes</td>\n",
       "      <td>3</td>\n",
       "      <td>0</td>\n",
       "    </tr>\n",
       "    <tr>\n",
       "      <th>3</th>\n",
       "      <td>33</td>\n",
       "      <td>No</td>\n",
       "      <td>Research &amp; Development</td>\n",
       "      <td>5</td>\n",
       "      <td>Female</td>\n",
       "      <td>1</td>\n",
       "      <td>3</td>\n",
       "      <td>2909</td>\n",
       "      <td>Yes</td>\n",
       "      <td>3</td>\n",
       "      <td>8</td>\n",
       "    </tr>\n",
       "    <tr>\n",
       "      <th>4</th>\n",
       "      <td>27</td>\n",
       "      <td>No</td>\n",
       "      <td>Research &amp; Development</td>\n",
       "      <td>7</td>\n",
       "      <td>Male</td>\n",
       "      <td>1</td>\n",
       "      <td>2</td>\n",
       "      <td>3468</td>\n",
       "      <td>No</td>\n",
       "      <td>3</td>\n",
       "      <td>2</td>\n",
       "    </tr>\n",
       "    <tr>\n",
       "      <th>...</th>\n",
       "      <td>...</td>\n",
       "      <td>...</td>\n",
       "      <td>...</td>\n",
       "      <td>...</td>\n",
       "      <td>...</td>\n",
       "      <td>...</td>\n",
       "      <td>...</td>\n",
       "      <td>...</td>\n",
       "      <td>...</td>\n",
       "      <td>...</td>\n",
       "      <td>...</td>\n",
       "    </tr>\n",
       "    <tr>\n",
       "      <th>1465</th>\n",
       "      <td>36</td>\n",
       "      <td>No</td>\n",
       "      <td>Research &amp; Development</td>\n",
       "      <td>2061</td>\n",
       "      <td>Male</td>\n",
       "      <td>2</td>\n",
       "      <td>4</td>\n",
       "      <td>2571</td>\n",
       "      <td>No</td>\n",
       "      <td>3</td>\n",
       "      <td>5</td>\n",
       "    </tr>\n",
       "    <tr>\n",
       "      <th>1466</th>\n",
       "      <td>39</td>\n",
       "      <td>No</td>\n",
       "      <td>Research &amp; Development</td>\n",
       "      <td>2062</td>\n",
       "      <td>Male</td>\n",
       "      <td>3</td>\n",
       "      <td>1</td>\n",
       "      <td>9991</td>\n",
       "      <td>No</td>\n",
       "      <td>3</td>\n",
       "      <td>7</td>\n",
       "    </tr>\n",
       "    <tr>\n",
       "      <th>1467</th>\n",
       "      <td>27</td>\n",
       "      <td>No</td>\n",
       "      <td>Research &amp; Development</td>\n",
       "      <td>2064</td>\n",
       "      <td>Male</td>\n",
       "      <td>2</td>\n",
       "      <td>2</td>\n",
       "      <td>6142</td>\n",
       "      <td>Yes</td>\n",
       "      <td>4</td>\n",
       "      <td>6</td>\n",
       "    </tr>\n",
       "    <tr>\n",
       "      <th>1468</th>\n",
       "      <td>49</td>\n",
       "      <td>No</td>\n",
       "      <td>Sales</td>\n",
       "      <td>2065</td>\n",
       "      <td>Male</td>\n",
       "      <td>2</td>\n",
       "      <td>2</td>\n",
       "      <td>5390</td>\n",
       "      <td>No</td>\n",
       "      <td>3</td>\n",
       "      <td>9</td>\n",
       "    </tr>\n",
       "    <tr>\n",
       "      <th>1469</th>\n",
       "      <td>34</td>\n",
       "      <td>No</td>\n",
       "      <td>Research &amp; Development</td>\n",
       "      <td>2068</td>\n",
       "      <td>Male</td>\n",
       "      <td>2</td>\n",
       "      <td>3</td>\n",
       "      <td>4404</td>\n",
       "      <td>No</td>\n",
       "      <td>3</td>\n",
       "      <td>4</td>\n",
       "    </tr>\n",
       "  </tbody>\n",
       "</table>\n",
       "<p>1470 rows × 11 columns</p>\n",
       "</div>"
      ],
      "text/plain": [
       "      Age Attrition              Department  EmployeeNumber  Gender  JobLevel  \\\n",
       "0      41       Yes                   Sales               1  Female         2   \n",
       "1      49        No  Research & Development               2    Male         2   \n",
       "2      37       Yes  Research & Development               4    Male         1   \n",
       "3      33        No  Research & Development               5  Female         1   \n",
       "4      27        No  Research & Development               7    Male         1   \n",
       "...   ...       ...                     ...             ...     ...       ...   \n",
       "1465   36        No  Research & Development            2061    Male         2   \n",
       "1466   39        No  Research & Development            2062    Male         3   \n",
       "1467   27        No  Research & Development            2064    Male         2   \n",
       "1468   49        No                   Sales            2065    Male         2   \n",
       "1469   34        No  Research & Development            2068    Male         2   \n",
       "\n",
       "      JobSatisfaction  MonthlyIncome OverTime  PerformanceRating  \\\n",
       "0                   4           5993      Yes                  3   \n",
       "1                   2           5130       No                  4   \n",
       "2                   3           2090      Yes                  3   \n",
       "3                   3           2909      Yes                  3   \n",
       "4                   2           3468       No                  3   \n",
       "...               ...            ...      ...                ...   \n",
       "1465                4           2571       No                  3   \n",
       "1466                1           9991       No                  3   \n",
       "1467                2           6142      Yes                  4   \n",
       "1468                2           5390       No                  3   \n",
       "1469                3           4404       No                  3   \n",
       "\n",
       "      YearsAtCompany  \n",
       "0                  6  \n",
       "1                 10  \n",
       "2                  0  \n",
       "3                  8  \n",
       "4                  2  \n",
       "...              ...  \n",
       "1465               5  \n",
       "1466               7  \n",
       "1467               6  \n",
       "1468               9  \n",
       "1469               4  \n",
       "\n",
       "[1470 rows x 11 columns]"
      ]
     },
     "execution_count": 106,
     "metadata": {},
     "output_type": "execute_result"
    }
   ],
   "source": [
    "# Dropping the column that won't be used in this analysis\n",
    "df = df.drop(columns=['BusinessTravel', 'DailyRate', 'Education', 'EducationField', 'EmployeeCount', 'HourlyRate',\n",
    "       'JobInvolvement', 'DistanceFromHome', 'JobRole', 'MaritalStatus', 'MonthlyRate', 'NumCompaniesWorked', 'EnvironmentSatisfaction',\n",
    "       'Over18', 'PercentSalaryHike', \n",
    "       'RelationshipSatisfaction', 'StandardHours', 'StockOptionLevel', 'TrainingTimesLastYear', 'WorkLifeBalance', 'YearsInCurrentRole', 'YearsSinceLastPromotion',\n",
    "       'YearsWithCurrManager','TotalWorkingYears'])\n",
    "\n",
    "df"
   ]
  },
  {
   "cell_type": "markdown",
   "id": "0eecdddf",
   "metadata": {},
   "source": [
    "## Data Analysis and Calculation"
   ]
  },
  {
   "cell_type": "markdown",
   "id": "217cfabf",
   "metadata": {},
   "source": [
    "### Fundamental Information about the Data"
   ]
  },
  {
   "cell_type": "code",
   "execution_count": 107,
   "id": "e8e5e5e5",
   "metadata": {},
   "outputs": [
    {
     "data": {
      "text/plain": [
       "Index(['Age', 'Attrition', 'Department', 'EmployeeNumber', 'Gender',\n",
       "       'JobLevel', 'JobSatisfaction', 'MonthlyIncome', 'OverTime',\n",
       "       'PerformanceRating', 'YearsAtCompany'],\n",
       "      dtype='object')"
      ]
     },
     "execution_count": 107,
     "metadata": {},
     "output_type": "execute_result"
    }
   ],
   "source": [
    "df.columns"
   ]
  },
  {
   "cell_type": "markdown",
   "id": "7bb7aec2",
   "metadata": {},
   "source": [
    "#### Age"
   ]
  },
  {
   "cell_type": "code",
   "execution_count": 108,
   "id": "b9c18b32",
   "metadata": {},
   "outputs": [
    {
     "name": "stdout",
     "output_type": "stream",
     "text": [
      "Max Age: 60\n",
      "Min Age: 18\n",
      "Mode Age: 35\n",
      "Mean Age: 36.92\n",
      "STD Age: 9.135373489136734\n"
     ]
    }
   ],
   "source": [
    "# See the descriptive information about age\n",
    "max_age_attr = df['Age'].max()\n",
    "min_age_attr = df['Age'].min()\n",
    "mode_age_attr = df['Age'].mode()[0]\n",
    "mean_age_attr = df['Age'].mean().round(2)\n",
    "std_age_attr = df['Age'].std()\n",
    "\n",
    "print(f'Max Age: {max_age_attr}')\n",
    "print(f'Min Age: {min_age_attr}')\n",
    "print(f'Mode Age: {mode_age_attr}')\n",
    "print(f'Mean Age: {mean_age_attr}')\n",
    "print(f'STD Age: {std_age_attr}')\n"
   ]
  },
  {
   "cell_type": "markdown",
   "id": "719ad080",
   "metadata": {},
   "source": [
    "The ages of employees range from 18 to 60 years old, with a mean age of 36.9 years and a standard deviation of 9.1 years. The most common age among employees is 35, indicating that most of the workforce consists of mid-career individuals in their 30s and early 40s."
   ]
  },
  {
   "cell_type": "code",
   "execution_count": 109,
   "id": "0429ca3c",
   "metadata": {},
   "outputs": [
    {
     "data": {
      "text/plain": [
       "<Axes: ylabel='Frequency'>"
      ]
     },
     "execution_count": 109,
     "metadata": {},
     "output_type": "execute_result"
    },
    {
     "data": {
      "image/png": "[encoded data removed]",
      "text/plain": [
       "<Figure size 640x480 with 1 Axes>"
      ]
     },
     "metadata": {},
     "output_type": "display_data"
    }
   ],
   "source": [
    "# Create histogram to see Age distribution\n",
    "df['Age'].plot(kind='hist')"
   ]
  },
  {
   "cell_type": "markdown",
   "id": "334dcfba",
   "metadata": {},
   "source": [
    "#### Attrition"
   ]
  },
  {
   "cell_type": "code",
   "execution_count": 110,
   "id": "265eb51f",
   "metadata": {},
   "outputs": [
    {
     "data": {
      "text/plain": [
       "Attrition\n",
       "No     1233\n",
       "Yes     237\n",
       "Name: count, dtype: int64"
      ]
     },
     "execution_count": 110,
     "metadata": {},
     "output_type": "execute_result"
    }
   ],
   "source": [
    "# See the descriptive information about Attrition\n",
    "df['Attrition'].value_counts()"
   ]
  },
  {
   "cell_type": "code",
   "execution_count": 111,
   "id": "188e9030",
   "metadata": {},
   "outputs": [
    {
     "name": "stdout",
     "output_type": "stream",
     "text": [
      "Total Employee: 1470\n",
      "Employee Resigned: 237\n",
      "Attrition Rate: 16.12%\n"
     ]
    }
   ],
   "source": [
    "# Count only employee who resigned\n",
    "emp_resign = df[df['Attrition'] == 'Yes']\n",
    "\n",
    "# Count total employee\n",
    "total_emp = df['Attrition'].count()\n",
    "\n",
    "# Finding attrition rate\n",
    "attr_rate = (len(emp_resign) / total_emp) * 100\n",
    "\n",
    "\n",
    "print(f'Total Employee: {(total_emp)}')\n",
    "print(f'Employee Resigned: {len(emp_resign)}')\n",
    "print(f'Attrition Rate: {attr_rate:.2f}%')\n"
   ]
  },
  {
   "cell_type": "markdown",
   "id": "48cf8e0e",
   "metadata": {},
   "source": [
    "Depending on the industry, 16% is considered normal for an attrition rate."
   ]
  },
  {
   "cell_type": "markdown",
   "id": "9ac21bc1",
   "metadata": {},
   "source": [
    "#### Department"
   ]
  },
  {
   "cell_type": "code",
   "execution_count": 112,
   "id": "48ffa9b3",
   "metadata": {},
   "outputs": [
    {
     "data": {
      "text/plain": [
       "Department\n",
       "Research & Development    961\n",
       "Sales                     446\n",
       "Human Resources            63\n",
       "Name: count, dtype: int64"
      ]
     },
     "execution_count": 112,
     "metadata": {},
     "output_type": "execute_result"
    }
   ],
   "source": [
    "# See the pattern for Department\n",
    "df['Department'].value_counts()"
   ]
  },
  {
   "cell_type": "code",
   "execution_count": 113,
   "id": "393452db",
   "metadata": {},
   "outputs": [
    {
     "data": {
      "text/plain": [
       "<Axes: xlabel='Department'>"
      ]
     },
     "execution_count": 113,
     "metadata": {},
     "output_type": "execute_result"
    },
    {
     "data": {
      "image/png": "[encoded data removed]",
      "text/plain": [
       "<Figure size 640x480 with 1 Axes>"
      ]
     },
     "metadata": {},
     "output_type": "display_data"
    }
   ],
   "source": [
    "# Create a bar graph to compare no of employee per department\n",
    "df['Department'].value_counts().plot(kind='bar')"
   ]
  },
  {
   "cell_type": "markdown",
   "id": "89eeb9a7",
   "metadata": {},
   "source": [
    "There are a lot of people coming from the Research & Development team (961 employees), while the least employees coming from the Human Resource team (63 employees)"
   ]
  },
  {
   "cell_type": "markdown",
   "id": "50c83fca",
   "metadata": {},
   "source": [
    "#### Job Level"
   ]
  },
  {
   "cell_type": "code",
   "execution_count": 114,
   "id": "a2536bc1",
   "metadata": {},
   "outputs": [
    {
     "data": {
      "text/plain": [
       "JobLevel\n",
       "1    543\n",
       "2    534\n",
       "3    218\n",
       "4    106\n",
       "5     69\n",
       "Name: count, dtype: int64"
      ]
     },
     "execution_count": 114,
     "metadata": {},
     "output_type": "execute_result"
    }
   ],
   "source": [
    "# See the pattern for Department\n",
    "df['JobLevel'].value_counts()"
   ]
  },
  {
   "cell_type": "code",
   "execution_count": null,
   "id": "34f9fdb6",
   "metadata": {},
   "outputs": [
    {
     "data": {
      "text/plain": [
       "<Axes: xlabel='JobLevel'>"
      ]
     },
     "execution_count": 116,
     "metadata": {},
     "output_type": "execute_result"
    },
    {
     "data": {
      "image/png": "[encoded data removed]",
      "text/plain": [
       "<Figure size 640x480 with 1 Axes>"
      ]
     },
     "metadata": {},
     "output_type": "display_data"
    }
   ],
   "source": [
    "# Create a bar chart to see the distribution for JobLevel\n",
    "df['JobLevel'].value_counts().plot(kind='bar')"
   ]
  },
  {
   "cell_type": "markdown",
   "id": "9c319d04",
   "metadata": {},
   "source": [
    "The majority of employees are in Job Level 1 and 2, with 543 and 534 employees respectively.\n",
    "The number of employees decreases sharply at higher levels.\n",
    "\n",
    "This suggests that the organization has a broad base of entry- to mid-level employees and a smaller proportion of senior or managerial positions, which is typical for a hierarchical company structure."
   ]
  },
  {
   "cell_type": "markdown",
   "id": "c47a5938",
   "metadata": {},
   "source": [
    "#### Gender"
   ]
  },
  {
   "cell_type": "code",
   "execution_count": null,
   "id": "2b6caa2d",
   "metadata": {},
   "outputs": [
    {
     "name": "stdout",
     "output_type": "stream",
     "text": [
      "Gender\n",
      "Male      882\n",
      "Female    588\n",
      "Name: count, dtype: int64\n"
     ]
    }
   ],
   "source": [
    "# See the pattern for Gender distribution\n",
    "gender_dist = df['Gender'].value_counts()\n",
    "print(gender_dist)"
   ]
  },
  {
   "cell_type": "markdown",
   "id": "eacad8b1",
   "metadata": {},
   "source": [
    "The workforce is composed of 882 male and 588 female employees, indicating a moderate gender imbalance with a higher proportion of male employees in the company."
   ]
  },
  {
   "cell_type": "code",
   "execution_count": null,
   "id": "133a224f",
   "metadata": {},
   "outputs": [
    {
     "data": {
      "text/plain": [
       "<Axes: xlabel='Gender'>"
      ]
     },
     "execution_count": 26,
     "metadata": {},
     "output_type": "execute_result"
    },
    {
     "data": {
      "image/png": "[encoded data removed]",
      "text/plain": [
       "<Figure size 640x480 with 1 Axes>"
      ]
     },
     "metadata": {},
     "output_type": "display_data"
    }
   ],
   "source": [
    "# Create a bar graph to compare Gender distribution\n",
    "gender_dist.plot(kind='bar')"
   ]
  },
  {
   "cell_type": "markdown",
   "id": "cf53f841",
   "metadata": {},
   "source": [
    "#### Job Satisfaction"
   ]
  },
  {
   "cell_type": "code",
   "execution_count": null,
   "id": "1e679222",
   "metadata": {},
   "outputs": [
    {
     "name": "stdout",
     "output_type": "stream",
     "text": [
      "Max Satisfaction: 4\n",
      "Min Satisfaction: 1\n",
      "Mode Satisfaction: 4\n",
      "Mean Satisfaction: 2.73\n",
      "STD Satisfaction: 1.1028461230547149\n"
     ]
    }
   ],
   "source": [
    "# Inspect basic descriptive information for JobSatisfaction\n",
    "max_sats_attr = df['JobSatisfaction'].max()\n",
    "min_sats_attr = df['JobSatisfaction'].min()\n",
    "mode_sats_attr = df['JobSatisfaction'].mode()[0]\n",
    "mean_sats_attr = df['JobSatisfaction'].mean().round(2)\n",
    "std_sats_attr = df['JobSatisfaction'].std()\n",
    "\n",
    "print(f'Max Satisfaction: {max_sats_attr}')\n",
    "print(f'Min Satisfaction: {min_sats_attr}')\n",
    "print(f'Mode Satisfaction: {mode_sats_attr}')\n",
    "print(f'Mean Satisfaction: {mean_sats_attr}')\n",
    "print(f'STD Satisfaction: {std_sats_attr}')\n"
   ]
  },
  {
   "cell_type": "code",
   "execution_count": null,
   "id": "75f98fdc",
   "metadata": {},
   "outputs": [
    {
     "data": {
      "text/plain": [
       "<Axes: ylabel='Frequency'>"
      ]
     },
     "execution_count": 66,
     "metadata": {},
     "output_type": "execute_result"
    },
    {
     "data": {
      "image/png": "[encoded data removed]",
      "text/plain": [
       "<Figure size 640x480 with 1 Axes>"
      ]
     },
     "metadata": {},
     "output_type": "display_data"
    }
   ],
   "source": [
    "# Creating histogram chart for job satisfaction to see comparison\n",
    "df['JobSatisfaction'].plot(kind='hist')"
   ]
  },
  {
   "cell_type": "markdown",
   "id": "fcd54081",
   "metadata": {},
   "source": [
    "The distribution of job satisfaction levels is fairly balanced, with the majority of employees reporting satisfaction levels of 3 (satisfied) or 4 (very satisfied).\n",
    "\n",
    "Fewer employees reported low satisfaction levels (1–2), indicating that overall job satisfaction is relatively high in the company, though a small portion of the workforce may still feel disengaged."
   ]
  },
  {
   "cell_type": "markdown",
   "id": "429de0cf",
   "metadata": {},
   "source": [
    "#### Monthly Income"
   ]
  },
  {
   "cell_type": "code",
   "execution_count": null,
   "id": "0210e06d",
   "metadata": {},
   "outputs": [
    {
     "name": "stdout",
     "output_type": "stream",
     "text": [
      "Max Income: 19999\n",
      "Min Income: 1009\n",
      "Mode Income: 2342\n",
      "Mean Income: 6502.93\n",
      "STD Income: 4707.956783097995\n"
     ]
    }
   ],
   "source": [
    "# Inspect basic descriptive information for Monthly Income\n",
    "max_inco_attr = df['MonthlyIncome'].max()\n",
    "min_inco_attr = df['MonthlyIncome'].min()\n",
    "mode_inco_attr = df['MonthlyIncome'].mode()[0]\n",
    "mean_inco_attr = df['MonthlyIncome'].mean().round(2)\n",
    "std_inco_attr = df['MonthlyIncome'].std()\n",
    "\n",
    "print(f'Max Income: {max_inco_attr}')\n",
    "print(f'Min Income: {min_inco_attr}')\n",
    "print(f'Mode Income: {mode_inco_attr}')\n",
    "print(f'Mean Income: {mean_inco_attr}')\n",
    "print(f'STD Income: {std_inco_attr}')\n"
   ]
  },
  {
   "cell_type": "code",
   "execution_count": null,
   "id": "d6252d0a",
   "metadata": {},
   "outputs": [
    {
     "data": {
      "text/plain": [
       "<Axes: ylabel='Frequency'>"
      ]
     },
     "execution_count": 30,
     "metadata": {},
     "output_type": "execute_result"
    },
    {
     "data": {
      "image/png": "[encoded data removed]",
      "text/plain": [
       "<Figure size 640x480 with 1 Axes>"
      ]
     },
     "metadata": {},
     "output_type": "display_data"
    }
   ],
   "source": [
    "# Create a histogram chart to see the distribution of Monthly Income\n",
    "df['MonthlyIncome'].plot(kind='hist')"
   ]
  },
  {
   "cell_type": "markdown",
   "id": "f494023d",
   "metadata": {},
   "source": [
    "Employee monthly income ranges from $1,009 to $19,999, with an average of $6,502.93 and a standard deviation of $4,707.96.\n",
    "\n",
    "The distribution is right-skewed, indicating that most employees earn on the lower end of the income scale, while only a few receive very high salaries. This suggests a wide income gap and potential concentration of high salaries among a smaller group of employees."
   ]
  },
  {
   "cell_type": "markdown",
   "id": "1d7cfbf3",
   "metadata": {},
   "source": [
    "#### Overtime"
   ]
  },
  {
   "cell_type": "code",
   "execution_count": null,
   "id": "60a0c3a2",
   "metadata": {},
   "outputs": [
    {
     "data": {
      "text/plain": [
       "OverTime\n",
       "No     1054\n",
       "Yes     416\n",
       "Name: count, dtype: int64"
      ]
     },
     "execution_count": 31,
     "metadata": {},
     "output_type": "execute_result"
    }
   ],
   "source": [
    "# Seeing the distribution of OverTime\n",
    "df['OverTime'].value_counts()"
   ]
  },
  {
   "cell_type": "markdown",
   "id": "a4a9f36f",
   "metadata": {},
   "source": [
    "Out of all employees, 1054 do not work overtime, while 416 regularly work overtime.\n",
    "\n",
    "This indicates that a smaller segment of the workforce bears additional workload, which may potentially contribute to fatigue or higher attrition risk among those employees."
   ]
  },
  {
   "cell_type": "markdown",
   "id": "2650926c",
   "metadata": {},
   "source": [
    "#### Performance Rating"
   ]
  },
  {
   "cell_type": "code",
   "execution_count": null,
   "id": "5bdf3175",
   "metadata": {},
   "outputs": [
    {
     "name": "stdout",
     "output_type": "stream",
     "text": [
      "Max Performance: 4\n",
      "Min Performance: 3\n",
      "Mode Performance: 3\n",
      "Mean Performance: 3.15\n",
      "STD Performance: 0.36082352460434486\n"
     ]
    }
   ],
   "source": [
    "# Inspect basic descriptive information for Performance Rating\n",
    "max_perf_attr = df['PerformanceRating'].max()\n",
    "min_perf_attr = df['PerformanceRating'].min()\n",
    "mode_perf_attr = df['PerformanceRating'].mode()[0]\n",
    "mean_perf_attr = df['PerformanceRating'].mean().round(2)\n",
    "std_perf_attr = df['PerformanceRating'].std()\n",
    "\n",
    "print(f'Max Performance: {max_perf_attr}')\n",
    "print(f'Min Performance: {min_perf_attr}')\n",
    "print(f'Mode Performance: {mode_perf_attr}')\n",
    "print(f'Mean Performance: {mean_perf_attr}')\n",
    "print(f'STD Performance: {std_perf_attr}')\n"
   ]
  },
  {
   "cell_type": "code",
   "execution_count": null,
   "id": "fa39586c",
   "metadata": {},
   "outputs": [
    {
     "data": {
      "text/plain": [
       "<Axes: ylabel='Frequency'>"
      ]
     },
     "execution_count": 33,
     "metadata": {},
     "output_type": "execute_result"
    },
    {
     "data": {
      "image/png": "[encoded data removed]",
      "text/plain": [
       "<Figure size 640x480 with 1 Axes>"
      ]
     },
     "metadata": {},
     "output_type": "display_data"
    }
   ],
   "source": [
    "# Create a histogram chart to see the distribution of performance rating\n",
    "df['PerformanceRating'].plot(kind='hist')"
   ]
  },
  {
   "cell_type": "markdown",
   "id": "3264ba2c",
   "metadata": {},
   "source": [
    "Employee performance ratings range from 3 to 4, with an average of 3.15. The vast majority of employees received a rating of 3 (Good Performance), while only a small portion achieved 4 (Outstanding Performance).\n",
    "\n",
    "This limited variation in ratings suggests that the company’s performance evaluation system may be concentrated around average scores, offering limited differentiation between high and moderate performers."
   ]
  },
  {
   "cell_type": "markdown",
   "id": "5af4c282",
   "metadata": {},
   "source": [
    "#### Years At Company"
   ]
  },
  {
   "cell_type": "code",
   "execution_count": null,
   "id": "33cd981f",
   "metadata": {},
   "outputs": [
    {
     "name": "stdout",
     "output_type": "stream",
     "text": [
      "Max Tenure: 40\n",
      "Min Tenure: 0\n",
      "Mode Tenure: 5\n",
      "Mean Tenure: 7.01\n",
      "STD Tenure: 6.126525152403566\n"
     ]
    }
   ],
   "source": [
    "# Inspect basic descriptive information for Years At Company\n",
    "\n",
    "max_tenure_attr = df['YearsAtCompany'].max()\n",
    "min_tenure_attr = df['YearsAtCompany'].min()\n",
    "mode_tenure_attr = df['YearsAtCompany'].mode()[0]\n",
    "mean_tenure_attr = df['YearsAtCompany'].mean().round(2)\n",
    "std_tenure_attr = df['YearsAtCompany'].std()\n",
    "\n",
    "print(f'Max Tenure: {max_tenure_attr}')\n",
    "print(f'Min Tenure: {min_tenure_attr}')\n",
    "print(f'Mode Tenure: {mode_tenure_attr}')\n",
    "print(f'Mean Tenure: {mean_tenure_attr}')\n",
    "print(f'STD Tenure: {std_tenure_attr}')\n"
   ]
  },
  {
   "cell_type": "code",
   "execution_count": null,
   "id": "d6d4cddc",
   "metadata": {},
   "outputs": [
    {
     "data": {
      "text/plain": [
       "<Axes: ylabel='Frequency'>"
      ]
     },
     "execution_count": 35,
     "metadata": {},
     "output_type": "execute_result"
    },
    {
     "data": {
      "image/png": "[encoded data removed]",
      "text/plain": [
       "<Figure size 640x480 with 1 Axes>"
      ]
     },
     "metadata": {},
     "output_type": "display_data"
    }
   ],
   "source": [
    "# Creating a histogram chart for YearsAtCompany to see the distribution\n",
    "df['YearsAtCompany'].plot(kind='hist')"
   ]
  },
  {
   "cell_type": "markdown",
   "id": "fe8d775c",
   "metadata": {},
   "source": [
    "Employee tenure ranges from 0 to 40 years, with an average of 7.0 years and a mode of 5 years.\n",
    "The distribution is right-skewed, showing that most employees have less than 10 years of experience in the company.\n",
    "\n",
    "This suggests that the organization has a relatively new workforce, with fewer long-tenured employees who have stayed beyond 15 years."
   ]
  },
  {
   "cell_type": "markdown",
   "id": "f59cfbbc",
   "metadata": {},
   "source": [
    "### How is the attrition rate distributed across different departments?  "
   ]
  },
  {
   "cell_type": "code",
   "execution_count": null,
   "id": "78f07191",
   "metadata": {},
   "outputs": [
    {
     "name": "stdout",
     "output_type": "stream",
     "text": [
      "Department              Attrition\n",
      "Human Resources         No            51\n",
      "                        Yes           12\n",
      "Research & Development  No           828\n",
      "                        Yes          133\n",
      "Sales                   No           354\n",
      "                        Yes           92\n",
      "Name: count, dtype: int64\n"
     ]
    }
   ],
   "source": [
    "# Seeing the distribution of no of attrition per department\n",
    "attr_count_dept = df.groupby('Department')['Attrition'].value_counts()\n",
    "print(attr_count_dept)\n"
   ]
  },
  {
   "cell_type": "code",
   "execution_count": null,
   "id": "5f79786a",
   "metadata": {},
   "outputs": [
    {
     "data": {
      "text/plain": [
       "<Axes: xlabel='Department,Attrition'>"
      ]
     },
     "execution_count": 45,
     "metadata": {},
     "output_type": "execute_result"
    },
    {
     "data": {
      "image/png": "[encoded data removed]",
      "text/plain": [
       "<Figure size 640x480 with 1 Axes>"
      ]
     },
     "metadata": {},
     "output_type": "display_data"
    }
   ],
   "source": [
    "# Create bar chart to compare the numbers\n",
    "attr_count_dept.plot(kind='bar')"
   ]
  },
  {
   "cell_type": "markdown",
   "id": "127adf70",
   "metadata": {},
   "source": [
    "The Research & Development department has the highest total number of employees and the most attrition cases (133), followed by Sales (92) and Human Resources (12).\n",
    "\n",
    "While attrition is proportionally lower in HR, the larger workforce in R&D and Sales means those areas experience a higher overall number of resignations, suggesting they may need targeted retention strategies (e.g., workload management, career growth programs, or engagement initiatives)."
   ]
  },
  {
   "cell_type": "code",
   "execution_count": null,
   "id": "305531ac",
   "metadata": {},
   "outputs": [
    {
     "name": "stdout",
     "output_type": "stream",
     "text": [
      "Department\n",
      "Human Resources           19.05\n",
      "Research & Development    13.84\n",
      "Sales                     20.63\n",
      "Name: Attrition, dtype: float64\n"
     ]
    }
   ],
   "source": [
    "# Counting the total employee per department\n",
    "total_per_dept = df.groupby('Department')['Attrition'].count()\n",
    "\n",
    "# Counting the total employee who left per department\n",
    "yes_per_dept = df[df['Attrition'] == 'Yes'].groupby('Department')['Attrition'].count()\n",
    "\n",
    "# Calculating the attrition rate per department\n",
    "attr_rate_dept = (yes_per_dept / total_per_dept) * 100\n",
    "attr_rate_dept = attr_rate_dept.round(2)   # rounding 2 numbers\n",
    "print(attr_rate_dept)\n"
   ]
  },
  {
   "cell_type": "code",
   "execution_count": null,
   "id": "9c25cc33",
   "metadata": {},
   "outputs": [
    {
     "data": {
      "image/png": "[encoded data removed]",
      "text/plain": [
       "<Figure size 640x480 with 1 Axes>"
      ]
     },
     "metadata": {},
     "output_type": "display_data"
    }
   ],
   "source": [
    "# Visualizing the attrition rate per department\n",
    "attr_rate_dept.plot(kind='bar')\n",
    "for index, value in enumerate(attr_rate_dept):\n",
    "    plt.text(index, value + 0.5, f'{value:.2f}%', ha='center')"
   ]
  },
  {
   "cell_type": "markdown",
   "id": "6be471e7",
   "metadata": {},
   "source": [
    "The Sales Department has the highest attrition rate at 20.63%, followed by Human Resources (19.05%), and Research & Development (13.84%).\n",
    "\n",
    "This indicates that Sales team is more likely to leave compared to other departments. The higher turnover in Sales could be linked to job pressure, performance-based incentives, or external career opportunities. On the other hand, the lower attrition in R&D suggests better retention and job stability among technical staff."
   ]
  },
  {
   "cell_type": "markdown",
   "id": "9b289c3f",
   "metadata": {},
   "source": [
    "### Is there any differences in attrition patterns based on gender?  "
   ]
  },
  {
   "cell_type": "code",
   "execution_count": null,
   "id": "b47202bb",
   "metadata": {},
   "outputs": [
    {
     "data": {
      "text/plain": [
       "Gender\n",
       "Male      150\n",
       "Female     87\n",
       "Name: count, dtype: int64"
      ]
     },
     "execution_count": 48,
     "metadata": {},
     "output_type": "execute_result"
    }
   ],
   "source": [
    "# Analyzing the distribution of Gender\n",
    "df[df['Attrition'] == 'Yes']['Gender'].value_counts()"
   ]
  },
  {
   "cell_type": "markdown",
   "id": "88aefc25",
   "metadata": {},
   "source": [
    "While the number of male employees who left the company is higher than that of female employees, this difference alone does not necessarily indicate a significant relationship between gender and attrition.\n",
    "To determine whether gender truly influences attrition, a statistical test such as the Chi-Square Test of Independence is required to assess whether the difference is statistically significant or simply due to chance."
   ]
  },
  {
   "cell_type": "code",
   "execution_count": 49,
   "id": "42e7dad9",
   "metadata": {},
   "outputs": [
    {
     "data": {
      "image/png": "[encoded data removed]",
      "text/plain": [
       "<Figure size 640x480 with 1 Axes>"
      ]
     },
     "metadata": {},
     "output_type": "display_data"
    }
   ],
   "source": [
    "# Count how many Yes/No attrition per gender\n",
    "gender_attr = df.groupby(['Gender', 'Attrition']).size().reset_index(name='Count')\n",
    "\n",
    "# Plot\n",
    "sns.barplot(data=gender_attr, x='Gender', y='Count', hue='Attrition')\n",
    "plt.title(\"Attrition Count by Gender\")\n",
    "plt.legend(bbox_to_anchor=(1,1))\n",
    "plt.show()\n"
   ]
  },
  {
   "cell_type": "code",
   "execution_count": 50,
   "id": "c39c3b51",
   "metadata": {},
   "outputs": [
    {
     "data": {
      "text/html": [
       "<div>\n",
       "<style scoped>\n",
       "    .dataframe tbody tr th:only-of-type {\n",
       "        vertical-align: middle;\n",
       "    }\n",
       "\n",
       "    .dataframe tbody tr th {\n",
       "        vertical-align: top;\n",
       "    }\n",
       "\n",
       "    .dataframe thead th {\n",
       "        text-align: right;\n",
       "    }\n",
       "</style>\n",
       "<table border=\"1\" class=\"dataframe\">\n",
       "  <thead>\n",
       "    <tr style=\"text-align: right;\">\n",
       "      <th>Gender</th>\n",
       "      <th>Female</th>\n",
       "      <th>Male</th>\n",
       "    </tr>\n",
       "    <tr>\n",
       "      <th>Attrition</th>\n",
       "      <th></th>\n",
       "      <th></th>\n",
       "    </tr>\n",
       "  </thead>\n",
       "  <tbody>\n",
       "    <tr>\n",
       "      <th>No</th>\n",
       "      <td>501</td>\n",
       "      <td>732</td>\n",
       "    </tr>\n",
       "    <tr>\n",
       "      <th>Yes</th>\n",
       "      <td>87</td>\n",
       "      <td>150</td>\n",
       "    </tr>\n",
       "  </tbody>\n",
       "</table>\n",
       "</div>"
      ],
      "text/plain": [
       "Gender     Female  Male\n",
       "Attrition              \n",
       "No            501   732\n",
       "Yes            87   150"
      ]
     },
     "execution_count": 50,
     "metadata": {},
     "output_type": "execute_result"
    }
   ],
   "source": [
    "# Preparing contingency table for Chi-Square Analysis\n",
    "contingency_table = pd.crosstab(df['Attrition'],df['Gender'])\n",
    "contingency_table"
   ]
  },
  {
   "cell_type": "code",
   "execution_count": 51,
   "id": "6f3569f5",
   "metadata": {},
   "outputs": [
    {
     "name": "stdout",
     "output_type": "stream",
     "text": [
      "P-value: 0.29057244902890855\n"
     ]
    }
   ],
   "source": [
    "# Doing the Chi-Square Analysis\n",
    "res = stats.chi2_contingency(contingency_table)\n",
    "print(\"P-value:\",res.pvalue)"
   ]
  },
  {
   "cell_type": "markdown",
   "id": "b36e74fe",
   "metadata": {},
   "source": [
    "Since the p-value (0.29) > 0.05, there is no statistically significant relationship between Gender and Attrition. Thus, we can't dismiss H0.\n",
    "\n",
    "Although the raw numbers show that more male employees left compared to females, the difference is not large enough to conclude that gender affects attrition.\n",
    "\n",
    "In other words, attrition appears to be gender-neutral in this dataset."
   ]
  },
  {
   "cell_type": "markdown",
   "id": "112fa013",
   "metadata": {},
   "source": [
    "### Do employees who work overtime tend to have a higher likelihood of attrition compared to those who do not?  "
   ]
  },
  {
   "cell_type": "code",
   "execution_count": null,
   "id": "fa5a4269",
   "metadata": {},
   "outputs": [
    {
     "name": "stdout",
     "output_type": "stream",
     "text": [
      "OverTime  Attrition\n",
      "No        No           944\n",
      "          Yes          110\n",
      "Yes       No           289\n",
      "          Yes          127\n",
      "Name: count, dtype: int64\n"
     ]
    }
   ],
   "source": [
    "# Analyzing the distribution of OverTime and Attrition\n",
    "attr_count = df.groupby('OverTime')['Attrition'].value_counts()\n",
    "print(attr_count)\n"
   ]
  },
  {
   "cell_type": "code",
   "execution_count": null,
   "id": "cf788081",
   "metadata": {},
   "outputs": [
    {
     "data": {
      "text/plain": [
       "<Axes: xlabel='OverTime,Attrition'>"
      ]
     },
     "execution_count": 53,
     "metadata": {},
     "output_type": "execute_result"
    },
    {
     "data": {
      "image/png": "[encoded data removed]",
      "text/plain": [
       "<Figure size 640x480 with 1 Axes>"
      ]
     },
     "metadata": {},
     "output_type": "display_data"
    }
   ],
   "source": [
    "#Create a bar chart to see the distribution\n",
    "attr_count.plot(kind='bar')"
   ]
  },
  {
   "cell_type": "markdown",
   "id": "66e93da9",
   "metadata": {},
   "source": [
    "From the chart, we can observe that some employees who left the company worked overtime, while others did not. However, this visual alone does not provide enough information to determine whether overtime is actually related to attrition.\n",
    "\n",
    "To explore this relationship more accurately, we can perform a Chi-Square Test of Independence, which is suitable for assessing the association between two categorical variables — in this case, OverTime and Attrition."
   ]
  },
  {
   "cell_type": "code",
   "execution_count": null,
   "id": "e26c72fb",
   "metadata": {},
   "outputs": [
    {
     "data": {
      "text/html": [
       "<div>\n",
       "<style scoped>\n",
       "    .dataframe tbody tr th:only-of-type {\n",
       "        vertical-align: middle;\n",
       "    }\n",
       "\n",
       "    .dataframe tbody tr th {\n",
       "        vertical-align: top;\n",
       "    }\n",
       "\n",
       "    .dataframe thead th {\n",
       "        text-align: right;\n",
       "    }\n",
       "</style>\n",
       "<table border=\"1\" class=\"dataframe\">\n",
       "  <thead>\n",
       "    <tr style=\"text-align: right;\">\n",
       "      <th>OverTime</th>\n",
       "      <th>No</th>\n",
       "      <th>Yes</th>\n",
       "    </tr>\n",
       "    <tr>\n",
       "      <th>Attrition</th>\n",
       "      <th></th>\n",
       "      <th></th>\n",
       "    </tr>\n",
       "  </thead>\n",
       "  <tbody>\n",
       "    <tr>\n",
       "      <th>No</th>\n",
       "      <td>944</td>\n",
       "      <td>289</td>\n",
       "    </tr>\n",
       "    <tr>\n",
       "      <th>Yes</th>\n",
       "      <td>110</td>\n",
       "      <td>127</td>\n",
       "    </tr>\n",
       "  </tbody>\n",
       "</table>\n",
       "</div>"
      ],
      "text/plain": [
       "OverTime    No  Yes\n",
       "Attrition          \n",
       "No         944  289\n",
       "Yes        110  127"
      ]
     },
     "execution_count": 54,
     "metadata": {},
     "output_type": "execute_result"
    }
   ],
   "source": [
    "# Create a contingency table to see the statistical comparison for Attrition and Overtime\n",
    "contingency_table = pd.crosstab(df['Attrition'],df['OverTime'])\n",
    "contingency_table"
   ]
  },
  {
   "cell_type": "code",
   "execution_count": null,
   "id": "6a0ea8a9",
   "metadata": {},
   "outputs": [
    {
     "name": "stdout",
     "output_type": "stream",
     "text": [
      "P-value: 8.15842372153832e-21\n"
     ]
    }
   ],
   "source": [
    "# Finding the p-value for Chi-Square analysis\n",
    "res = stats.chi2_contingency(contingency_table)\n",
    "print(\"P-value:\",res.pvalue)"
   ]
  },
  {
   "cell_type": "markdown",
   "id": "f7a98851",
   "metadata": {},
   "source": [
    "Since the p-value (8.16e-21) is much smaller than 0.05, we can conclude that there is a statistically significant relationship between OverTime and Attrition.\n",
    "\n",
    "Employees who work overtime are significantly more likely to leave the company than those who do not.\n",
    "This suggests that workload and work-life balance could be key factors driving attrition within the organization."
   ]
  },
  {
   "cell_type": "markdown",
   "id": "4a3ab3a7",
   "metadata": {},
   "source": [
    "### How is the job level distribution for employee who left?  (Chart)"
   ]
  },
  {
   "cell_type": "code",
   "execution_count": 120,
   "id": "ec419882",
   "metadata": {},
   "outputs": [
    {
     "name": "stdout",
     "output_type": "stream",
     "text": [
      "JobLevel\n",
      "1    143\n",
      "2     52\n",
      "3     32\n",
      "5      5\n",
      "4      5\n",
      "Name: count, dtype: int64\n"
     ]
    }
   ],
   "source": [
    "# Analyze the distribution for Attrition per level\n",
    "attr_joblevel = df[df['Attrition'] == 'Yes']['JobLevel'].value_counts()\n",
    "\n",
    "print(attr_joblevel)\n",
    "\n"
   ]
  },
  {
   "cell_type": "code",
   "execution_count": 121,
   "id": "a070152e",
   "metadata": {},
   "outputs": [
    {
     "data": {
      "text/plain": [
       "<Axes: xlabel='JobLevel'>"
      ]
     },
     "execution_count": 121,
     "metadata": {},
     "output_type": "execute_result"
    },
    {
     "data": {
      "image/png": "[encoded data removed]",
      "text/plain": [
       "<Figure size 640x480 with 1 Axes>"
      ]
     },
     "metadata": {},
     "output_type": "display_data"
    }
   ],
   "source": [
    "# Creating a bar chart to see the JobLevel distribution between people who left\n",
    "attr_joblevel.plot(kind='bar')"
   ]
  },
  {
   "cell_type": "markdown",
   "id": "7f042d8a",
   "metadata": {},
   "source": [
    "We can see that most employees who left the company are entry-level employees (Job Level 1), followed by those in Job Level 2.  \n",
    "Attrition drops sharply in higher job levels, with only a small number of departures among senior and managerial employees (Levels 4 and 5).  \n",
    "\n",
    "This pattern is common across organizations, early-career employees tend to have higher turnover rates due to career exploration, lower pay, or a search for better opportunities.  "
   ]
  },
  {
   "cell_type": "markdown",
   "id": "fcc4a338",
   "metadata": {},
   "source": [
    "### How does the monthly income distribution for people who left?"
   ]
  },
  {
   "cell_type": "code",
   "execution_count": null,
   "id": "0ee73aa2",
   "metadata": {},
   "outputs": [
    {
     "name": "stdout",
     "output_type": "stream",
     "text": [
      "Mean Salary: 4787.09\n",
      "Mode Salary: 2293\n",
      "Median Salary: 3202.0\n",
      "STD Salary: 3640.2103671038512\n"
     ]
    }
   ],
   "source": [
    "# Analyzing the descriptive aspect of Monthly Income\n",
    "left_mean_salary = df[df['Attrition'] == \"Yes\"]['MonthlyIncome'].mean().round(2)\n",
    "left_mode_salary = df[df['Attrition'] == \"Yes\"]['MonthlyIncome'].mode().values[0]\n",
    "left_median_salary = df[df['Attrition'] == \"Yes\"]['MonthlyIncome'].median()\n",
    "left_std_salary = df[df['Attrition'] == \"Yes\"]['MonthlyIncome'].std()\n",
    "\n",
    "print(f'Mean Salary: {left_mean_salary}')\n",
    "print(f'Mode Salary: {left_mode_salary}')\n",
    "print(f'Median Salary: {left_median_salary}')\n",
    "print(f'STD Salary: {left_std_salary}')"
   ]
  },
  {
   "cell_type": "markdown",
   "id": "16479050",
   "metadata": {},
   "source": [
    "Among employees who left the company, the average monthly salary was $4,787, with a median of $3,202 and a mode of $2,293.\n",
    "The standard deviation of $3,640 indicates a wide variation in income levels, suggesting that attrition occurred across different salary ranges."
   ]
  },
  {
   "cell_type": "code",
   "execution_count": null,
   "id": "f02c8600",
   "metadata": {},
   "outputs": [
    {
     "data": {
      "text/plain": [
       "<Axes: ylabel='Frequency'>"
      ]
     },
     "execution_count": 73,
     "metadata": {},
     "output_type": "execute_result"
    },
    {
     "data": {
      "image/png": "[encoded data removed]",
      "text/plain": [
       "<Figure size 640x480 with 1 Axes>"
      ]
     },
     "metadata": {},
     "output_type": "display_data"
    }
   ],
   "source": [
    "# Creating a histogram chart to see the distribution of Monthly Income for people who left\n",
    "df[df['Attrition'] == \"Yes\"]['MonthlyIncome'].plot(kind='hist')"
   ]
  },
  {
   "cell_type": "code",
   "execution_count": 124,
   "id": "d446b331",
   "metadata": {},
   "outputs": [
    {
     "data": {
      "text/plain": [
       "<Axes: >"
      ]
     },
     "execution_count": 124,
     "metadata": {},
     "output_type": "execute_result"
    },
    {
     "data": {
      "image/png": "[encoded data removed]",
      "text/plain": [
       "<Figure size 640x480 with 1 Axes>"
      ]
     },
     "metadata": {},
     "output_type": "display_data"
    }
   ],
   "source": [
    "# Generating the box plot for the distribution\n",
    "df[df['Attrition'] == 'Yes'][\"MonthlyIncome\"].plot(kind='box')"
   ]
  },
  {
   "cell_type": "code",
   "execution_count": 125,
   "id": "db7bfa51",
   "metadata": {},
   "outputs": [
    {
     "name": "stdout",
     "output_type": "stream",
     "text": [
      "p-value: 1.5025414983521112e-17\n",
      "Skewness: 1.9211469079285477\n",
      "Kurtosis: 4.181844867188367\n"
     ]
    }
   ],
   "source": [
    "# Normality Test using D'Agostino K^2 Test\n",
    "res = stats.shapiro(df[df['Attrition'] == 'Yes'][\"MonthlyIncome\"])\n",
    "print(f'p-value: {res.pvalue}')\n",
    "\n",
    "# Analyzing the Skewness and Kurtosis level\n",
    "print(f\"Skewness: {df[df['Attrition'] == 'Yes'][\"MonthlyIncome\"].skew()}\")\n",
    "print(f\"Kurtosis: {df[df['Attrition'] == 'Yes'][\"MonthlyIncome\"].kurtosis()}\")"
   ]
  },
  {
   "cell_type": "markdown",
   "id": "41dd7b22",
   "metadata": {},
   "source": [
    "The very small p-value (< 0.05) indicates that the data significantly deviates from a normal distribution.\n",
    "\n",
    "The positive skewness (1.92) suggests that the distribution is right-skewed, meaning most employees who left earned below the average, while a few earned much higher salaries.\n",
    "\n",
    "The kurtosis value (4.18), which is higher than 3, shows that the distribution is leptokurtic, which means having a sharper peak and heavier tails than a normal curve.\n",
    "\n",
    "In simpler terms, most employees who left the company had relatively low salaries, but there are a few high-income outliers pulling the average upward."
   ]
  },
  {
   "cell_type": "markdown",
   "id": "4f9d28d6",
   "metadata": {},
   "source": [
    "### Can Monthly Income predict Attrition? (using Logistic Regression analysis)\n"
   ]
  },
  {
   "cell_type": "code",
   "execution_count": 126,
   "id": "d45e4304",
   "metadata": {},
   "outputs": [
    {
     "name": "stdout",
     "output_type": "stream",
     "text": [
      "Optimization terminated successfully.\n",
      "         Current function value: 0.426223\n",
      "         Iterations 7\n",
      "                           Logit Regression Results                           \n",
      "==============================================================================\n",
      "Dep. Variable:          Attrition_num   No. Observations:                 1470\n",
      "Model:                          Logit   Df Residuals:                     1468\n",
      "Method:                           MLE   Df Model:                            1\n",
      "Date:                Thu, 09 Oct 2025   Pseudo R-squ.:                 0.03503\n",
      "Time:                        09:22:34   Log-Likelihood:                -626.55\n",
      "converged:                       True   LL-Null:                       -649.29\n",
      "Covariance Type:            nonrobust   LLR p-value:                 1.537e-11\n",
      "=================================================================================\n",
      "                    coef    std err          z      P>|z|      [0.025      0.975]\n",
      "---------------------------------------------------------------------------------\n",
      "const            -0.9291      0.129     -7.191      0.000      -1.182      -0.676\n",
      "MonthlyIncome    -0.0001   2.16e-05     -5.879      0.000      -0.000   -8.47e-05\n",
      "=================================================================================\n"
     ]
    }
   ],
   "source": [
    "import statsmodels.api as sm\n",
    "\n",
    "# Encode Attrition to numeric\n",
    "df['Attrition_num'] = df['Attrition'].map({'Yes': 1, 'No': 0})\n",
    "\n",
    "# Add constant\n",
    "X = sm.add_constant(df['MonthlyIncome'])\n",
    "y = df['Attrition_num']\n",
    "\n",
    "# Fit logistic regression model\n",
    "model = sm.Logit(y, X).fit()\n",
    "print(model.summary())"
   ]
  },
  {
   "cell_type": "markdown",
   "id": "d2d7ce1c",
   "metadata": {},
   "source": [
    "The logistic regression analysis indicates that Monthly Income significantly predicts Attrition (p < 0.001).\n",
    "The negative coefficient (-0.0001) means that as an employee’s monthly income increases, the likelihood of leaving the company decreases.\n",
    "\n",
    "In other words, employees with lower salaries are more likely to resign, highlighting the potential impact of compensation and financial satisfaction on retention."
   ]
  },
  {
   "cell_type": "code",
   "execution_count": 127,
   "id": "2cd3e8fa",
   "metadata": {},
   "outputs": [
    {
     "name": "stdout",
     "output_type": "stream",
     "text": [
      "Optimization terminated successfully.\n",
      "         Current function value: 0.426223\n",
      "         Iterations 7\n"
     ]
    },
    {
     "data": {
      "image/png": "[encoded data removed]",
      "text/plain": [
       "<Figure size 800x500 with 1 Axes>"
      ]
     },
     "metadata": {},
     "output_type": "display_data"
    }
   ],
   "source": [
    "import seaborn as sns\n",
    "import matplotlib.pyplot as plt\n",
    "import numpy as np\n",
    "import pandas as pd\n",
    "import statsmodels.api as sm\n",
    "\n",
    "# Prepare the data\n",
    "df['Attrition_num'] = df['Attrition'].map({'Yes': 1, 'No': 0})\n",
    "\n",
    "# Fit the logistic model\n",
    "X = sm.add_constant(df['MonthlyIncome'])\n",
    "y = df['Attrition_num']\n",
    "model = sm.Logit(y, X).fit()\n",
    "\n",
    "# Predict probabilities\n",
    "df['Predicted_Prob'] = model.predict(X)\n",
    "\n",
    "# Plot the logistic regression curve\n",
    "plt.figure(figsize=(8,5))\n",
    "sns.scatterplot(data=df, x='MonthlyIncome', y='Attrition_num', alpha=0.3, color='gray', label='Actual')\n",
    "sns.lineplot(data=df.sort_values('MonthlyIncome'), x='MonthlyIncome', y='Predicted_Prob', color='red', label='Predicted Probability')\n",
    "\n",
    "plt.title('Logistic Regression: Probability of Attrition by Monthly Income', fontsize=14, weight='bold')\n",
    "plt.xlabel('Monthly Income ($)')\n",
    "plt.ylabel('Probability of Attrition')\n",
    "plt.legend()\n",
    "plt.show()\n"
   ]
  },
  {
   "cell_type": "markdown",
   "id": "d09d35d0",
   "metadata": {},
   "source": [
    "## **Summary**"
   ]
  },
  {
   "cell_type": "markdown",
   "id": "1d54d803",
   "metadata": {},
   "source": [
    "Based on the analysis, several key factors were identified as contributors to employee attrition within the company. The Sales Department shows the highest attrition rate (20.63%), followed by Human Resources (19.05%) and Research & Development (13.84%). This suggests that Sales employees are more vulnerable to leaving, potentially due to high performance pressure, demanding targets, or better external career opportunities.\n",
    "\n",
    "The Chi-Square Test found no significant relationship between Gender and Attrition (p = 0.29), indicating that attrition is gender-neutral. However, a significant relationship was found between OverTime and Attrition (p = 8.16e-21), suggesting that employees who frequently work overtime are more likely to leave. This highlights the need for the company to promote a healthier work–life balance and review overtime policies.\n",
    "\n",
    "In terms of Job Level, most employees who resigned were from entry-level positions (Levels 1 and 2). This is consistent with typical turnover patterns where early-career employees seek higher pay, career advancement, or skill development.\n",
    "\n",
    "The analysis of Monthly Income shows that the salary distribution among employees who left is non-normal (p < 0.05), with most earning below the average. Logistic regression further confirms that income significantly predicts attrition (p < 0.001), which indicates employees with higher salaries are less likely to leave.\n",
    "\n",
    "Overall, the results indicate that compensation, workload, and career progression are the main drivers of attrition. To improve employee retention, the company is advised to:\n",
    "\n",
    "1. Review and adjust the salary structure to remain competitive in the market.\n",
    "2. Enhance career development opportunities, especially for entry-level employees.\n",
    "3. Promote work–life balance by optimizing overtime and workload management.\n",
    "\n",
    "Implementing these strategies will help the company reduce turnover, increase employee satisfaction, and build a more sustainable workforce."
   ]
  }
 ],
 "metadata": {
  "kernelspec": {
   "display_name": "Hacktiv8",
   "language": "python",
   "name": "python3"
  },
  "language_info": {
   "codemirror_mode": {
    "name": "ipython",
    "version": 3
   },
   "file_extension": ".py",
   "mimetype": "text/x-python",
   "name": "python",
   "nbconvert_exporter": "python",
   "pygments_lexer": "ipython3",
   "version": "3.13.5"
  }
 },
 "nbformat": 4,
 "nbformat_minor": 5
}
