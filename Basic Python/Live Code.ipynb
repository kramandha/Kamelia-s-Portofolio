{
  "nbformat": 4,
  "nbformat_minor": 0,
  "metadata": {
    "colab": {
      "provenance": []
    },
    "kernelspec": {
      "name": "python3",
      "display_name": "Python 3"
    },
    "language_info": {
      "name": "python"
    }
  },
  "cells": [
    {
      "cell_type": "markdown",
      "source": [
        "# **Live Code 2**\n",
        "\n",
        "Nama  : Kamelia Ramandha\n",
        "\n",
        "Batch : CODA-RMT-010\n",
        "\n",
        "Program ini dibuat untuk melakukan perhitungan terhadap gaji karyawan dan pengeluaran perusahaan untuk membayarkan gaji tersebut.\n"
      ],
      "metadata": {
        "id": "imNQ3xK5Ki91"
      }
    },
    {
      "cell_type": "markdown",
      "source": [
        "## Objective 1: Perhitungan Gaji Karyawan\n",
        "\n",
        "Sebuah perusahaan memiliki berbagai jenis karyawan dengan tingkat gaji yang berbeda. Mereka ingin menghitung penghasilan bulanan karyawan berdasarkan jam kerja dan jenis pekerjaan. Bantulah perusahaan ini dengan membuat program Python dan fungsi-fungsi berikut:\n",
        "\n",
        "Buatlah fungsi hitung_penghasilan yang dapat menghitung penghasilan bulanan karyawan berdasarkan tingkat gaji dan ketentuan berikut:\n",
        "\n",
        "1. Manager: Rp. 10,000,000. per bulan\n",
        "2. Staff: Rp. 5,000,000. per bulan\n",
        "3. Kasir: Rp. 4,000,000. per bulan\n",
        "\n",
        "\n",
        "Selain gaji tetap, karyawan juga akan menerima gaji lembur sebesar Rp. 20,000 per jam untuk setiap jam kerja di atas 40 jam per minggu. (Hint: buat dictionary untuk menyimpan informasi gaji berdasarkan tingkatan karyawan, lalu periksa apakah jam kerja lebih dari 40 jam perminggu atau tidak, jika iya hitung uang lembur)"
      ],
      "metadata": {
        "id": "rEiP4jiILdLx"
      }
    },
    {
      "cell_type": "code",
      "source": [
        "list_gaji = {'manager':10000000, 'staff':5000000, 'kasir': 4000000} #membuat dictionary untuk list gaji per posisi\n",
        "\n",
        "def hitung_penghasilan(posisi, jam):\n",
        "  ''' fungsi ini digunakan untuk menghitung gaji bulanan karyawan, baik mereka mendapatkan uang lembur maupun tidak '''\n",
        "  posisi = posisi.lower() #mengubah posisi menjadi lowercase untuk menghindari typo\n",
        "  gaji = list_gaji.get(posisi, 0) #mengambil gaji dari dictionary menggunakan posisi yang dimasukan dalam function\n",
        "  jam = int(jam) #mengubah jam menjadi integer\n",
        "\n",
        "  #membuat perhitungan untuk jam kerja lebih besar dari 40 jam untuk perhitungan uang lembur\n",
        "  if jam > 40:\n",
        "    total_gaji = gaji + ((jam - 40) * 20000) #melakukan perhitungan uang lembur\n",
        "\n",
        "  #membuat perhitungan jika jam sama dengan atau lebih kecil dari 40 jam\n",
        "  elif jam <= 40 and jam > 0:\n",
        "    total_gaji = gaji\n",
        "\n",
        "  else:\n",
        "    print('data invalid')\n",
        "\n",
        "  return total_gaji\n"
      ],
      "metadata": {
        "id": "2bjESNbSLtPG"
      },
      "execution_count": 104,
      "outputs": []
    },
    {
      "cell_type": "code",
      "source": [
        "# Contoh perhitungan menggunakan function perhitungan_gaji\n",
        "\n",
        "perhitungan_gaji('manager', 10)"
      ],
      "metadata": {
        "colab": {
          "base_uri": "https://localhost:8080/"
        },
        "id": "I87QsO_OO_Sx",
        "outputId": "079eb12f-78b0-4af2-d01b-819df8aeae8a"
      },
      "execution_count": 102,
      "outputs": [
        {
          "output_type": "execute_result",
          "data": {
            "text/plain": [
              "10000000"
            ]
          },
          "metadata": {},
          "execution_count": 102
        }
      ]
    },
    {
      "cell_type": "markdown",
      "source": [
        "## Objective 2: Total Pengeluaran Perusahaan per Bulan\n",
        "\n",
        "Buatlah fungsi total_pengeluaran yang menerima daftar karyawan beserta jumlah jam kerja mereka per minggu. Fungsi ini harus mengembalikan total pengeluaran bulanan perusahaan untuk membayar semua karyawan. (Hint: Gunakan for loop untuk menjawab pertanyaan ini. Hitung tiap data yang ada di daftar karyawan dengan memanfaatkan fungsi hitung_penghasilan)."
      ],
      "metadata": {
        "id": "q2OM7247PKFb"
      }
    },
    {
      "cell_type": "code",
      "source": [
        "def total_pengeluaran(daftar_karyawan):\n",
        "  ''' fungsi ini digunakan untuk menghitung pengeluaran perusahaan untuk pembayaran gaji karyawan per bulan'''\n",
        "\n",
        "  total = 0\n",
        "\n",
        "  #membuat for loop untuk memproses karyawan pada list\n",
        "  for karyawan in daftar_karyawan:\n",
        "    posisi = karyawan['posisi'] #mengambil data posisi\n",
        "    jam = karyawan['jam'] #mengambil data jam kerja\n",
        "    total += hitung_penghasilan(posisi, jam) #menambahkan gaji karyawan ke dalam total pengeluaran\n",
        "\n",
        "  return total"
      ],
      "metadata": {
        "id": "o6COoeVMWKYc"
      },
      "execution_count": 103,
      "outputs": []
    },
    {
      "cell_type": "code",
      "source": [
        "# Contoh perhitungan menggunakan function total_pengeluaran\n",
        "\n",
        "daftar_karyawan = [\n",
        "          {'posisi': 'manager', 'jam': 45},\n",
        "          {'posisi': 'staff', 'jam': 42},\n",
        "          {'posisi': 'kasir', 'jam': 50},\n",
        "          {'posisi': 'staff', 'jam': 50}\n",
        "         ]\n",
        "\n",
        "total_pengeluaran(daftar_karyawan)"
      ],
      "metadata": {
        "colab": {
          "base_uri": "https://localhost:8080/"
        },
        "id": "AqJPei-bXmQb",
        "outputId": "1ffb272e-ed8e-434d-cbd0-469bf9721d21"
      },
      "execution_count": 105,
      "outputs": [
        {
          "output_type": "execute_result",
          "data": {
            "text/plain": [
              "24540000"
            ]
          },
          "metadata": {},
          "execution_count": 105
        }
      ]
    }
  ]
}